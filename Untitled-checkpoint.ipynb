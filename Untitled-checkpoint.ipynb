{
 "cells": [
  {
   "cell_type": "code",
   "execution_count": 3,
   "id": "3822cfc4",
   "metadata": {},
   "outputs": [],
   "source": [
    "import pandas as pd\n",
    "import numpy as np\n",
    "import matplotlib.pyplot as plt\n",
    "import seaborn as sns\n",
    "import plotly.express as px"
   ]
  },
  {
   "cell_type": "code",
   "execution_count": 4,
   "id": "802ffb1c",
   "metadata": {},
   "outputs": [],
   "source": [
    "customers_data = pd.read_csv('D:/Epsilon AI/week 23/shopping cart/customers.csv')\n",
    "orders_data = pd.read_csv('D:/Epsilon AI/week 23/shopping cart/orders.csv')\n",
    "products_data = pd.read_csv('D:/Epsilon AI/week 23/shopping cart/products.csv')\n",
    "sales_data = pd.read_csv('D:/Epsilon AI/week 23/shopping cart/sales.csv')"
   ]
  },
  {
   "attachments": {},
   "cell_type": "markdown",
   "id": "04e20786",
   "metadata": {},
   "source": [
    "# Dataset Information"
   ]
  },
  {
   "cell_type": "code",
   "execution_count": 5,
   "id": "977ba3fc",
   "metadata": {},
   "outputs": [
    {
     "name": "stdout",
     "output_type": "stream",
     "text": [
      "Checking dataset information on customers dataset\n",
      "<class 'pandas.core.frame.DataFrame'>\n",
      "RangeIndex: 1000 entries, 0 to 999\n",
      "Data columns (total 9 columns):\n",
      " #   Column         Non-Null Count  Dtype \n",
      "---  ------         --------------  ----- \n",
      " 0   customer_id    1000 non-null   int64 \n",
      " 1   customer_name  1000 non-null   object\n",
      " 2   gender         1000 non-null   object\n",
      " 3   age            1000 non-null   int64 \n",
      " 4   home_address   1000 non-null   object\n",
      " 5   zip_code       1000 non-null   int64 \n",
      " 6   city           1000 non-null   object\n",
      " 7   state          1000 non-null   object\n",
      " 8   country        1000 non-null   object\n",
      "dtypes: int64(3), object(6)\n",
      "memory usage: 70.4+ KB\n",
      "None\n",
      "\n",
      "Checking dataset information on sales dataset\n",
      "<class 'pandas.core.frame.DataFrame'>\n",
      "RangeIndex: 5000 entries, 0 to 4999\n",
      "Data columns (total 6 columns):\n",
      " #   Column          Non-Null Count  Dtype\n",
      "---  ------          --------------  -----\n",
      " 0   sales_id        5000 non-null   int64\n",
      " 1   order_id        5000 non-null   int64\n",
      " 2   product_id      5000 non-null   int64\n",
      " 3   price_per_unit  5000 non-null   int64\n",
      " 4   quantity        5000 non-null   int64\n",
      " 5   total_price     5000 non-null   int64\n",
      "dtypes: int64(6)\n",
      "memory usage: 234.5 KB\n",
      "None\n",
      "\n",
      "Checking dataset information on products dataset\n",
      "<class 'pandas.core.frame.DataFrame'>\n",
      "RangeIndex: 1260 entries, 0 to 1259\n",
      "Data columns (total 8 columns):\n",
      " #   Column        Non-Null Count  Dtype \n",
      "---  ------        --------------  ----- \n",
      " 0   product_ID    1260 non-null   int64 \n",
      " 1   product_type  1260 non-null   object\n",
      " 2   product_name  1260 non-null   object\n",
      " 3   size          1260 non-null   object\n",
      " 4   colour        1260 non-null   object\n",
      " 5   price         1260 non-null   int64 \n",
      " 6   quantity      1260 non-null   int64 \n",
      " 7   description   1260 non-null   object\n",
      "dtypes: int64(3), object(5)\n",
      "memory usage: 78.9+ KB\n",
      "None\n",
      "\n",
      "Checking dataset information on orders dataset\n",
      "<class 'pandas.core.frame.DataFrame'>\n",
      "RangeIndex: 1000 entries, 0 to 999\n",
      "Data columns (total 5 columns):\n",
      " #   Column         Non-Null Count  Dtype \n",
      "---  ------         --------------  ----- \n",
      " 0   order_id       1000 non-null   int64 \n",
      " 1   customer_id    1000 non-null   int64 \n",
      " 2   payment        1000 non-null   int64 \n",
      " 3   order_date     1000 non-null   object\n",
      " 4   delivery_date  1000 non-null   object\n",
      "dtypes: int64(3), object(2)\n",
      "memory usage: 39.2+ KB\n",
      "None\n",
      "\n"
     ]
    }
   ],
   "source": [
    "data = [{'df':customers_data,'name':'customers dataset'},\n",
    "        {'df':sales_data,'name':'sales dataset'},\n",
    "        {'df':products_data,'name':'products dataset'},\n",
    "        {'df':orders_data,'name':'orders dataset'},]\n",
    "        \n",
    "for item in data:\n",
    "  print(f\"Checking dataset information on {item['name']}\")\n",
    "  print(item['df'].info())\n",
    "  print('')"
   ]
  },
  {
   "attachments": {},
   "cell_type": "markdown",
   "id": "f599ca42",
   "metadata": {},
   "source": [
    "# Check Null Values"
   ]
  },
  {
   "cell_type": "code",
   "execution_count": 6,
   "id": "099a8532",
   "metadata": {},
   "outputs": [
    {
     "name": "stdout",
     "output_type": "stream",
     "text": [
      "Checking Null value on customers dataset\n",
      "customer_id      False\n",
      "customer_name    False\n",
      "gender           False\n",
      "age              False\n",
      "home_address     False\n",
      "zip_code         False\n",
      "city             False\n",
      "state            False\n",
      "country          False\n",
      "dtype: bool\n",
      "\n",
      "Checking Null value on sales dataset\n",
      "sales_id          False\n",
      "order_id          False\n",
      "product_id        False\n",
      "price_per_unit    False\n",
      "quantity          False\n",
      "total_price       False\n",
      "dtype: bool\n",
      "\n",
      "Checking Null value on products dataset\n",
      "product_ID      False\n",
      "product_type    False\n",
      "product_name    False\n",
      "size            False\n",
      "colour          False\n",
      "price           False\n",
      "quantity        False\n",
      "description     False\n",
      "dtype: bool\n",
      "\n",
      "Checking Null value on orders dataset\n",
      "order_id         False\n",
      "customer_id      False\n",
      "payment          False\n",
      "order_date       False\n",
      "delivery_date    False\n",
      "dtype: bool\n",
      "\n"
     ]
    }
   ],
   "source": [
    "data = [{'df':customers_data,'name':'customers dataset'},\n",
    "        {'df':sales_data,'name':'sales dataset'},\n",
    "        {'df':products_data,'name':'products dataset'},\n",
    "        {'df':orders_data,'name':'orders dataset'},]\n",
    "        \n",
    "for item in data:\n",
    "  print(f\"Checking Null value on {item['name']}\")\n",
    "  print(item['df'].isnull().any())\n",
    "  print('')"
   ]
  },
  {
   "attachments": {},
   "cell_type": "markdown",
   "id": "f6545d8f",
   "metadata": {},
   "source": [
    "# Change Data Type"
   ]
  },
  {
   "cell_type": "code",
   "execution_count": 7,
   "id": "449dec7e",
   "metadata": {},
   "outputs": [],
   "source": [
    "def change_datatype(df,list_changes):\n",
    "  for item in list_changes:\n",
    "    if item['type'] == 'datetime':\n",
    "      df[item['column']] = pd.to_datetime(df[item['column']])\n",
    "    elif item['type'] == 'int':\n",
    "      df[item['column']] = df[item['column']].astype('int')\n",
    "    elif item['type'] == 'int64':\n",
    "      df[item['column']] = df[item['column']].astype(np.int64)\n",
    "    elif item['type'] == 'float':\n",
    "      df[item['column']] = df[item['column']].astype(float)\n",
    "\n",
    "  return df"
   ]
  },
  {
   "cell_type": "code",
   "execution_count": 8,
   "id": "56c4fa3f",
   "metadata": {},
   "outputs": [
    {
     "data": {
      "text/html": [
       "<div>\n",
       "<style scoped>\n",
       "    .dataframe tbody tr th:only-of-type {\n",
       "        vertical-align: middle;\n",
       "    }\n",
       "\n",
       "    .dataframe tbody tr th {\n",
       "        vertical-align: top;\n",
       "    }\n",
       "\n",
       "    .dataframe thead th {\n",
       "        text-align: right;\n",
       "    }\n",
       "</style>\n",
       "<table border=\"1\" class=\"dataframe\">\n",
       "  <thead>\n",
       "    <tr style=\"text-align: right;\">\n",
       "      <th></th>\n",
       "      <th>order_id</th>\n",
       "      <th>customer_id</th>\n",
       "      <th>payment</th>\n",
       "      <th>order_date</th>\n",
       "      <th>delivery_date</th>\n",
       "    </tr>\n",
       "  </thead>\n",
       "  <tbody>\n",
       "    <tr>\n",
       "      <th>0</th>\n",
       "      <td>1</td>\n",
       "      <td>64</td>\n",
       "      <td>30811</td>\n",
       "      <td>2021-8-30</td>\n",
       "      <td>2021-09-24</td>\n",
       "    </tr>\n",
       "    <tr>\n",
       "      <th>1</th>\n",
       "      <td>2</td>\n",
       "      <td>473</td>\n",
       "      <td>50490</td>\n",
       "      <td>2021-2-3</td>\n",
       "      <td>2021-02-13</td>\n",
       "    </tr>\n",
       "    <tr>\n",
       "      <th>2</th>\n",
       "      <td>3</td>\n",
       "      <td>774</td>\n",
       "      <td>46763</td>\n",
       "      <td>2021-10-8</td>\n",
       "      <td>2021-11-03</td>\n",
       "    </tr>\n",
       "    <tr>\n",
       "      <th>3</th>\n",
       "      <td>4</td>\n",
       "      <td>433</td>\n",
       "      <td>39782</td>\n",
       "      <td>2021-5-6</td>\n",
       "      <td>2021-05-19</td>\n",
       "    </tr>\n",
       "    <tr>\n",
       "      <th>4</th>\n",
       "      <td>5</td>\n",
       "      <td>441</td>\n",
       "      <td>14719</td>\n",
       "      <td>2021-3-23</td>\n",
       "      <td>2021-03-24</td>\n",
       "    </tr>\n",
       "    <tr>\n",
       "      <th>...</th>\n",
       "      <td>...</td>\n",
       "      <td>...</td>\n",
       "      <td>...</td>\n",
       "      <td>...</td>\n",
       "      <td>...</td>\n",
       "    </tr>\n",
       "    <tr>\n",
       "      <th>995</th>\n",
       "      <td>996</td>\n",
       "      <td>345</td>\n",
       "      <td>37843</td>\n",
       "      <td>2021-1-13</td>\n",
       "      <td>2021-02-02</td>\n",
       "    </tr>\n",
       "    <tr>\n",
       "      <th>996</th>\n",
       "      <td>997</td>\n",
       "      <td>346</td>\n",
       "      <td>53831</td>\n",
       "      <td>2021-1-18</td>\n",
       "      <td>2021-01-31</td>\n",
       "    </tr>\n",
       "    <tr>\n",
       "      <th>997</th>\n",
       "      <td>998</td>\n",
       "      <td>407</td>\n",
       "      <td>53308</td>\n",
       "      <td>2021-5-5</td>\n",
       "      <td>2021-05-21</td>\n",
       "    </tr>\n",
       "    <tr>\n",
       "      <th>998</th>\n",
       "      <td>999</td>\n",
       "      <td>428</td>\n",
       "      <td>31643</td>\n",
       "      <td>2021-6-15</td>\n",
       "      <td>2021-07-12</td>\n",
       "    </tr>\n",
       "    <tr>\n",
       "      <th>999</th>\n",
       "      <td>1000</td>\n",
       "      <td>896</td>\n",
       "      <td>27836</td>\n",
       "      <td>2021-4-7</td>\n",
       "      <td>2021-04-24</td>\n",
       "    </tr>\n",
       "  </tbody>\n",
       "</table>\n",
       "<p>1000 rows × 5 columns</p>\n",
       "</div>"
      ],
      "text/plain": [
       "     order_id  customer_id  payment order_date delivery_date\n",
       "0           1           64    30811  2021-8-30    2021-09-24\n",
       "1           2          473    50490   2021-2-3    2021-02-13\n",
       "2           3          774    46763  2021-10-8    2021-11-03\n",
       "3           4          433    39782   2021-5-6    2021-05-19\n",
       "4           5          441    14719  2021-3-23    2021-03-24\n",
       "..        ...          ...      ...        ...           ...\n",
       "995       996          345    37843  2021-1-13    2021-02-02\n",
       "996       997          346    53831  2021-1-18    2021-01-31\n",
       "997       998          407    53308   2021-5-5    2021-05-21\n",
       "998       999          428    31643  2021-6-15    2021-07-12\n",
       "999      1000          896    27836   2021-4-7    2021-04-24\n",
       "\n",
       "[1000 rows x 5 columns]"
      ]
     },
     "execution_count": 8,
     "metadata": {},
     "output_type": "execute_result"
    }
   ],
   "source": [
    "orders_data"
   ]
  },
  {
   "cell_type": "code",
   "execution_count": 9,
   "id": "70fdea81",
   "metadata": {},
   "outputs": [],
   "source": [
    "## change datatype\n",
    "data = [{'df':orders_data,\n",
    "         'list_changes': [\n",
    "             {'column':'order_date','type':'datetime'}\n",
    "             , {'column':'delivery_date','type':'datetime'}]\n",
    "         }]\n",
    "for el in data:\n",
    "  el['df'] = change_datatype(el['df'],el['list_changes'])"
   ]
  },
  {
   "attachments": {},
   "cell_type": "markdown",
   "id": "bfba5001",
   "metadata": {},
   "source": [
    "# Remove Extra Whitespaces"
   ]
  },
  {
   "cell_type": "code",
   "execution_count": 10,
   "id": "2e8ca809",
   "metadata": {},
   "outputs": [],
   "source": [
    "def remove_extra_whitespaces(df):\n",
    "  for col in df.columns:\n",
    "    if df[col].dtypes == 'object' : \n",
    "      df[col] = df[col].str.strip()\n",
    "      \n",
    "  return df"
   ]
  },
  {
   "cell_type": "code",
   "execution_count": 11,
   "id": "9573ad74",
   "metadata": {},
   "outputs": [],
   "source": [
    "# remove extra whitespace on customers dataset\n",
    "list_df = [customers_data,orders_data,sales_data,products_data]\n",
    "for df in list_df:\n",
    "  df = remove_extra_whitespaces(df)"
   ]
  },
  {
   "attachments": {},
   "cell_type": "markdown",
   "id": "cfead382",
   "metadata": {},
   "source": [
    "# Checking Unique Value"
   ]
  },
  {
   "cell_type": "code",
   "execution_count": 12,
   "id": "b0223a0a",
   "metadata": {},
   "outputs": [],
   "source": [
    "def check_nunique(df,name):\n",
    "  print(f'Checking number of unique value in {name}')\n",
    "  for col in df.columns:\n",
    "    nuniq = len(df[col].unique())\n",
    "    print(f'- {col} : {nuniq} nunique')\n",
    "  print('')"
   ]
  },
  {
   "cell_type": "code",
   "execution_count": 13,
   "id": "b41d5f82",
   "metadata": {},
   "outputs": [
    {
     "name": "stdout",
     "output_type": "stream",
     "text": [
      "Checking number of unique value in customers dataset\n",
      "- customer_id : 1000 nunique\n",
      "- customer_name : 1000 nunique\n",
      "- gender : 8 nunique\n",
      "- age : 61 nunique\n",
      "- home_address : 1000 nunique\n",
      "- zip_code : 955 nunique\n",
      "- city : 961 nunique\n",
      "- state : 8 nunique\n",
      "- country : 1 nunique\n",
      "\n",
      "Checking number of unique value in sales dataset\n",
      "- sales_id : 5000 nunique\n",
      "- order_id : 993 nunique\n",
      "- product_id : 1233 nunique\n",
      "- price_per_unit : 23 nunique\n",
      "- quantity : 3 nunique\n",
      "- total_price : 69 nunique\n",
      "\n",
      "Checking number of unique value in products dataset\n",
      "- product_ID : 1260 nunique\n",
      "- product_type : 3 nunique\n",
      "- product_name : 35 nunique\n",
      "- size : 5 nunique\n",
      "- colour : 7 nunique\n",
      "- price : 26 nunique\n",
      "- quantity : 41 nunique\n",
      "- description : 1260 nunique\n",
      "\n",
      "Checking number of unique value in orders dataset\n",
      "- order_id : 1000 nunique\n",
      "- customer_id : 617 nunique\n",
      "- payment : 995 nunique\n",
      "- order_date : 291 nunique\n",
      "- delivery_date : 305 nunique\n",
      "\n"
     ]
    }
   ],
   "source": [
    "data = [{'df':customers_data,'name':'customers dataset'},\n",
    "        {'df':sales_data,'name':'sales dataset'},\n",
    "        {'df':products_data,'name':'products dataset'},\n",
    "        {'df':orders_data,'name':'orders dataset'},]\n",
    "        \n",
    "for item in data:\n",
    "  check_nunique(item['df'],item['name'])"
   ]
  },
  {
   "cell_type": "code",
   "execution_count": 14,
   "id": "6ed56edb",
   "metadata": {},
   "outputs": [],
   "source": [
    "df = customers_data.merge(orders_data,how='inner',left_on='customer_id',right_on='customer_id')\n",
    "df = df.merge(sales_data,how='inner',left_on='order_id',right_on='order_id')\n",
    "df = df.merge(products_data,how='inner',left_on='product_id',right_on='product_ID')"
   ]
  },
  {
   "cell_type": "code",
   "execution_count": 15,
   "id": "94e69b40",
   "metadata": {},
   "outputs": [],
   "source": [
    "# let's get the year data in order date column\n",
    "df['year_order'] = df['order_date'].dt.year\n",
    "\n",
    "# let's get the month data in order date column\n",
    "df['month_order'] = df['order_date'].dt.month\n",
    "\n",
    "# Let's get the day data in order date column\n",
    "df[\"day_order\"] = df[\"order_date\"].dt.day"
   ]
  },
  {
   "cell_type": "code",
   "execution_count": 16,
   "id": "aa8cc774",
   "metadata": {},
   "outputs": [],
   "source": [
    "# let's get the year data in delivery date column\n",
    "df['year_delivery'] = df['delivery_date'].dt.year\n",
    "\n",
    "# let's get the month data in delivery date column\n",
    "df['month_delivery'] = df['delivery_date'].dt.month\n",
    "\n",
    "# Let's get the day data in delivery date column\n",
    "df[\"day_delivery\"] = df[\"delivery_date\"].dt.day"
   ]
  },
  {
   "cell_type": "code",
   "execution_count": 17,
   "id": "ad73ddb3",
   "metadata": {},
   "outputs": [
    {
     "data": {
      "text/html": [
       "<div>\n",
       "<style scoped>\n",
       "    .dataframe tbody tr th:only-of-type {\n",
       "        vertical-align: middle;\n",
       "    }\n",
       "\n",
       "    .dataframe tbody tr th {\n",
       "        vertical-align: top;\n",
       "    }\n",
       "\n",
       "    .dataframe thead th {\n",
       "        text-align: right;\n",
       "    }\n",
       "</style>\n",
       "<table border=\"1\" class=\"dataframe\">\n",
       "  <thead>\n",
       "    <tr style=\"text-align: right;\">\n",
       "      <th></th>\n",
       "      <th>customer_id</th>\n",
       "      <th>customer_name</th>\n",
       "      <th>gender</th>\n",
       "      <th>age</th>\n",
       "      <th>home_address</th>\n",
       "      <th>zip_code</th>\n",
       "      <th>city</th>\n",
       "      <th>state</th>\n",
       "      <th>country</th>\n",
       "      <th>order_id</th>\n",
       "      <th>...</th>\n",
       "      <th>colour</th>\n",
       "      <th>price</th>\n",
       "      <th>quantity_y</th>\n",
       "      <th>description</th>\n",
       "      <th>year_order</th>\n",
       "      <th>month_order</th>\n",
       "      <th>day_order</th>\n",
       "      <th>year_delivery</th>\n",
       "      <th>month_delivery</th>\n",
       "      <th>day_delivery</th>\n",
       "    </tr>\n",
       "  </thead>\n",
       "  <tbody>\n",
       "    <tr>\n",
       "      <th>0</th>\n",
       "      <td>1</td>\n",
       "      <td>Leanna Busson</td>\n",
       "      <td>Female</td>\n",
       "      <td>30</td>\n",
       "      <td>8606 Victoria TerraceSuite 560</td>\n",
       "      <td>5464</td>\n",
       "      <td>Johnstonhaven</td>\n",
       "      <td>Northern Territory</td>\n",
       "      <td>Australia</td>\n",
       "      <td>455</td>\n",
       "      <td>...</td>\n",
       "      <td>red</td>\n",
       "      <td>105</td>\n",
       "      <td>72</td>\n",
       "      <td>A red coloured, S sized, Chambray Shirt</td>\n",
       "      <td>2021</td>\n",
       "      <td>4</td>\n",
       "      <td>4</td>\n",
       "      <td>2021</td>\n",
       "      <td>4</td>\n",
       "      <td>6</td>\n",
       "    </tr>\n",
       "    <tr>\n",
       "      <th>1</th>\n",
       "      <td>1</td>\n",
       "      <td>Leanna Busson</td>\n",
       "      <td>Female</td>\n",
       "      <td>30</td>\n",
       "      <td>8606 Victoria TerraceSuite 560</td>\n",
       "      <td>5464</td>\n",
       "      <td>Johnstonhaven</td>\n",
       "      <td>Northern Territory</td>\n",
       "      <td>Australia</td>\n",
       "      <td>455</td>\n",
       "      <td>...</td>\n",
       "      <td>yellow</td>\n",
       "      <td>114</td>\n",
       "      <td>43</td>\n",
       "      <td>A yellow coloured, L sized, Pullover Jacket</td>\n",
       "      <td>2021</td>\n",
       "      <td>4</td>\n",
       "      <td>4</td>\n",
       "      <td>2021</td>\n",
       "      <td>4</td>\n",
       "      <td>6</td>\n",
       "    </tr>\n",
       "    <tr>\n",
       "      <th>2</th>\n",
       "      <td>81</td>\n",
       "      <td>Lanny Wardale</td>\n",
       "      <td>Female</td>\n",
       "      <td>30</td>\n",
       "      <td>4870 Jackson SummitApt. 538</td>\n",
       "      <td>1915</td>\n",
       "      <td>Spencerborough</td>\n",
       "      <td>Western Australia</td>\n",
       "      <td>Australia</td>\n",
       "      <td>863</td>\n",
       "      <td>...</td>\n",
       "      <td>yellow</td>\n",
       "      <td>114</td>\n",
       "      <td>43</td>\n",
       "      <td>A yellow coloured, L sized, Pullover Jacket</td>\n",
       "      <td>2021</td>\n",
       "      <td>5</td>\n",
       "      <td>10</td>\n",
       "      <td>2021</td>\n",
       "      <td>5</td>\n",
       "      <td>18</td>\n",
       "    </tr>\n",
       "    <tr>\n",
       "      <th>3</th>\n",
       "      <td>258</td>\n",
       "      <td>Mira Heinonen</td>\n",
       "      <td>Female</td>\n",
       "      <td>62</td>\n",
       "      <td>2719 Dietrich KnollApt. 175</td>\n",
       "      <td>1252</td>\n",
       "      <td>South Declan</td>\n",
       "      <td>Queensland</td>\n",
       "      <td>Australia</td>\n",
       "      <td>793</td>\n",
       "      <td>...</td>\n",
       "      <td>yellow</td>\n",
       "      <td>114</td>\n",
       "      <td>43</td>\n",
       "      <td>A yellow coloured, L sized, Pullover Jacket</td>\n",
       "      <td>2021</td>\n",
       "      <td>1</td>\n",
       "      <td>27</td>\n",
       "      <td>2021</td>\n",
       "      <td>2</td>\n",
       "      <td>3</td>\n",
       "    </tr>\n",
       "    <tr>\n",
       "      <th>4</th>\n",
       "      <td>432</td>\n",
       "      <td>Ettie Gonnely</td>\n",
       "      <td>Bigender</td>\n",
       "      <td>34</td>\n",
       "      <td>6172 Andrew AvenueApt. 194</td>\n",
       "      <td>7029</td>\n",
       "      <td>North Cody</td>\n",
       "      <td>Victoria</td>\n",
       "      <td>Australia</td>\n",
       "      <td>939</td>\n",
       "      <td>...</td>\n",
       "      <td>yellow</td>\n",
       "      <td>114</td>\n",
       "      <td>43</td>\n",
       "      <td>A yellow coloured, L sized, Pullover Jacket</td>\n",
       "      <td>2021</td>\n",
       "      <td>4</td>\n",
       "      <td>2</td>\n",
       "      <td>2021</td>\n",
       "      <td>4</td>\n",
       "      <td>21</td>\n",
       "    </tr>\n",
       "    <tr>\n",
       "      <th>...</th>\n",
       "      <td>...</td>\n",
       "      <td>...</td>\n",
       "      <td>...</td>\n",
       "      <td>...</td>\n",
       "      <td>...</td>\n",
       "      <td>...</td>\n",
       "      <td>...</td>\n",
       "      <td>...</td>\n",
       "      <td>...</td>\n",
       "      <td>...</td>\n",
       "      <td>...</td>\n",
       "      <td>...</td>\n",
       "      <td>...</td>\n",
       "      <td>...</td>\n",
       "      <td>...</td>\n",
       "      <td>...</td>\n",
       "      <td>...</td>\n",
       "      <td>...</td>\n",
       "      <td>...</td>\n",
       "      <td>...</td>\n",
       "      <td>...</td>\n",
       "    </tr>\n",
       "    <tr>\n",
       "      <th>4995</th>\n",
       "      <td>971</td>\n",
       "      <td>Constance Piddington</td>\n",
       "      <td>Genderfluid</td>\n",
       "      <td>27</td>\n",
       "      <td>135 Ella RunApt. 424</td>\n",
       "      <td>4268</td>\n",
       "      <td>East Chasehaven</td>\n",
       "      <td>Queensland</td>\n",
       "      <td>Australia</td>\n",
       "      <td>907</td>\n",
       "      <td>...</td>\n",
       "      <td>violet</td>\n",
       "      <td>113</td>\n",
       "      <td>58</td>\n",
       "      <td>A violet coloured, XL sized, Leather Jacket</td>\n",
       "      <td>2021</td>\n",
       "      <td>8</td>\n",
       "      <td>15</td>\n",
       "      <td>2021</td>\n",
       "      <td>8</td>\n",
       "      <td>17</td>\n",
       "    </tr>\n",
       "    <tr>\n",
       "      <th>4996</th>\n",
       "      <td>980</td>\n",
       "      <td>Sharleen Langworthy</td>\n",
       "      <td>Agender</td>\n",
       "      <td>35</td>\n",
       "      <td>317 Sophia MewsApt. 328</td>\n",
       "      <td>5926</td>\n",
       "      <td>Isaacberg</td>\n",
       "      <td>South Australia</td>\n",
       "      <td>Australia</td>\n",
       "      <td>904</td>\n",
       "      <td>...</td>\n",
       "      <td>yellow</td>\n",
       "      <td>116</td>\n",
       "      <td>55</td>\n",
       "      <td>A yellow coloured, XS sized, Linen Shirt</td>\n",
       "      <td>2021</td>\n",
       "      <td>3</td>\n",
       "      <td>24</td>\n",
       "      <td>2021</td>\n",
       "      <td>4</td>\n",
       "      <td>7</td>\n",
       "    </tr>\n",
       "    <tr>\n",
       "      <th>4997</th>\n",
       "      <td>986</td>\n",
       "      <td>Theodosia Postins</td>\n",
       "      <td>Polygender</td>\n",
       "      <td>38</td>\n",
       "      <td>1853 Dickens LaneSuite 406</td>\n",
       "      <td>2972</td>\n",
       "      <td>Turcottetown</td>\n",
       "      <td>Australian Capital Territory</td>\n",
       "      <td>Australia</td>\n",
       "      <td>370</td>\n",
       "      <td>...</td>\n",
       "      <td>orange</td>\n",
       "      <td>106</td>\n",
       "      <td>43</td>\n",
       "      <td>A orange coloured, XS sized, Cargo Pants Trousers</td>\n",
       "      <td>2021</td>\n",
       "      <td>1</td>\n",
       "      <td>22</td>\n",
       "      <td>2021</td>\n",
       "      <td>2</td>\n",
       "      <td>11</td>\n",
       "    </tr>\n",
       "    <tr>\n",
       "      <th>4998</th>\n",
       "      <td>996</td>\n",
       "      <td>Elvira Sarfati</td>\n",
       "      <td>Agender</td>\n",
       "      <td>59</td>\n",
       "      <td>0433 Armstrong HillSuite 974</td>\n",
       "      <td>7613</td>\n",
       "      <td>Lake Danielland</td>\n",
       "      <td>Tasmania</td>\n",
       "      <td>Australia</td>\n",
       "      <td>169</td>\n",
       "      <td>...</td>\n",
       "      <td>yellow</td>\n",
       "      <td>110</td>\n",
       "      <td>46</td>\n",
       "      <td>A yellow coloured, L sized, Puffer Jacket</td>\n",
       "      <td>2021</td>\n",
       "      <td>3</td>\n",
       "      <td>9</td>\n",
       "      <td>2021</td>\n",
       "      <td>3</td>\n",
       "      <td>12</td>\n",
       "    </tr>\n",
       "    <tr>\n",
       "      <th>4999</th>\n",
       "      <td>998</td>\n",
       "      <td>Rebecka Fabler</td>\n",
       "      <td>Polygender</td>\n",
       "      <td>32</td>\n",
       "      <td>72 Annabelle PassApt. 446</td>\n",
       "      <td>52</td>\n",
       "      <td>Kohlerberg</td>\n",
       "      <td>Queensland</td>\n",
       "      <td>Australia</td>\n",
       "      <td>773</td>\n",
       "      <td>...</td>\n",
       "      <td>green</td>\n",
       "      <td>117</td>\n",
       "      <td>71</td>\n",
       "      <td>A green coloured, S sized, Polo Shirt</td>\n",
       "      <td>2021</td>\n",
       "      <td>7</td>\n",
       "      <td>19</td>\n",
       "      <td>2021</td>\n",
       "      <td>8</td>\n",
       "      <td>7</td>\n",
       "    </tr>\n",
       "  </tbody>\n",
       "</table>\n",
       "<p>5000 rows × 32 columns</p>\n",
       "</div>"
      ],
      "text/plain": [
       "      customer_id         customer_name       gender  age  \\\n",
       "0               1         Leanna Busson       Female   30   \n",
       "1               1         Leanna Busson       Female   30   \n",
       "2              81         Lanny Wardale       Female   30   \n",
       "3             258         Mira Heinonen       Female   62   \n",
       "4             432         Ettie Gonnely     Bigender   34   \n",
       "...           ...                   ...          ...  ...   \n",
       "4995          971  Constance Piddington  Genderfluid   27   \n",
       "4996          980   Sharleen Langworthy      Agender   35   \n",
       "4997          986     Theodosia Postins   Polygender   38   \n",
       "4998          996        Elvira Sarfati      Agender   59   \n",
       "4999          998        Rebecka Fabler   Polygender   32   \n",
       "\n",
       "                        home_address  zip_code             city  \\\n",
       "0     8606 Victoria TerraceSuite 560      5464    Johnstonhaven   \n",
       "1     8606 Victoria TerraceSuite 560      5464    Johnstonhaven   \n",
       "2        4870 Jackson SummitApt. 538      1915   Spencerborough   \n",
       "3        2719 Dietrich KnollApt. 175      1252     South Declan   \n",
       "4         6172 Andrew AvenueApt. 194      7029       North Cody   \n",
       "...                              ...       ...              ...   \n",
       "4995            135 Ella RunApt. 424      4268  East Chasehaven   \n",
       "4996         317 Sophia MewsApt. 328      5926        Isaacberg   \n",
       "4997      1853 Dickens LaneSuite 406      2972     Turcottetown   \n",
       "4998    0433 Armstrong HillSuite 974      7613  Lake Danielland   \n",
       "4999       72 Annabelle PassApt. 446        52       Kohlerberg   \n",
       "\n",
       "                             state    country  order_id  ...  colour price  \\\n",
       "0               Northern Territory  Australia       455  ...     red   105   \n",
       "1               Northern Territory  Australia       455  ...  yellow   114   \n",
       "2                Western Australia  Australia       863  ...  yellow   114   \n",
       "3                       Queensland  Australia       793  ...  yellow   114   \n",
       "4                         Victoria  Australia       939  ...  yellow   114   \n",
       "...                            ...        ...       ...  ...     ...   ...   \n",
       "4995                    Queensland  Australia       907  ...  violet   113   \n",
       "4996               South Australia  Australia       904  ...  yellow   116   \n",
       "4997  Australian Capital Territory  Australia       370  ...  orange   106   \n",
       "4998                      Tasmania  Australia       169  ...  yellow   110   \n",
       "4999                    Queensland  Australia       773  ...   green   117   \n",
       "\n",
       "     quantity_y                                        description  \\\n",
       "0            72            A red coloured, S sized, Chambray Shirt   \n",
       "1            43        A yellow coloured, L sized, Pullover Jacket   \n",
       "2            43        A yellow coloured, L sized, Pullover Jacket   \n",
       "3            43        A yellow coloured, L sized, Pullover Jacket   \n",
       "4            43        A yellow coloured, L sized, Pullover Jacket   \n",
       "...         ...                                                ...   \n",
       "4995         58        A violet coloured, XL sized, Leather Jacket   \n",
       "4996         55           A yellow coloured, XS sized, Linen Shirt   \n",
       "4997         43  A orange coloured, XS sized, Cargo Pants Trousers   \n",
       "4998         46          A yellow coloured, L sized, Puffer Jacket   \n",
       "4999         71              A green coloured, S sized, Polo Shirt   \n",
       "\n",
       "      year_order  month_order  day_order  year_delivery  month_delivery  \\\n",
       "0           2021            4          4           2021               4   \n",
       "1           2021            4          4           2021               4   \n",
       "2           2021            5         10           2021               5   \n",
       "3           2021            1         27           2021               2   \n",
       "4           2021            4          2           2021               4   \n",
       "...          ...          ...        ...            ...             ...   \n",
       "4995        2021            8         15           2021               8   \n",
       "4996        2021            3         24           2021               4   \n",
       "4997        2021            1         22           2021               2   \n",
       "4998        2021            3          9           2021               3   \n",
       "4999        2021            7         19           2021               8   \n",
       "\n",
       "     day_delivery  \n",
       "0               6  \n",
       "1               6  \n",
       "2              18  \n",
       "3               3  \n",
       "4              21  \n",
       "...           ...  \n",
       "4995           17  \n",
       "4996            7  \n",
       "4997           11  \n",
       "4998           12  \n",
       "4999            7  \n",
       "\n",
       "[5000 rows x 32 columns]"
      ]
     },
     "execution_count": 17,
     "metadata": {},
     "output_type": "execute_result"
    }
   ],
   "source": [
    "df"
   ]
  },
  {
   "cell_type": "code",
   "execution_count": 18,
   "id": "c3e7874c",
   "metadata": {},
   "outputs": [
    {
     "data": {
      "text/plain": [
       "Index(['customer_id', 'customer_name', 'gender', 'age', 'home_address',\n",
       "       'zip_code', 'city', 'state', 'country', 'order_id', 'payment',\n",
       "       'order_date', 'delivery_date', 'sales_id', 'product_id',\n",
       "       'price_per_unit', 'quantity_x', 'total_price', 'product_ID',\n",
       "       'product_type', 'product_name', 'size', 'colour', 'price', 'quantity_y',\n",
       "       'description', 'year_order', 'month_order', 'day_order',\n",
       "       'year_delivery', 'month_delivery', 'day_delivery'],\n",
       "      dtype='object')"
      ]
     },
     "execution_count": 18,
     "metadata": {},
     "output_type": "execute_result"
    }
   ],
   "source": [
    "df.columns"
   ]
  },
  {
   "cell_type": "code",
   "execution_count": 19,
   "id": "93d04880",
   "metadata": {},
   "outputs": [
    {
     "data": {
      "text/plain": [
       "Index(['customer_id', 'customer_name', 'gender', 'age', 'home_address',\n",
       "       'zip_code', 'city', 'state', 'country', 'order_id', 'payment',\n",
       "       'order_date', 'delivery_date', 'sales_id', 'product_id',\n",
       "       'price_per_unit', 'quantity_x', 'total_price', 'product_ID',\n",
       "       'product_type', 'product_name', 'size', 'colour', 'quantity_y',\n",
       "       'description', 'year_order', 'month_order', 'day_order',\n",
       "       'year_delivery', 'month_delivery', 'day_delivery'],\n",
       "      dtype='object')"
      ]
     },
     "execution_count": 19,
     "metadata": {},
     "output_type": "execute_result"
    }
   ],
   "source": [
    "df= df.drop('price',axis=1)\n",
    "df.columns"
   ]
  },
  {
   "cell_type": "code",
   "execution_count": 20,
   "id": "480f3740",
   "metadata": {},
   "outputs": [
    {
     "data": {
      "text/plain": [
       "Index(['customer_id', 'customer_name', 'gender', 'age', 'home_address',\n",
       "       'zip_code', 'city', 'state', 'country', 'order_id', 'payment',\n",
       "       'order_date', 'delivery_date', 'sales_id', 'product_id',\n",
       "       'price_per_unit', 'quantity_x', 'total_price', 'product_type',\n",
       "       'product_name', 'size', 'colour', 'quantity_y', 'description',\n",
       "       'year_order', 'month_order', 'day_order', 'year_delivery',\n",
       "       'month_delivery', 'day_delivery'],\n",
       "      dtype='object')"
      ]
     },
     "execution_count": 20,
     "metadata": {},
     "output_type": "execute_result"
    }
   ],
   "source": [
    "df= df.drop('product_ID',axis=1)\n",
    "df.columns"
   ]
  },
  {
   "cell_type": "code",
   "execution_count": 21,
   "id": "34568e9b",
   "metadata": {},
   "outputs": [
    {
     "data": {
      "text/plain": [
       "Index(['customer_id', 'customer_name', 'gender', 'age', 'home_address',\n",
       "       'zip_code', 'city', 'state', 'country', 'order_id', 'payment',\n",
       "       'order_date', 'delivery_date', 'sales_id', 'product_id',\n",
       "       'price_per_unit', 'quantity_x', 'total_price', 'product_type',\n",
       "       'product_name', 'size', 'colour', 'quantity_y', 'year_order',\n",
       "       'month_order', 'day_order', 'year_delivery', 'month_delivery',\n",
       "       'day_delivery'],\n",
       "      dtype='object')"
      ]
     },
     "execution_count": 21,
     "metadata": {},
     "output_type": "execute_result"
    }
   ],
   "source": [
    "df=df.drop('description',axis=1)\n",
    "df.columns"
   ]
  },
  {
   "cell_type": "code",
   "execution_count": 22,
   "id": "e09a698c",
   "metadata": {},
   "outputs": [
    {
     "data": {
      "text/plain": [
       "Index(['customer_id', 'customer_name', 'gender', 'age', 'home_address',\n",
       "       'zip_code', 'city', 'state', 'country', 'order_id', 'payment',\n",
       "       'order_date', 'delivery_date', 'sales_id', 'product_id',\n",
       "       'price_per_unit', 'quantity_x', 'total_price', 'product_type',\n",
       "       'product_name', 'size', 'colour', 'quantity_store', 'year_order',\n",
       "       'month_order', 'day_order', 'year_delivery', 'month_delivery',\n",
       "       'day_delivery'],\n",
       "      dtype='object')"
      ]
     },
     "execution_count": 22,
     "metadata": {},
     "output_type": "execute_result"
    }
   ],
   "source": [
    "df = df.rename(columns={'quantity_y': 'quantity_store'})\n",
    "df.columns"
   ]
  },
  {
   "cell_type": "code",
   "execution_count": 23,
   "id": "e84656ce",
   "metadata": {},
   "outputs": [
    {
     "data": {
      "text/plain": [
       "Index(['customer_id', 'customer_name', 'gender', 'age', 'home_address',\n",
       "       'zip_code', 'city', 'state', 'country', 'order_id', 'payment',\n",
       "       'order_date', 'delivery_date', 'sales_id', 'product_id',\n",
       "       'price_per_unit', 'sum_sold', 'total_price', 'product_type',\n",
       "       'product_name', 'size', 'colour', 'quantity_store', 'year_order',\n",
       "       'month_order', 'day_order', 'year_delivery', 'month_delivery',\n",
       "       'day_delivery'],\n",
       "      dtype='object')"
      ]
     },
     "execution_count": 23,
     "metadata": {},
     "output_type": "execute_result"
    }
   ],
   "source": [
    "df = df.rename(columns={'quantity_x': 'sum_sold'})\n",
    "df.columns"
   ]
  },
  {
   "cell_type": "code",
   "execution_count": 24,
   "id": "9967adc7",
   "metadata": {},
   "outputs": [
    {
     "data": {
      "text/html": [
       "<div>\n",
       "<style scoped>\n",
       "    .dataframe tbody tr th:only-of-type {\n",
       "        vertical-align: middle;\n",
       "    }\n",
       "\n",
       "    .dataframe tbody tr th {\n",
       "        vertical-align: top;\n",
       "    }\n",
       "\n",
       "    .dataframe thead th {\n",
       "        text-align: right;\n",
       "    }\n",
       "</style>\n",
       "<table border=\"1\" class=\"dataframe\">\n",
       "  <thead>\n",
       "    <tr style=\"text-align: right;\">\n",
       "      <th></th>\n",
       "      <th>customer_id</th>\n",
       "      <th>customer_name</th>\n",
       "      <th>gender</th>\n",
       "      <th>age</th>\n",
       "      <th>home_address</th>\n",
       "      <th>zip_code</th>\n",
       "      <th>city</th>\n",
       "      <th>state</th>\n",
       "      <th>country</th>\n",
       "      <th>order_id</th>\n",
       "      <th>...</th>\n",
       "      <th>product_name</th>\n",
       "      <th>size</th>\n",
       "      <th>colour</th>\n",
       "      <th>quantity_store</th>\n",
       "      <th>year_order</th>\n",
       "      <th>month_order</th>\n",
       "      <th>day_order</th>\n",
       "      <th>year_delivery</th>\n",
       "      <th>month_delivery</th>\n",
       "      <th>day_delivery</th>\n",
       "    </tr>\n",
       "  </thead>\n",
       "  <tbody>\n",
       "    <tr>\n",
       "      <th>0</th>\n",
       "      <td>1</td>\n",
       "      <td>Leanna Busson</td>\n",
       "      <td>Female</td>\n",
       "      <td>30</td>\n",
       "      <td>8606 Victoria TerraceSuite 560</td>\n",
       "      <td>5464</td>\n",
       "      <td>Johnstonhaven</td>\n",
       "      <td>Northern Territory</td>\n",
       "      <td>Australia</td>\n",
       "      <td>455</td>\n",
       "      <td>...</td>\n",
       "      <td>Chambray</td>\n",
       "      <td>S</td>\n",
       "      <td>red</td>\n",
       "      <td>72</td>\n",
       "      <td>2021</td>\n",
       "      <td>4</td>\n",
       "      <td>4</td>\n",
       "      <td>2021</td>\n",
       "      <td>4</td>\n",
       "      <td>6</td>\n",
       "    </tr>\n",
       "    <tr>\n",
       "      <th>1</th>\n",
       "      <td>1</td>\n",
       "      <td>Leanna Busson</td>\n",
       "      <td>Female</td>\n",
       "      <td>30</td>\n",
       "      <td>8606 Victoria TerraceSuite 560</td>\n",
       "      <td>5464</td>\n",
       "      <td>Johnstonhaven</td>\n",
       "      <td>Northern Territory</td>\n",
       "      <td>Australia</td>\n",
       "      <td>455</td>\n",
       "      <td>...</td>\n",
       "      <td>Pullover</td>\n",
       "      <td>L</td>\n",
       "      <td>yellow</td>\n",
       "      <td>43</td>\n",
       "      <td>2021</td>\n",
       "      <td>4</td>\n",
       "      <td>4</td>\n",
       "      <td>2021</td>\n",
       "      <td>4</td>\n",
       "      <td>6</td>\n",
       "    </tr>\n",
       "  </tbody>\n",
       "</table>\n",
       "<p>2 rows × 29 columns</p>\n",
       "</div>"
      ],
      "text/plain": [
       "   customer_id  customer_name  gender  age                    home_address  \\\n",
       "0            1  Leanna Busson  Female   30  8606 Victoria TerraceSuite 560   \n",
       "1            1  Leanna Busson  Female   30  8606 Victoria TerraceSuite 560   \n",
       "\n",
       "   zip_code           city               state    country  order_id  ...  \\\n",
       "0      5464  Johnstonhaven  Northern Territory  Australia       455  ...   \n",
       "1      5464  Johnstonhaven  Northern Territory  Australia       455  ...   \n",
       "\n",
       "   product_name size  colour  quantity_store  year_order  month_order  \\\n",
       "0      Chambray    S     red              72        2021            4   \n",
       "1      Pullover    L  yellow              43        2021            4   \n",
       "\n",
       "   day_order  year_delivery month_delivery day_delivery  \n",
       "0          4           2021              4            6  \n",
       "1          4           2021              4            6  \n",
       "\n",
       "[2 rows x 29 columns]"
      ]
     },
     "execution_count": 24,
     "metadata": {},
     "output_type": "execute_result"
    }
   ],
   "source": [
    "df.head(2)"
   ]
  },
  {
   "cell_type": "code",
   "execution_count": 25,
   "id": "57c26c89",
   "metadata": {},
   "outputs": [
    {
     "name": "stdout",
     "output_type": "stream",
     "text": [
      "<class 'pandas.core.frame.DataFrame'>\n",
      "Int64Index: 5000 entries, 0 to 4999\n",
      "Data columns (total 29 columns):\n",
      " #   Column          Non-Null Count  Dtype         \n",
      "---  ------          --------------  -----         \n",
      " 0   customer_id     5000 non-null   int64         \n",
      " 1   customer_name   5000 non-null   object        \n",
      " 2   gender          5000 non-null   object        \n",
      " 3   age             5000 non-null   int64         \n",
      " 4   home_address    5000 non-null   object        \n",
      " 5   zip_code        5000 non-null   int64         \n",
      " 6   city            5000 non-null   object        \n",
      " 7   state           5000 non-null   object        \n",
      " 8   country         5000 non-null   object        \n",
      " 9   order_id        5000 non-null   int64         \n",
      " 10  payment         5000 non-null   int64         \n",
      " 11  order_date      5000 non-null   datetime64[ns]\n",
      " 12  delivery_date   5000 non-null   datetime64[ns]\n",
      " 13  sales_id        5000 non-null   int64         \n",
      " 14  product_id      5000 non-null   int64         \n",
      " 15  price_per_unit  5000 non-null   int64         \n",
      " 16  sum_sold        5000 non-null   int64         \n",
      " 17  total_price     5000 non-null   int64         \n",
      " 18  product_type    5000 non-null   object        \n",
      " 19  product_name    5000 non-null   object        \n",
      " 20  size            5000 non-null   object        \n",
      " 21  colour          5000 non-null   object        \n",
      " 22  quantity_store  5000 non-null   int64         \n",
      " 23  year_order      5000 non-null   int64         \n",
      " 24  month_order     5000 non-null   int64         \n",
      " 25  day_order       5000 non-null   int64         \n",
      " 26  year_delivery   5000 non-null   int64         \n",
      " 27  month_delivery  5000 non-null   int64         \n",
      " 28  day_delivery    5000 non-null   int64         \n",
      "dtypes: datetime64[ns](2), int64(17), object(10)\n",
      "memory usage: 1.1+ MB\n"
     ]
    }
   ],
   "source": [
    "df.info()"
   ]
  },
  {
   "cell_type": "code",
   "execution_count": 26,
   "id": "1403a6d4",
   "metadata": {},
   "outputs": [],
   "source": [
    "df.to_excel('example.xlsx')"
   ]
  },
  {
   "cell_type": "code",
   "execution_count": 27,
   "id": "f05ebe32",
   "metadata": {},
   "outputs": [
    {
     "data": {
      "text/html": [
       "<div>\n",
       "<style scoped>\n",
       "    .dataframe tbody tr th:only-of-type {\n",
       "        vertical-align: middle;\n",
       "    }\n",
       "\n",
       "    .dataframe tbody tr th {\n",
       "        vertical-align: top;\n",
       "    }\n",
       "\n",
       "    .dataframe thead th {\n",
       "        text-align: right;\n",
       "    }\n",
       "</style>\n",
       "<table border=\"1\" class=\"dataframe\">\n",
       "  <thead>\n",
       "    <tr style=\"text-align: right;\">\n",
       "      <th></th>\n",
       "      <th>customer_id</th>\n",
       "      <th>customer_name</th>\n",
       "      <th>gender</th>\n",
       "      <th>age</th>\n",
       "      <th>home_address</th>\n",
       "      <th>zip_code</th>\n",
       "      <th>city</th>\n",
       "      <th>state</th>\n",
       "      <th>country</th>\n",
       "      <th>order_id</th>\n",
       "      <th>...</th>\n",
       "      <th>product_name</th>\n",
       "      <th>size</th>\n",
       "      <th>colour</th>\n",
       "      <th>quantity_store</th>\n",
       "      <th>year_order</th>\n",
       "      <th>month_order</th>\n",
       "      <th>day_order</th>\n",
       "      <th>year_delivery</th>\n",
       "      <th>month_delivery</th>\n",
       "      <th>day_delivery</th>\n",
       "    </tr>\n",
       "  </thead>\n",
       "  <tbody>\n",
       "    <tr>\n",
       "      <th>1408</th>\n",
       "      <td>454</td>\n",
       "      <td>Abey Bampforth</td>\n",
       "      <td>Genderfluid</td>\n",
       "      <td>28</td>\n",
       "      <td>3543 Jack GroveApt. 595</td>\n",
       "      <td>3276</td>\n",
       "      <td>Port Isabellafurt</td>\n",
       "      <td>New South Wales</td>\n",
       "      <td>Australia</td>\n",
       "      <td>50</td>\n",
       "      <td>...</td>\n",
       "      <td>Mandarin Collar</td>\n",
       "      <td>XL</td>\n",
       "      <td>blue</td>\n",
       "      <td>71</td>\n",
       "      <td>2021</td>\n",
       "      <td>9</td>\n",
       "      <td>16</td>\n",
       "      <td>2021</td>\n",
       "      <td>9</td>\n",
       "      <td>18</td>\n",
       "    </tr>\n",
       "    <tr>\n",
       "      <th>4145</th>\n",
       "      <td>454</td>\n",
       "      <td>Abey Bampforth</td>\n",
       "      <td>Genderfluid</td>\n",
       "      <td>28</td>\n",
       "      <td>3543 Jack GroveApt. 595</td>\n",
       "      <td>3276</td>\n",
       "      <td>Port Isabellafurt</td>\n",
       "      <td>New South Wales</td>\n",
       "      <td>Australia</td>\n",
       "      <td>50</td>\n",
       "      <td>...</td>\n",
       "      <td>Cropped</td>\n",
       "      <td>L</td>\n",
       "      <td>yellow</td>\n",
       "      <td>60</td>\n",
       "      <td>2021</td>\n",
       "      <td>9</td>\n",
       "      <td>16</td>\n",
       "      <td>2021</td>\n",
       "      <td>9</td>\n",
       "      <td>18</td>\n",
       "    </tr>\n",
       "    <tr>\n",
       "      <th>692</th>\n",
       "      <td>454</td>\n",
       "      <td>Abey Bampforth</td>\n",
       "      <td>Genderfluid</td>\n",
       "      <td>28</td>\n",
       "      <td>3543 Jack GroveApt. 595</td>\n",
       "      <td>3276</td>\n",
       "      <td>Port Isabellafurt</td>\n",
       "      <td>New South Wales</td>\n",
       "      <td>Australia</td>\n",
       "      <td>682</td>\n",
       "      <td>...</td>\n",
       "      <td>Polo</td>\n",
       "      <td>L</td>\n",
       "      <td>violet</td>\n",
       "      <td>76</td>\n",
       "      <td>2021</td>\n",
       "      <td>2</td>\n",
       "      <td>28</td>\n",
       "      <td>2021</td>\n",
       "      <td>3</td>\n",
       "      <td>18</td>\n",
       "    </tr>\n",
       "    <tr>\n",
       "      <th>2295</th>\n",
       "      <td>454</td>\n",
       "      <td>Abey Bampforth</td>\n",
       "      <td>Genderfluid</td>\n",
       "      <td>28</td>\n",
       "      <td>3543 Jack GroveApt. 595</td>\n",
       "      <td>3276</td>\n",
       "      <td>Port Isabellafurt</td>\n",
       "      <td>New South Wales</td>\n",
       "      <td>Australia</td>\n",
       "      <td>682</td>\n",
       "      <td>...</td>\n",
       "      <td>Pullover</td>\n",
       "      <td>M</td>\n",
       "      <td>yellow</td>\n",
       "      <td>49</td>\n",
       "      <td>2021</td>\n",
       "      <td>2</td>\n",
       "      <td>28</td>\n",
       "      <td>2021</td>\n",
       "      <td>3</td>\n",
       "      <td>18</td>\n",
       "    </tr>\n",
       "    <tr>\n",
       "      <th>3898</th>\n",
       "      <td>454</td>\n",
       "      <td>Abey Bampforth</td>\n",
       "      <td>Genderfluid</td>\n",
       "      <td>28</td>\n",
       "      <td>3543 Jack GroveApt. 595</td>\n",
       "      <td>3276</td>\n",
       "      <td>Port Isabellafurt</td>\n",
       "      <td>New South Wales</td>\n",
       "      <td>Australia</td>\n",
       "      <td>50</td>\n",
       "      <td>...</td>\n",
       "      <td>Joggers</td>\n",
       "      <td>S</td>\n",
       "      <td>red</td>\n",
       "      <td>71</td>\n",
       "      <td>2021</td>\n",
       "      <td>9</td>\n",
       "      <td>16</td>\n",
       "      <td>2021</td>\n",
       "      <td>9</td>\n",
       "      <td>18</td>\n",
       "    </tr>\n",
       "    <tr>\n",
       "      <th>...</th>\n",
       "      <td>...</td>\n",
       "      <td>...</td>\n",
       "      <td>...</td>\n",
       "      <td>...</td>\n",
       "      <td>...</td>\n",
       "      <td>...</td>\n",
       "      <td>...</td>\n",
       "      <td>...</td>\n",
       "      <td>...</td>\n",
       "      <td>...</td>\n",
       "      <td>...</td>\n",
       "      <td>...</td>\n",
       "      <td>...</td>\n",
       "      <td>...</td>\n",
       "      <td>...</td>\n",
       "      <td>...</td>\n",
       "      <td>...</td>\n",
       "      <td>...</td>\n",
       "      <td>...</td>\n",
       "      <td>...</td>\n",
       "      <td>...</td>\n",
       "    </tr>\n",
       "    <tr>\n",
       "      <th>2177</th>\n",
       "      <td>641</td>\n",
       "      <td>Zebulon Rousel</td>\n",
       "      <td>Agender</td>\n",
       "      <td>62</td>\n",
       "      <td>87 Cruickshank Estate DrApt. 374</td>\n",
       "      <td>5934</td>\n",
       "      <td>Hamishview</td>\n",
       "      <td>New South Wales</td>\n",
       "      <td>Australia</td>\n",
       "      <td>463</td>\n",
       "      <td>...</td>\n",
       "      <td>Chinos</td>\n",
       "      <td>XL</td>\n",
       "      <td>blue</td>\n",
       "      <td>48</td>\n",
       "      <td>2021</td>\n",
       "      <td>3</td>\n",
       "      <td>16</td>\n",
       "      <td>2021</td>\n",
       "      <td>4</td>\n",
       "      <td>9</td>\n",
       "    </tr>\n",
       "    <tr>\n",
       "      <th>183</th>\n",
       "      <td>625</td>\n",
       "      <td>Zorina Rabl</td>\n",
       "      <td>Bigender</td>\n",
       "      <td>31</td>\n",
       "      <td>7615 Hyatt TrailSuite 179</td>\n",
       "      <td>5972</td>\n",
       "      <td>Lake Phoebe</td>\n",
       "      <td>Western Australia</td>\n",
       "      <td>Australia</td>\n",
       "      <td>803</td>\n",
       "      <td>...</td>\n",
       "      <td>Drawstring</td>\n",
       "      <td>XS</td>\n",
       "      <td>blue</td>\n",
       "      <td>45</td>\n",
       "      <td>2021</td>\n",
       "      <td>4</td>\n",
       "      <td>3</td>\n",
       "      <td>2021</td>\n",
       "      <td>4</td>\n",
       "      <td>16</td>\n",
       "    </tr>\n",
       "    <tr>\n",
       "      <th>177</th>\n",
       "      <td>625</td>\n",
       "      <td>Zorina Rabl</td>\n",
       "      <td>Bigender</td>\n",
       "      <td>31</td>\n",
       "      <td>7615 Hyatt TrailSuite 179</td>\n",
       "      <td>5972</td>\n",
       "      <td>Lake Phoebe</td>\n",
       "      <td>Western Australia</td>\n",
       "      <td>Australia</td>\n",
       "      <td>803</td>\n",
       "      <td>...</td>\n",
       "      <td>Windbreaker</td>\n",
       "      <td>S</td>\n",
       "      <td>blue</td>\n",
       "      <td>41</td>\n",
       "      <td>2021</td>\n",
       "      <td>4</td>\n",
       "      <td>3</td>\n",
       "      <td>2021</td>\n",
       "      <td>4</td>\n",
       "      <td>16</td>\n",
       "    </tr>\n",
       "    <tr>\n",
       "      <th>530</th>\n",
       "      <td>625</td>\n",
       "      <td>Zorina Rabl</td>\n",
       "      <td>Bigender</td>\n",
       "      <td>31</td>\n",
       "      <td>7615 Hyatt TrailSuite 179</td>\n",
       "      <td>5972</td>\n",
       "      <td>Lake Phoebe</td>\n",
       "      <td>Western Australia</td>\n",
       "      <td>Australia</td>\n",
       "      <td>803</td>\n",
       "      <td>...</td>\n",
       "      <td>Casual Slim Fit</td>\n",
       "      <td>XL</td>\n",
       "      <td>yellow</td>\n",
       "      <td>78</td>\n",
       "      <td>2021</td>\n",
       "      <td>4</td>\n",
       "      <td>3</td>\n",
       "      <td>2021</td>\n",
       "      <td>4</td>\n",
       "      <td>16</td>\n",
       "    </tr>\n",
       "    <tr>\n",
       "      <th>4822</th>\n",
       "      <td>625</td>\n",
       "      <td>Zorina Rabl</td>\n",
       "      <td>Bigender</td>\n",
       "      <td>31</td>\n",
       "      <td>7615 Hyatt TrailSuite 179</td>\n",
       "      <td>5972</td>\n",
       "      <td>Lake Phoebe</td>\n",
       "      <td>Western Australia</td>\n",
       "      <td>Australia</td>\n",
       "      <td>803</td>\n",
       "      <td>...</td>\n",
       "      <td>Chinos</td>\n",
       "      <td>S</td>\n",
       "      <td>blue</td>\n",
       "      <td>51</td>\n",
       "      <td>2021</td>\n",
       "      <td>4</td>\n",
       "      <td>3</td>\n",
       "      <td>2021</td>\n",
       "      <td>4</td>\n",
       "      <td>16</td>\n",
       "    </tr>\n",
       "  </tbody>\n",
       "</table>\n",
       "<p>5000 rows × 29 columns</p>\n",
       "</div>"
      ],
      "text/plain": [
       "      customer_id   customer_name       gender  age  \\\n",
       "1408          454  Abey Bampforth  Genderfluid   28   \n",
       "4145          454  Abey Bampforth  Genderfluid   28   \n",
       "692           454  Abey Bampforth  Genderfluid   28   \n",
       "2295          454  Abey Bampforth  Genderfluid   28   \n",
       "3898          454  Abey Bampforth  Genderfluid   28   \n",
       "...           ...             ...          ...  ...   \n",
       "2177          641  Zebulon Rousel      Agender   62   \n",
       "183           625     Zorina Rabl     Bigender   31   \n",
       "177           625     Zorina Rabl     Bigender   31   \n",
       "530           625     Zorina Rabl     Bigender   31   \n",
       "4822          625     Zorina Rabl     Bigender   31   \n",
       "\n",
       "                          home_address  zip_code               city  \\\n",
       "1408           3543 Jack GroveApt. 595      3276  Port Isabellafurt   \n",
       "4145           3543 Jack GroveApt. 595      3276  Port Isabellafurt   \n",
       "692            3543 Jack GroveApt. 595      3276  Port Isabellafurt   \n",
       "2295           3543 Jack GroveApt. 595      3276  Port Isabellafurt   \n",
       "3898           3543 Jack GroveApt. 595      3276  Port Isabellafurt   \n",
       "...                                ...       ...                ...   \n",
       "2177  87 Cruickshank Estate DrApt. 374      5934         Hamishview   \n",
       "183          7615 Hyatt TrailSuite 179      5972        Lake Phoebe   \n",
       "177          7615 Hyatt TrailSuite 179      5972        Lake Phoebe   \n",
       "530          7615 Hyatt TrailSuite 179      5972        Lake Phoebe   \n",
       "4822         7615 Hyatt TrailSuite 179      5972        Lake Phoebe   \n",
       "\n",
       "                  state    country  order_id  ...     product_name size  \\\n",
       "1408    New South Wales  Australia        50  ...  Mandarin Collar   XL   \n",
       "4145    New South Wales  Australia        50  ...          Cropped    L   \n",
       "692     New South Wales  Australia       682  ...             Polo    L   \n",
       "2295    New South Wales  Australia       682  ...         Pullover    M   \n",
       "3898    New South Wales  Australia        50  ...          Joggers    S   \n",
       "...                 ...        ...       ...  ...              ...  ...   \n",
       "2177    New South Wales  Australia       463  ...           Chinos   XL   \n",
       "183   Western Australia  Australia       803  ...       Drawstring   XS   \n",
       "177   Western Australia  Australia       803  ...      Windbreaker    S   \n",
       "530   Western Australia  Australia       803  ...  Casual Slim Fit   XL   \n",
       "4822  Western Australia  Australia       803  ...           Chinos    S   \n",
       "\n",
       "      colour  quantity_store  year_order  month_order  day_order  \\\n",
       "1408    blue              71        2021            9         16   \n",
       "4145  yellow              60        2021            9         16   \n",
       "692   violet              76        2021            2         28   \n",
       "2295  yellow              49        2021            2         28   \n",
       "3898     red              71        2021            9         16   \n",
       "...      ...             ...         ...          ...        ...   \n",
       "2177    blue              48        2021            3         16   \n",
       "183     blue              45        2021            4          3   \n",
       "177     blue              41        2021            4          3   \n",
       "530   yellow              78        2021            4          3   \n",
       "4822    blue              51        2021            4          3   \n",
       "\n",
       "      year_delivery month_delivery day_delivery  \n",
       "1408           2021              9           18  \n",
       "4145           2021              9           18  \n",
       "692            2021              3           18  \n",
       "2295           2021              3           18  \n",
       "3898           2021              9           18  \n",
       "...             ...            ...          ...  \n",
       "2177           2021              4            9  \n",
       "183            2021              4           16  \n",
       "177            2021              4           16  \n",
       "530            2021              4           16  \n",
       "4822           2021              4           16  \n",
       "\n",
       "[5000 rows x 29 columns]"
      ]
     },
     "execution_count": 27,
     "metadata": {},
     "output_type": "execute_result"
    }
   ],
   "source": [
    "df = df.sort_values(by='customer_name', ascending=True)\n",
    "df"
   ]
  },
  {
   "cell_type": "code",
   "execution_count": 28,
   "id": "1b862c23",
   "metadata": {},
   "outputs": [
    {
     "name": "stderr",
     "output_type": "stream",
     "text": [
      "C:\\Users\\abdel\\AppData\\Local\\Temp\\ipykernel_12296\\3126366487.py:4: FutureWarning: The default value of numeric_only in DataFrame.corr is deprecated. In a future version, it will default to False. Select only valid columns or specify the value of numeric_only to silence this warning.\n",
      "  sns.heatmap(df.corr(), annot=True, cmap=\"Blues\") # create a heatmap\n"
     ]
    },
    {
     "data": {
      "image/png": "[encoded data removed]",
      "text/plain": [
       "<Figure size 2400x1800 with 2 Axes>"
      ]
     },
     "metadata": {},
     "output_type": "display_data"
    }
   ],
   "source": [
    "sns.set_style(\"whitegrid\") # set the seaborn style\n",
    "# let's make a correlation matrix for data\n",
    "fig = plt.figure(dpi=100, figsize=(24, 18)) # figure the size\n",
    "sns.heatmap(df.corr(), annot=True, cmap=\"Blues\") # create a heatmap\n",
    "plt.title(\"(Customer, Order, Product) Data Correlation\", weight=\"bold\", fontsize=30) # title\n",
    "plt.xticks(weight=\"bold\", fontsize=15) # x-ticks\n",
    "plt.yticks(weight=\"bold\", fontsize=15); # y-ticks"
   ]
  },
  {
   "cell_type": "code",
   "execution_count": 29,
   "id": "dc2de21a",
   "metadata": {},
   "outputs": [
    {
     "data": {
      "text/html": [
       "<div>\n",
       "<style scoped>\n",
       "    .dataframe tbody tr th:only-of-type {\n",
       "        vertical-align: middle;\n",
       "    }\n",
       "\n",
       "    .dataframe tbody tr th {\n",
       "        vertical-align: top;\n",
       "    }\n",
       "\n",
       "    .dataframe thead th {\n",
       "        text-align: right;\n",
       "    }\n",
       "</style>\n",
       "<table border=\"1\" class=\"dataframe\">\n",
       "  <thead>\n",
       "    <tr style=\"text-align: right;\">\n",
       "      <th></th>\n",
       "      <th>customer_id</th>\n",
       "      <th>age</th>\n",
       "      <th>zip_code</th>\n",
       "      <th>order_id</th>\n",
       "      <th>payment</th>\n",
       "      <th>sales_id</th>\n",
       "      <th>product_id</th>\n",
       "      <th>price_per_unit</th>\n",
       "      <th>sum_sold</th>\n",
       "      <th>total_price</th>\n",
       "      <th>quantity_store</th>\n",
       "      <th>year_order</th>\n",
       "      <th>month_order</th>\n",
       "      <th>day_order</th>\n",
       "      <th>year_delivery</th>\n",
       "      <th>month_delivery</th>\n",
       "      <th>day_delivery</th>\n",
       "    </tr>\n",
       "  </thead>\n",
       "  <tbody>\n",
       "    <tr>\n",
       "      <th>count</th>\n",
       "      <td>5000.000000</td>\n",
       "      <td>5000.000000</td>\n",
       "      <td>5000.000000</td>\n",
       "      <td>5000.000000</td>\n",
       "      <td>5000.000000</td>\n",
       "      <td>5000.000000</td>\n",
       "      <td>5000.000000</td>\n",
       "      <td>5000.000000</td>\n",
       "      <td>5000.00000</td>\n",
       "      <td>5000.000000</td>\n",
       "      <td>5000.000000</td>\n",
       "      <td>5000.0</td>\n",
       "      <td>5000.000000</td>\n",
       "      <td>5000.000000</td>\n",
       "      <td>5000.0</td>\n",
       "      <td>5000.000000</td>\n",
       "      <td>5000.00000</td>\n",
       "    </tr>\n",
       "    <tr>\n",
       "      <th>mean</th>\n",
       "      <td>504.563000</td>\n",
       "      <td>48.760400</td>\n",
       "      <td>4912.355600</td>\n",
       "      <td>503.038200</td>\n",
       "      <td>33976.785000</td>\n",
       "      <td>2499.500000</td>\n",
       "      <td>634.053200</td>\n",
       "      <td>103.501600</td>\n",
       "      <td>1.99240</td>\n",
       "      <td>206.360000</td>\n",
       "      <td>60.083400</td>\n",
       "      <td>2021.0</td>\n",
       "      <td>5.300000</td>\n",
       "      <td>15.738600</td>\n",
       "      <td>2021.0</td>\n",
       "      <td>5.771800</td>\n",
       "      <td>15.38480</td>\n",
       "    </tr>\n",
       "    <tr>\n",
       "      <th>std</th>\n",
       "      <td>276.504896</td>\n",
       "      <td>17.577519</td>\n",
       "      <td>2907.367939</td>\n",
       "      <td>285.964418</td>\n",
       "      <td>14612.706539</td>\n",
       "      <td>1443.520003</td>\n",
       "      <td>363.255794</td>\n",
       "      <td>9.195004</td>\n",
       "      <td>0.80751</td>\n",
       "      <td>86.357457</td>\n",
       "      <td>11.682523</td>\n",
       "      <td>0.0</td>\n",
       "      <td>2.847037</td>\n",
       "      <td>8.546817</td>\n",
       "      <td>0.0</td>\n",
       "      <td>2.890293</td>\n",
       "      <td>8.62784</td>\n",
       "    </tr>\n",
       "    <tr>\n",
       "      <th>min</th>\n",
       "      <td>1.000000</td>\n",
       "      <td>20.000000</td>\n",
       "      <td>52.000000</td>\n",
       "      <td>1.000000</td>\n",
       "      <td>10043.000000</td>\n",
       "      <td>0.000000</td>\n",
       "      <td>1.000000</td>\n",
       "      <td>90.000000</td>\n",
       "      <td>1.00000</td>\n",
       "      <td>90.000000</td>\n",
       "      <td>40.000000</td>\n",
       "      <td>2021.0</td>\n",
       "      <td>1.000000</td>\n",
       "      <td>1.000000</td>\n",
       "      <td>2021.0</td>\n",
       "      <td>1.000000</td>\n",
       "      <td>1.00000</td>\n",
       "    </tr>\n",
       "    <tr>\n",
       "      <th>25%</th>\n",
       "      <td>276.000000</td>\n",
       "      <td>34.000000</td>\n",
       "      <td>2273.000000</td>\n",
       "      <td>258.000000</td>\n",
       "      <td>20627.000000</td>\n",
       "      <td>1249.750000</td>\n",
       "      <td>323.000000</td>\n",
       "      <td>95.000000</td>\n",
       "      <td>1.00000</td>\n",
       "      <td>112.000000</td>\n",
       "      <td>50.000000</td>\n",
       "      <td>2021.0</td>\n",
       "      <td>3.000000</td>\n",
       "      <td>8.000000</td>\n",
       "      <td>2021.0</td>\n",
       "      <td>3.000000</td>\n",
       "      <td>8.00000</td>\n",
       "    </tr>\n",
       "    <tr>\n",
       "      <th>50%</th>\n",
       "      <td>509.000000</td>\n",
       "      <td>48.000000</td>\n",
       "      <td>4750.000000</td>\n",
       "      <td>504.500000</td>\n",
       "      <td>34259.000000</td>\n",
       "      <td>2499.500000</td>\n",
       "      <td>635.000000</td>\n",
       "      <td>102.000000</td>\n",
       "      <td>2.00000</td>\n",
       "      <td>204.000000</td>\n",
       "      <td>60.000000</td>\n",
       "      <td>2021.0</td>\n",
       "      <td>5.000000</td>\n",
       "      <td>16.000000</td>\n",
       "      <td>2021.0</td>\n",
       "      <td>6.000000</td>\n",
       "      <td>15.00000</td>\n",
       "    </tr>\n",
       "    <tr>\n",
       "      <th>75%</th>\n",
       "      <td>733.000000</td>\n",
       "      <td>63.000000</td>\n",
       "      <td>7460.250000</td>\n",
       "      <td>749.000000</td>\n",
       "      <td>46608.000000</td>\n",
       "      <td>3749.250000</td>\n",
       "      <td>951.000000</td>\n",
       "      <td>112.000000</td>\n",
       "      <td>3.00000</td>\n",
       "      <td>285.000000</td>\n",
       "      <td>70.000000</td>\n",
       "      <td>2021.0</td>\n",
       "      <td>8.000000</td>\n",
       "      <td>23.000000</td>\n",
       "      <td>2021.0</td>\n",
       "      <td>8.000000</td>\n",
       "      <td>23.00000</td>\n",
       "    </tr>\n",
       "    <tr>\n",
       "      <th>max</th>\n",
       "      <td>1000.000000</td>\n",
       "      <td>80.000000</td>\n",
       "      <td>9998.000000</td>\n",
       "      <td>999.000000</td>\n",
       "      <td>59910.000000</td>\n",
       "      <td>4999.000000</td>\n",
       "      <td>1259.000000</td>\n",
       "      <td>119.000000</td>\n",
       "      <td>3.00000</td>\n",
       "      <td>357.000000</td>\n",
       "      <td>80.000000</td>\n",
       "      <td>2021.0</td>\n",
       "      <td>10.000000</td>\n",
       "      <td>31.000000</td>\n",
       "      <td>2021.0</td>\n",
       "      <td>11.000000</td>\n",
       "      <td>31.00000</td>\n",
       "    </tr>\n",
       "  </tbody>\n",
       "</table>\n",
       "</div>"
      ],
      "text/plain": [
       "       customer_id          age     zip_code     order_id       payment  \\\n",
       "count  5000.000000  5000.000000  5000.000000  5000.000000   5000.000000   \n",
       "mean    504.563000    48.760400  4912.355600   503.038200  33976.785000   \n",
       "std     276.504896    17.577519  2907.367939   285.964418  14612.706539   \n",
       "min       1.000000    20.000000    52.000000     1.000000  10043.000000   \n",
       "25%     276.000000    34.000000  2273.000000   258.000000  20627.000000   \n",
       "50%     509.000000    48.000000  4750.000000   504.500000  34259.000000   \n",
       "75%     733.000000    63.000000  7460.250000   749.000000  46608.000000   \n",
       "max    1000.000000    80.000000  9998.000000   999.000000  59910.000000   \n",
       "\n",
       "          sales_id   product_id  price_per_unit    sum_sold  total_price  \\\n",
       "count  5000.000000  5000.000000     5000.000000  5000.00000  5000.000000   \n",
       "mean   2499.500000   634.053200      103.501600     1.99240   206.360000   \n",
       "std    1443.520003   363.255794        9.195004     0.80751    86.357457   \n",
       "min       0.000000     1.000000       90.000000     1.00000    90.000000   \n",
       "25%    1249.750000   323.000000       95.000000     1.00000   112.000000   \n",
       "50%    2499.500000   635.000000      102.000000     2.00000   204.000000   \n",
       "75%    3749.250000   951.000000      112.000000     3.00000   285.000000   \n",
       "max    4999.000000  1259.000000      119.000000     3.00000   357.000000   \n",
       "\n",
       "       quantity_store  year_order  month_order    day_order  year_delivery  \\\n",
       "count     5000.000000      5000.0  5000.000000  5000.000000         5000.0   \n",
       "mean        60.083400      2021.0     5.300000    15.738600         2021.0   \n",
       "std         11.682523         0.0     2.847037     8.546817            0.0   \n",
       "min         40.000000      2021.0     1.000000     1.000000         2021.0   \n",
       "25%         50.000000      2021.0     3.000000     8.000000         2021.0   \n",
       "50%         60.000000      2021.0     5.000000    16.000000         2021.0   \n",
       "75%         70.000000      2021.0     8.000000    23.000000         2021.0   \n",
       "max         80.000000      2021.0    10.000000    31.000000         2021.0   \n",
       "\n",
       "       month_delivery  day_delivery  \n",
       "count     5000.000000    5000.00000  \n",
       "mean         5.771800      15.38480  \n",
       "std          2.890293       8.62784  \n",
       "min          1.000000       1.00000  \n",
       "25%          3.000000       8.00000  \n",
       "50%          6.000000      15.00000  \n",
       "75%          8.000000      23.00000  \n",
       "max         11.000000      31.00000  "
      ]
     },
     "execution_count": 29,
     "metadata": {},
     "output_type": "execute_result"
    }
   ],
   "source": [
    "df.describe() "
   ]
  },
  {
   "cell_type": "code",
   "execution_count": 30,
   "id": "a694166c",
   "metadata": {},
   "outputs": [
    {
     "data": {
      "text/html": [
       "<div>\n",
       "<style scoped>\n",
       "    .dataframe tbody tr th:only-of-type {\n",
       "        vertical-align: middle;\n",
       "    }\n",
       "\n",
       "    .dataframe tbody tr th {\n",
       "        vertical-align: top;\n",
       "    }\n",
       "\n",
       "    .dataframe thead th {\n",
       "        text-align: right;\n",
       "    }\n",
       "</style>\n",
       "<table border=\"1\" class=\"dataframe\">\n",
       "  <thead>\n",
       "    <tr style=\"text-align: right;\">\n",
       "      <th></th>\n",
       "      <th>sum_sold</th>\n",
       "    </tr>\n",
       "    <tr>\n",
       "      <th>product_type</th>\n",
       "      <th></th>\n",
       "    </tr>\n",
       "  </thead>\n",
       "  <tbody>\n",
       "    <tr>\n",
       "      <th>Trousers</th>\n",
       "      <td>3360</td>\n",
       "    </tr>\n",
       "    <tr>\n",
       "      <th>Jacket</th>\n",
       "      <td>3343</td>\n",
       "    </tr>\n",
       "    <tr>\n",
       "      <th>Shirt</th>\n",
       "      <td>3259</td>\n",
       "    </tr>\n",
       "  </tbody>\n",
       "</table>\n",
       "</div>"
      ],
      "text/plain": [
       "              sum_sold\n",
       "product_type          \n",
       "Trousers          3360\n",
       "Jacket            3343\n",
       "Shirt             3259"
      ]
     },
     "execution_count": 30,
     "metadata": {},
     "output_type": "execute_result"
    }
   ],
   "source": [
    "df.groupby(['product_type'])['sum_sold'].sum().sort_values(ascending=False).to_frame()"
   ]
  },
  {
   "cell_type": "code",
   "execution_count": 31,
   "id": "31ae4836",
   "metadata": {},
   "outputs": [
    {
     "data": {
      "application/vnd.plotly.v1+json": {
       "config": {
        "plotlyServerURL": "https://plot.ly"
       },
       "data": [
        {
         "domain": {
          "x": [
           0,
           1
          ],
          "y": [
           0,
           1
          ]
         },
         "hovertemplate": "month_order=%{label}<br>sum_sold=%{value}<extra></extra>",
         "labels": [
          1,
          2,
          3,
          4,
          5,
          6,
          7,
          8,
          9,
          10
         ],
         "legendgroup": "",
         "name": "",
         "showlegend": true,
         "type": "pie",
         "values": [
          395,
          316,
          427,
          318,
          289,
          305,
          360,
          355,
          332,
          246
         ]
        }
       ],
       "layout": {
        "legend": {
         "tracegroupgap": 0
        },
        "template": {
         "data": {
          "bar": [
           {
            "error_x": {
             "color": "#2a3f5f"
            },
            "error_y": {
             "color": "#2a3f5f"
            },
            "marker": {
             "line": {
              "color": "#E5ECF6",
              "width": 0.5
             },
             "pattern": {
              "fillmode": "overlay",
              "size": 10,
              "solidity": 0.2
             }
            },
            "type": "bar"
           }
          ],
          "barpolar": [
           {
            "marker": {
             "line": {
              "color": "#E5ECF6",
              "width": 0.5
             },
             "pattern": {
              "fillmode": "overlay",
              "size": 10,
              "solidity": 0.2
             }
            },
            "type": "barpolar"
           }
          ],
          "carpet": [
           {
            "aaxis": {
             "endlinecolor": "#2a3f5f",
             "gridcolor": "white",
             "linecolor": "white",
             "minorgridcolor": "white",
             "startlinecolor": "#2a3f5f"
            },
            "baxis": {
             "endlinecolor": "#2a3f5f",
             "gridcolor": "white",
             "linecolor": "white",
             "minorgridcolor": "white",
             "startlinecolor": "#2a3f5f"
            },
            "type": "carpet"
           }
          ],
          "choropleth": [
           {
            "colorbar": {
             "outlinewidth": 0,
             "ticks": ""
            },
            "type": "choropleth"
           }
          ],
          "contour": [
           {
            "colorbar": {
             "outlinewidth": 0,
             "ticks": ""
            },
            "colorscale": [
             [
              0,
              "#0d0887"
             ],
             [
              0.1111111111111111,
              "#46039f"
             ],
             [
              0.2222222222222222,
              "#7201a8"
             ],
             [
              0.3333333333333333,
              "#9c179e"
             ],
             [
              0.4444444444444444,
              "#bd3786"
             ],
             [
              0.5555555555555556,
              "#d8576b"
             ],
             [
              0.6666666666666666,
              "#ed7953"
             ],
             [
              0.7777777777777778,
              "#fb9f3a"
             ],
             [
              0.8888888888888888,
              "#fdca26"
             ],
             [
              1,
              "#f0f921"
             ]
            ],
            "type": "contour"
           }
          ],
          "contourcarpet": [
           {
            "colorbar": {
             "outlinewidth": 0,
             "ticks": ""
            },
            "type": "contourcarpet"
           }
          ],
          "heatmap": [
           {
            "colorbar": {
             "outlinewidth": 0,
             "ticks": ""
            },
            "colorscale": [
             [
              0,
              "#0d0887"
             ],
             [
              0.1111111111111111,
              "#46039f"
             ],
             [
              0.2222222222222222,
              "#7201a8"
             ],
             [
              0.3333333333333333,
              "#9c179e"
             ],
             [
              0.4444444444444444,
              "#bd3786"
             ],
             [
              0.5555555555555556,
              "#d8576b"
             ],
             [
              0.6666666666666666,
              "#ed7953"
             ],
             [
              0.7777777777777778,
              "#fb9f3a"
             ],
             [
              0.8888888888888888,
              "#fdca26"
             ],
             [
              1,
              "#f0f921"
             ]
            ],
            "type": "heatmap"
           }
          ],
          "heatmapgl": [
           {
            "colorbar": {
             "outlinewidth": 0,
             "ticks": ""
            },
            "colorscale": [
             [
              0,
              "#0d0887"
             ],
             [
              0.1111111111111111,
              "#46039f"
             ],
             [
              0.2222222222222222,
              "#7201a8"
             ],
             [
              0.3333333333333333,
              "#9c179e"
             ],
             [
              0.4444444444444444,
              "#bd3786"
             ],
             [
              0.5555555555555556,
              "#d8576b"
             ],
             [
              0.6666666666666666,
              "#ed7953"
             ],
             [
              0.7777777777777778,
              "#fb9f3a"
             ],
             [
              0.8888888888888888,
              "#fdca26"
             ],
             [
              1,
              "#f0f921"
             ]
            ],
            "type": "heatmapgl"
           }
          ],
          "histogram": [
           {
            "marker": {
             "pattern": {
              "fillmode": "overlay",
              "size": 10,
              "solidity": 0.2
             }
            },
            "type": "histogram"
           }
          ],
          "histogram2d": [
           {
            "colorbar": {
             "outlinewidth": 0,
             "ticks": ""
            },
            "colorscale": [
             [
              0,
              "#0d0887"
             ],
             [
              0.1111111111111111,
              "#46039f"
             ],
             [
              0.2222222222222222,
              "#7201a8"
             ],
             [
              0.3333333333333333,
              "#9c179e"
             ],
             [
              0.4444444444444444,
              "#bd3786"
             ],
             [
              0.5555555555555556,
              "#d8576b"
             ],
             [
              0.6666666666666666,
              "#ed7953"
             ],
             [
              0.7777777777777778,
              "#fb9f3a"
             ],
             [
              0.8888888888888888,
              "#fdca26"
             ],
             [
              1,
              "#f0f921"
             ]
            ],
            "type": "histogram2d"
           }
          ],
          "histogram2dcontour": [
           {
            "colorbar": {
             "outlinewidth": 0,
             "ticks": ""
            },
            "colorscale": [
             [
              0,
              "#0d0887"
             ],
             [
              0.1111111111111111,
              "#46039f"
             ],
             [
              0.2222222222222222,
              "#7201a8"
             ],
             [
              0.3333333333333333,
              "#9c179e"
             ],
             [
              0.4444444444444444,
              "#bd3786"
             ],
             [
              0.5555555555555556,
              "#d8576b"
             ],
             [
              0.6666666666666666,
              "#ed7953"
             ],
             [
              0.7777777777777778,
              "#fb9f3a"
             ],
             [
              0.8888888888888888,
              "#fdca26"
             ],
             [
              1,
              "#f0f921"
             ]
            ],
            "type": "histogram2dcontour"
           }
          ],
          "mesh3d": [
           {
            "colorbar": {
             "outlinewidth": 0,
             "ticks": ""
            },
            "type": "mesh3d"
           }
          ],
          "parcoords": [
           {
            "line": {
             "colorbar": {
              "outlinewidth": 0,
              "ticks": ""
             }
            },
            "type": "parcoords"
           }
          ],
          "pie": [
           {
            "automargin": true,
            "type": "pie"
           }
          ],
          "scatter": [
           {
            "fillpattern": {
             "fillmode": "overlay",
             "size": 10,
             "solidity": 0.2
            },
            "type": "scatter"
           }
          ],
          "scatter3d": [
           {
            "line": {
             "colorbar": {
              "outlinewidth": 0,
              "ticks": ""
             }
            },
            "marker": {
             "colorbar": {
              "outlinewidth": 0,
              "ticks": ""
             }
            },
            "type": "scatter3d"
           }
          ],
          "scattercarpet": [
           {
            "marker": {
             "colorbar": {
              "outlinewidth": 0,
              "ticks": ""
             }
            },
            "type": "scattercarpet"
           }
          ],
          "scattergeo": [
           {
            "marker": {
             "colorbar": {
              "outlinewidth": 0,
              "ticks": ""
             }
            },
            "type": "scattergeo"
           }
          ],
          "scattergl": [
           {
            "marker": {
             "colorbar": {
              "outlinewidth": 0,
              "ticks": ""
             }
            },
            "type": "scattergl"
           }
          ],
          "scattermapbox": [
           {
            "marker": {
             "colorbar": {
              "outlinewidth": 0,
              "ticks": ""
             }
            },
            "type": "scattermapbox"
           }
          ],
          "scatterpolar": [
           {
            "marker": {
             "colorbar": {
              "outlinewidth": 0,
              "ticks": ""
             }
            },
            "type": "scatterpolar"
           }
          ],
          "scatterpolargl": [
           {
            "marker": {
             "colorbar": {
              "outlinewidth": 0,
              "ticks": ""
             }
            },
            "type": "scatterpolargl"
           }
          ],
          "scatterternary": [
           {
            "marker": {
             "colorbar": {
              "outlinewidth": 0,
              "ticks": ""
             }
            },
            "type": "scatterternary"
           }
          ],
          "surface": [
           {
            "colorbar": {
             "outlinewidth": 0,
             "ticks": ""
            },
            "colorscale": [
             [
              0,
              "#0d0887"
             ],
             [
              0.1111111111111111,
              "#46039f"
             ],
             [
              0.2222222222222222,
              "#7201a8"
             ],
             [
              0.3333333333333333,
              "#9c179e"
             ],
             [
              0.4444444444444444,
              "#bd3786"
             ],
             [
              0.5555555555555556,
              "#d8576b"
             ],
             [
              0.6666666666666666,
              "#ed7953"
             ],
             [
              0.7777777777777778,
              "#fb9f3a"
             ],
             [
              0.8888888888888888,
              "#fdca26"
             ],
             [
              1,
              "#f0f921"
             ]
            ],
            "type": "surface"
           }
          ],
          "table": [
           {
            "cells": {
             "fill": {
              "color": "#EBF0F8"
             },
             "line": {
              "color": "white"
             }
            },
            "header": {
             "fill": {
              "color": "#C8D4E3"
             },
             "line": {
              "color": "white"
             }
            },
            "type": "table"
           }
          ]
         },
         "layout": {
          "annotationdefaults": {
           "arrowcolor": "#2a3f5f",
           "arrowhead": 0,
           "arrowwidth": 1
          },
          "autotypenumbers": "strict",
          "coloraxis": {
           "colorbar": {
            "outlinewidth": 0,
            "ticks": ""
           }
          },
          "colorscale": {
           "diverging": [
            [
             0,
             "#8e0152"
            ],
            [
             0.1,
             "#c51b7d"
            ],
            [
             0.2,
             "#de77ae"
            ],
            [
             0.3,
             "#f1b6da"
            ],
            [
             0.4,
             "#fde0ef"
            ],
            [
             0.5,
             "#f7f7f7"
            ],
            [
             0.6,
             "#e6f5d0"
            ],
            [
             0.7,
             "#b8e186"
            ],
            [
             0.8,
             "#7fbc41"
            ],
            [
             0.9,
             "#4d9221"
            ],
            [
             1,
             "#276419"
            ]
           ],
           "sequential": [
            [
             0,
             "#0d0887"
            ],
            [
             0.1111111111111111,
             "#46039f"
            ],
            [
             0.2222222222222222,
             "#7201a8"
            ],
            [
             0.3333333333333333,
             "#9c179e"
            ],
            [
             0.4444444444444444,
             "#bd3786"
            ],
            [
             0.5555555555555556,
             "#d8576b"
            ],
            [
             0.6666666666666666,
             "#ed7953"
            ],
            [
             0.7777777777777778,
             "#fb9f3a"
            ],
            [
             0.8888888888888888,
             "#fdca26"
            ],
            [
             1,
             "#f0f921"
            ]
           ],
           "sequentialminus": [
            [
             0,
             "#0d0887"
            ],
            [
             0.1111111111111111,
             "#46039f"
            ],
            [
             0.2222222222222222,
             "#7201a8"
            ],
            [
             0.3333333333333333,
             "#9c179e"
            ],
            [
             0.4444444444444444,
             "#bd3786"
            ],
            [
             0.5555555555555556,
             "#d8576b"
            ],
            [
             0.6666666666666666,
             "#ed7953"
            ],
            [
             0.7777777777777778,
             "#fb9f3a"
            ],
            [
             0.8888888888888888,
             "#fdca26"
            ],
            [
             1,
             "#f0f921"
            ]
           ]
          },
          "colorway": [
           "#636efa",
           "#EF553B",
           "#00cc96",
           "#ab63fa",
           "#FFA15A",
           "#19d3f3",
           "#FF6692",
           "#B6E880",
           "#FF97FF",
           "#FECB52"
          ],
          "font": {
           "color": "#2a3f5f"
          },
          "geo": {
           "bgcolor": "white",
           "lakecolor": "white",
           "landcolor": "#E5ECF6",
           "showlakes": true,
           "showland": true,
           "subunitcolor": "white"
          },
          "hoverlabel": {
           "align": "left"
          },
          "hovermode": "closest",
          "mapbox": {
           "style": "light"
          },
          "paper_bgcolor": "white",
          "plot_bgcolor": "#E5ECF6",
          "polar": {
           "angularaxis": {
            "gridcolor": "white",
            "linecolor": "white",
            "ticks": ""
           },
           "bgcolor": "#E5ECF6",
           "radialaxis": {
            "gridcolor": "white",
            "linecolor": "white",
            "ticks": ""
           }
          },
          "scene": {
           "xaxis": {
            "backgroundcolor": "#E5ECF6",
            "gridcolor": "white",
            "gridwidth": 2,
            "linecolor": "white",
            "showbackground": true,
            "ticks": "",
            "zerolinecolor": "white"
           },
           "yaxis": {
            "backgroundcolor": "#E5ECF6",
            "gridcolor": "white",
            "gridwidth": 2,
            "linecolor": "white",
            "showbackground": true,
            "ticks": "",
            "zerolinecolor": "white"
           },
           "zaxis": {
            "backgroundcolor": "#E5ECF6",
            "gridcolor": "white",
            "gridwidth": 2,
            "linecolor": "white",
            "showbackground": true,
            "ticks": "",
            "zerolinecolor": "white"
           }
          },
          "shapedefaults": {
           "line": {
            "color": "#2a3f5f"
           }
          },
          "ternary": {
           "aaxis": {
            "gridcolor": "white",
            "linecolor": "white",
            "ticks": ""
           },
           "baxis": {
            "gridcolor": "white",
            "linecolor": "white",
            "ticks": ""
           },
           "bgcolor": "#E5ECF6",
           "caxis": {
            "gridcolor": "white",
            "linecolor": "white",
            "ticks": ""
           }
          },
          "title": {
           "x": 0.05
          },
          "xaxis": {
           "automargin": true,
           "gridcolor": "white",
           "linecolor": "white",
           "ticks": "",
           "title": {
            "standoff": 15
           },
           "zerolinecolor": "white",
           "zerolinewidth": 2
          },
          "yaxis": {
           "automargin": true,
           "gridcolor": "white",
           "linecolor": "white",
           "ticks": "",
           "title": {
            "standoff": 15
           },
           "zerolinecolor": "white",
           "zerolinewidth": 2
          }
         }
        },
        "title": {
         "text": "Product Type: Jacket"
        }
       }
      }
     },
     "metadata": {},
     "output_type": "display_data"
    },
    {
     "data": {
      "application/vnd.plotly.v1+json": {
       "config": {
        "plotlyServerURL": "https://plot.ly"
       },
       "data": [
        {
         "domain": {
          "x": [
           0,
           1
          ],
          "y": [
           0,
           1
          ]
         },
         "hovertemplate": "month_order=%{label}<br>sum_sold=%{value}<extra></extra>",
         "labels": [
          1,
          2,
          3,
          4,
          5,
          6,
          7,
          8,
          9,
          10
         ],
         "legendgroup": "",
         "name": "",
         "showlegend": true,
         "type": "pie",
         "values": [
          353,
          268,
          412,
          331,
          237,
          347,
          404,
          321,
          317,
          269
         ]
        }
       ],
       "layout": {
        "legend": {
         "tracegroupgap": 0
        },
        "template": {
         "data": {
          "bar": [
           {
            "error_x": {
             "color": "#2a3f5f"
            },
            "error_y": {
             "color": "#2a3f5f"
            },
            "marker": {
             "line": {
              "color": "#E5ECF6",
              "width": 0.5
             },
             "pattern": {
              "fillmode": "overlay",
              "size": 10,
              "solidity": 0.2
             }
            },
            "type": "bar"
           }
          ],
          "barpolar": [
           {
            "marker": {
             "line": {
              "color": "#E5ECF6",
              "width": 0.5
             },
             "pattern": {
              "fillmode": "overlay",
              "size": 10,
              "solidity": 0.2
             }
            },
            "type": "barpolar"
           }
          ],
          "carpet": [
           {
            "aaxis": {
             "endlinecolor": "#2a3f5f",
             "gridcolor": "white",
             "linecolor": "white",
             "minorgridcolor": "white",
             "startlinecolor": "#2a3f5f"
            },
            "baxis": {
             "endlinecolor": "#2a3f5f",
             "gridcolor": "white",
             "linecolor": "white",
             "minorgridcolor": "white",
             "startlinecolor": "#2a3f5f"
            },
            "type": "carpet"
           }
          ],
          "choropleth": [
           {
            "colorbar": {
             "outlinewidth": 0,
             "ticks": ""
            },
            "type": "choropleth"
           }
          ],
          "contour": [
           {
            "colorbar": {
             "outlinewidth": 0,
             "ticks": ""
            },
            "colorscale": [
             [
              0,
              "#0d0887"
             ],
             [
              0.1111111111111111,
              "#46039f"
             ],
             [
              0.2222222222222222,
              "#7201a8"
             ],
             [
              0.3333333333333333,
              "#9c179e"
             ],
             [
              0.4444444444444444,
              "#bd3786"
             ],
             [
              0.5555555555555556,
              "#d8576b"
             ],
             [
              0.6666666666666666,
              "#ed7953"
             ],
             [
              0.7777777777777778,
              "#fb9f3a"
             ],
             [
              0.8888888888888888,
              "#fdca26"
             ],
             [
              1,
              "#f0f921"
             ]
            ],
            "type": "contour"
           }
          ],
          "contourcarpet": [
           {
            "colorbar": {
             "outlinewidth": 0,
             "ticks": ""
            },
            "type": "contourcarpet"
           }
          ],
          "heatmap": [
           {
            "colorbar": {
             "outlinewidth": 0,
             "ticks": ""
            },
            "colorscale": [
             [
              0,
              "#0d0887"
             ],
             [
              0.1111111111111111,
              "#46039f"
             ],
             [
              0.2222222222222222,
              "#7201a8"
             ],
             [
              0.3333333333333333,
              "#9c179e"
             ],
             [
              0.4444444444444444,
              "#bd3786"
             ],
             [
              0.5555555555555556,
              "#d8576b"
             ],
             [
              0.6666666666666666,
              "#ed7953"
             ],
             [
              0.7777777777777778,
              "#fb9f3a"
             ],
             [
              0.8888888888888888,
              "#fdca26"
             ],
             [
              1,
              "#f0f921"
             ]
            ],
            "type": "heatmap"
           }
          ],
          "heatmapgl": [
           {
            "colorbar": {
             "outlinewidth": 0,
             "ticks": ""
            },
            "colorscale": [
             [
              0,
              "#0d0887"
             ],
             [
              0.1111111111111111,
              "#46039f"
             ],
             [
              0.2222222222222222,
              "#7201a8"
             ],
             [
              0.3333333333333333,
              "#9c179e"
             ],
             [
              0.4444444444444444,
              "#bd3786"
             ],
             [
              0.5555555555555556,
              "#d8576b"
             ],
             [
              0.6666666666666666,
              "#ed7953"
             ],
             [
              0.7777777777777778,
              "#fb9f3a"
             ],
             [
              0.8888888888888888,
              "#fdca26"
             ],
             [
              1,
              "#f0f921"
             ]
            ],
            "type": "heatmapgl"
           }
          ],
          "histogram": [
           {
            "marker": {
             "pattern": {
              "fillmode": "overlay",
              "size": 10,
              "solidity": 0.2
             }
            },
            "type": "histogram"
           }
          ],
          "histogram2d": [
           {
            "colorbar": {
             "outlinewidth": 0,
             "ticks": ""
            },
            "colorscale": [
             [
              0,
              "#0d0887"
             ],
             [
              0.1111111111111111,
              "#46039f"
             ],
             [
              0.2222222222222222,
              "#7201a8"
             ],
             [
              0.3333333333333333,
              "#9c179e"
             ],
             [
              0.4444444444444444,
              "#bd3786"
             ],
             [
              0.5555555555555556,
              "#d8576b"
             ],
             [
              0.6666666666666666,
              "#ed7953"
             ],
             [
              0.7777777777777778,
              "#fb9f3a"
             ],
             [
              0.8888888888888888,
              "#fdca26"
             ],
             [
              1,
              "#f0f921"
             ]
            ],
            "type": "histogram2d"
           }
          ],
          "histogram2dcontour": [
           {
            "colorbar": {
             "outlinewidth": 0,
             "ticks": ""
            },
            "colorscale": [
             [
              0,
              "#0d0887"
             ],
             [
              0.1111111111111111,
              "#46039f"
             ],
             [
              0.2222222222222222,
              "#7201a8"
             ],
             [
              0.3333333333333333,
              "#9c179e"
             ],
             [
              0.4444444444444444,
              "#bd3786"
             ],
             [
              0.5555555555555556,
              "#d8576b"
             ],
             [
              0.6666666666666666,
              "#ed7953"
             ],
             [
              0.7777777777777778,
              "#fb9f3a"
             ],
             [
              0.8888888888888888,
              "#fdca26"
             ],
             [
              1,
              "#f0f921"
             ]
            ],
            "type": "histogram2dcontour"
           }
          ],
          "mesh3d": [
           {
            "colorbar": {
             "outlinewidth": 0,
             "ticks": ""
            },
            "type": "mesh3d"
           }
          ],
          "parcoords": [
           {
            "line": {
             "colorbar": {
              "outlinewidth": 0,
              "ticks": ""
             }
            },
            "type": "parcoords"
           }
          ],
          "pie": [
           {
            "automargin": true,
            "type": "pie"
           }
          ],
          "scatter": [
           {
            "fillpattern": {
             "fillmode": "overlay",
             "size": 10,
             "solidity": 0.2
            },
            "type": "scatter"
           }
          ],
          "scatter3d": [
           {
            "line": {
             "colorbar": {
              "outlinewidth": 0,
              "ticks": ""
             }
            },
            "marker": {
             "colorbar": {
              "outlinewidth": 0,
              "ticks": ""
             }
            },
            "type": "scatter3d"
           }
          ],
          "scattercarpet": [
           {
            "marker": {
             "colorbar": {
              "outlinewidth": 0,
              "ticks": ""
             }
            },
            "type": "scattercarpet"
           }
          ],
          "scattergeo": [
           {
            "marker": {
             "colorbar": {
              "outlinewidth": 0,
              "ticks": ""
             }
            },
            "type": "scattergeo"
           }
          ],
          "scattergl": [
           {
            "marker": {
             "colorbar": {
              "outlinewidth": 0,
              "ticks": ""
             }
            },
            "type": "scattergl"
           }
          ],
          "scattermapbox": [
           {
            "marker": {
             "colorbar": {
              "outlinewidth": 0,
              "ticks": ""
             }
            },
            "type": "scattermapbox"
           }
          ],
          "scatterpolar": [
           {
            "marker": {
             "colorbar": {
              "outlinewidth": 0,
              "ticks": ""
             }
            },
            "type": "scatterpolar"
           }
          ],
          "scatterpolargl": [
           {
            "marker": {
             "colorbar": {
              "outlinewidth": 0,
              "ticks": ""
             }
            },
            "type": "scatterpolargl"
           }
          ],
          "scatterternary": [
           {
            "marker": {
             "colorbar": {
              "outlinewidth": 0,
              "ticks": ""
             }
            },
            "type": "scatterternary"
           }
          ],
          "surface": [
           {
            "colorbar": {
             "outlinewidth": 0,
             "ticks": ""
            },
            "colorscale": [
             [
              0,
              "#0d0887"
             ],
             [
              0.1111111111111111,
              "#46039f"
             ],
             [
              0.2222222222222222,
              "#7201a8"
             ],
             [
              0.3333333333333333,
              "#9c179e"
             ],
             [
              0.4444444444444444,
              "#bd3786"
             ],
             [
              0.5555555555555556,
              "#d8576b"
             ],
             [
              0.6666666666666666,
              "#ed7953"
             ],
             [
              0.7777777777777778,
              "#fb9f3a"
             ],
             [
              0.8888888888888888,
              "#fdca26"
             ],
             [
              1,
              "#f0f921"
             ]
            ],
            "type": "surface"
           }
          ],
          "table": [
           {
            "cells": {
             "fill": {
              "color": "#EBF0F8"
             },
             "line": {
              "color": "white"
             }
            },
            "header": {
             "fill": {
              "color": "#C8D4E3"
             },
             "line": {
              "color": "white"
             }
            },
            "type": "table"
           }
          ]
         },
         "layout": {
          "annotationdefaults": {
           "arrowcolor": "#2a3f5f",
           "arrowhead": 0,
           "arrowwidth": 1
          },
          "autotypenumbers": "strict",
          "coloraxis": {
           "colorbar": {
            "outlinewidth": 0,
            "ticks": ""
           }
          },
          "colorscale": {
           "diverging": [
            [
             0,
             "#8e0152"
            ],
            [
             0.1,
             "#c51b7d"
            ],
            [
             0.2,
             "#de77ae"
            ],
            [
             0.3,
             "#f1b6da"
            ],
            [
             0.4,
             "#fde0ef"
            ],
            [
             0.5,
             "#f7f7f7"
            ],
            [
             0.6,
             "#e6f5d0"
            ],
            [
             0.7,
             "#b8e186"
            ],
            [
             0.8,
             "#7fbc41"
            ],
            [
             0.9,
             "#4d9221"
            ],
            [
             1,
             "#276419"
            ]
           ],
           "sequential": [
            [
             0,
             "#0d0887"
            ],
            [
             0.1111111111111111,
             "#46039f"
            ],
            [
             0.2222222222222222,
             "#7201a8"
            ],
            [
             0.3333333333333333,
             "#9c179e"
            ],
            [
             0.4444444444444444,
             "#bd3786"
            ],
            [
             0.5555555555555556,
             "#d8576b"
            ],
            [
             0.6666666666666666,
             "#ed7953"
            ],
            [
             0.7777777777777778,
             "#fb9f3a"
            ],
            [
             0.8888888888888888,
             "#fdca26"
            ],
            [
             1,
             "#f0f921"
            ]
           ],
           "sequentialminus": [
            [
             0,
             "#0d0887"
            ],
            [
             0.1111111111111111,
             "#46039f"
            ],
            [
             0.2222222222222222,
             "#7201a8"
            ],
            [
             0.3333333333333333,
             "#9c179e"
            ],
            [
             0.4444444444444444,
             "#bd3786"
            ],
            [
             0.5555555555555556,
             "#d8576b"
            ],
            [
             0.6666666666666666,
             "#ed7953"
            ],
            [
             0.7777777777777778,
             "#fb9f3a"
            ],
            [
             0.8888888888888888,
             "#fdca26"
            ],
            [
             1,
             "#f0f921"
            ]
           ]
          },
          "colorway": [
           "#636efa",
           "#EF553B",
           "#00cc96",
           "#ab63fa",
           "#FFA15A",
           "#19d3f3",
           "#FF6692",
           "#B6E880",
           "#FF97FF",
           "#FECB52"
          ],
          "font": {
           "color": "#2a3f5f"
          },
          "geo": {
           "bgcolor": "white",
           "lakecolor": "white",
           "landcolor": "#E5ECF6",
           "showlakes": true,
           "showland": true,
           "subunitcolor": "white"
          },
          "hoverlabel": {
           "align": "left"
          },
          "hovermode": "closest",
          "mapbox": {
           "style": "light"
          },
          "paper_bgcolor": "white",
          "plot_bgcolor": "#E5ECF6",
          "polar": {
           "angularaxis": {
            "gridcolor": "white",
            "linecolor": "white",
            "ticks": ""
           },
           "bgcolor": "#E5ECF6",
           "radialaxis": {
            "gridcolor": "white",
            "linecolor": "white",
            "ticks": ""
           }
          },
          "scene": {
           "xaxis": {
            "backgroundcolor": "#E5ECF6",
            "gridcolor": "white",
            "gridwidth": 2,
            "linecolor": "white",
            "showbackground": true,
            "ticks": "",
            "zerolinecolor": "white"
           },
           "yaxis": {
            "backgroundcolor": "#E5ECF6",
            "gridcolor": "white",
            "gridwidth": 2,
            "linecolor": "white",
            "showbackground": true,
            "ticks": "",
            "zerolinecolor": "white"
           },
           "zaxis": {
            "backgroundcolor": "#E5ECF6",
            "gridcolor": "white",
            "gridwidth": 2,
            "linecolor": "white",
            "showbackground": true,
            "ticks": "",
            "zerolinecolor": "white"
           }
          },
          "shapedefaults": {
           "line": {
            "color": "#2a3f5f"
           }
          },
          "ternary": {
           "aaxis": {
            "gridcolor": "white",
            "linecolor": "white",
            "ticks": ""
           },
           "baxis": {
            "gridcolor": "white",
            "linecolor": "white",
            "ticks": ""
           },
           "bgcolor": "#E5ECF6",
           "caxis": {
            "gridcolor": "white",
            "linecolor": "white",
            "ticks": ""
           }
          },
          "title": {
           "x": 0.05
          },
          "xaxis": {
           "automargin": true,
           "gridcolor": "white",
           "linecolor": "white",
           "ticks": "",
           "title": {
            "standoff": 15
           },
           "zerolinecolor": "white",
           "zerolinewidth": 2
          },
          "yaxis": {
           "automargin": true,
           "gridcolor": "white",
           "linecolor": "white",
           "ticks": "",
           "title": {
            "standoff": 15
           },
           "zerolinecolor": "white",
           "zerolinewidth": 2
          }
         }
        },
        "title": {
         "text": "Product Type: Shirt"
        }
       }
      }
     },
     "metadata": {},
     "output_type": "display_data"
    },
    {
     "data": {
      "application/vnd.plotly.v1+json": {
       "config": {
        "plotlyServerURL": "https://plot.ly"
       },
       "data": [
        {
         "domain": {
          "x": [
           0,
           1
          ],
          "y": [
           0,
           1
          ]
         },
         "hovertemplate": "month_order=%{label}<br>sum_sold=%{value}<extra></extra>",
         "labels": [
          1,
          2,
          3,
          4,
          5,
          6,
          7,
          8,
          9,
          10
         ],
         "legendgroup": "",
         "name": "",
         "showlegend": true,
         "type": "pie",
         "values": [
          395,
          336,
          425,
          295,
          303,
          330,
          358,
          332,
          287,
          299
         ]
        }
       ],
       "layout": {
        "legend": {
         "tracegroupgap": 0
        },
        "template": {
         "data": {
          "bar": [
           {
            "error_x": {
             "color": "#2a3f5f"
            },
            "error_y": {
             "color": "#2a3f5f"
            },
            "marker": {
             "line": {
              "color": "#E5ECF6",
              "width": 0.5
             },
             "pattern": {
              "fillmode": "overlay",
              "size": 10,
              "solidity": 0.2
             }
            },
            "type": "bar"
           }
          ],
          "barpolar": [
           {
            "marker": {
             "line": {
              "color": "#E5ECF6",
              "width": 0.5
             },
             "pattern": {
              "fillmode": "overlay",
              "size": 10,
              "solidity": 0.2
             }
            },
            "type": "barpolar"
           }
          ],
          "carpet": [
           {
            "aaxis": {
             "endlinecolor": "#2a3f5f",
             "gridcolor": "white",
             "linecolor": "white",
             "minorgridcolor": "white",
             "startlinecolor": "#2a3f5f"
            },
            "baxis": {
             "endlinecolor": "#2a3f5f",
             "gridcolor": "white",
             "linecolor": "white",
             "minorgridcolor": "white",
             "startlinecolor": "#2a3f5f"
            },
            "type": "carpet"
           }
          ],
          "choropleth": [
           {
            "colorbar": {
             "outlinewidth": 0,
             "ticks": ""
            },
            "type": "choropleth"
           }
          ],
          "contour": [
           {
            "colorbar": {
             "outlinewidth": 0,
             "ticks": ""
            },
            "colorscale": [
             [
              0,
              "#0d0887"
             ],
             [
              0.1111111111111111,
              "#46039f"
             ],
             [
              0.2222222222222222,
              "#7201a8"
             ],
             [
              0.3333333333333333,
              "#9c179e"
             ],
             [
              0.4444444444444444,
              "#bd3786"
             ],
             [
              0.5555555555555556,
              "#d8576b"
             ],
             [
              0.6666666666666666,
              "#ed7953"
             ],
             [
              0.7777777777777778,
              "#fb9f3a"
             ],
             [
              0.8888888888888888,
              "#fdca26"
             ],
             [
              1,
              "#f0f921"
             ]
            ],
            "type": "contour"
           }
          ],
          "contourcarpet": [
           {
            "colorbar": {
             "outlinewidth": 0,
             "ticks": ""
            },
            "type": "contourcarpet"
           }
          ],
          "heatmap": [
           {
            "colorbar": {
             "outlinewidth": 0,
             "ticks": ""
            },
            "colorscale": [
             [
              0,
              "#0d0887"
             ],
             [
              0.1111111111111111,
              "#46039f"
             ],
             [
              0.2222222222222222,
              "#7201a8"
             ],
             [
              0.3333333333333333,
              "#9c179e"
             ],
             [
              0.4444444444444444,
              "#bd3786"
             ],
             [
              0.5555555555555556,
              "#d8576b"
             ],
             [
              0.6666666666666666,
              "#ed7953"
             ],
             [
              0.7777777777777778,
              "#fb9f3a"
             ],
             [
              0.8888888888888888,
              "#fdca26"
             ],
             [
              1,
              "#f0f921"
             ]
            ],
            "type": "heatmap"
           }
          ],
          "heatmapgl": [
           {
            "colorbar": {
             "outlinewidth": 0,
             "ticks": ""
            },
            "colorscale": [
             [
              0,
              "#0d0887"
             ],
             [
              0.1111111111111111,
              "#46039f"
             ],
             [
              0.2222222222222222,
              "#7201a8"
             ],
             [
              0.3333333333333333,
              "#9c179e"
             ],
             [
              0.4444444444444444,
              "#bd3786"
             ],
             [
              0.5555555555555556,
              "#d8576b"
             ],
             [
              0.6666666666666666,
              "#ed7953"
             ],
             [
              0.7777777777777778,
              "#fb9f3a"
             ],
             [
              0.8888888888888888,
              "#fdca26"
             ],
             [
              1,
              "#f0f921"
             ]
            ],
            "type": "heatmapgl"
           }
          ],
          "histogram": [
           {
            "marker": {
             "pattern": {
              "fillmode": "overlay",
              "size": 10,
              "solidity": 0.2
             }
            },
            "type": "histogram"
           }
          ],
          "histogram2d": [
           {
            "colorbar": {
             "outlinewidth": 0,
             "ticks": ""
            },
            "colorscale": [
             [
              0,
              "#0d0887"
             ],
             [
              0.1111111111111111,
              "#46039f"
             ],
             [
              0.2222222222222222,
              "#7201a8"
             ],
             [
              0.3333333333333333,
              "#9c179e"
             ],
             [
              0.4444444444444444,
              "#bd3786"
             ],
             [
              0.5555555555555556,
              "#d8576b"
             ],
             [
              0.6666666666666666,
              "#ed7953"
             ],
             [
              0.7777777777777778,
              "#fb9f3a"
             ],
             [
              0.8888888888888888,
              "#fdca26"
             ],
             [
              1,
              "#f0f921"
             ]
            ],
            "type": "histogram2d"
           }
          ],
          "histogram2dcontour": [
           {
            "colorbar": {
             "outlinewidth": 0,
             "ticks": ""
            },
            "colorscale": [
             [
              0,
              "#0d0887"
             ],
             [
              0.1111111111111111,
              "#46039f"
             ],
             [
              0.2222222222222222,
              "#7201a8"
             ],
             [
              0.3333333333333333,
              "#9c179e"
             ],
             [
              0.4444444444444444,
              "#bd3786"
             ],
             [
              0.5555555555555556,
              "#d8576b"
             ],
             [
              0.6666666666666666,
              "#ed7953"
             ],
             [
              0.7777777777777778,
              "#fb9f3a"
             ],
             [
              0.8888888888888888,
              "#fdca26"
             ],
             [
              1,
              "#f0f921"
             ]
            ],
            "type": "histogram2dcontour"
           }
          ],
          "mesh3d": [
           {
            "colorbar": {
             "outlinewidth": 0,
             "ticks": ""
            },
            "type": "mesh3d"
           }
          ],
          "parcoords": [
           {
            "line": {
             "colorbar": {
              "outlinewidth": 0,
              "ticks": ""
             }
            },
            "type": "parcoords"
           }
          ],
          "pie": [
           {
            "automargin": true,
            "type": "pie"
           }
          ],
          "scatter": [
           {
            "fillpattern": {
             "fillmode": "overlay",
             "size": 10,
             "solidity": 0.2
            },
            "type": "scatter"
           }
          ],
          "scatter3d": [
           {
            "line": {
             "colorbar": {
              "outlinewidth": 0,
              "ticks": ""
             }
            },
            "marker": {
             "colorbar": {
              "outlinewidth": 0,
              "ticks": ""
             }
            },
            "type": "scatter3d"
           }
          ],
          "scattercarpet": [
           {
            "marker": {
             "colorbar": {
              "outlinewidth": 0,
              "ticks": ""
             }
            },
            "type": "scattercarpet"
           }
          ],
          "scattergeo": [
           {
            "marker": {
             "colorbar": {
              "outlinewidth": 0,
              "ticks": ""
             }
            },
            "type": "scattergeo"
           }
          ],
          "scattergl": [
           {
            "marker": {
             "colorbar": {
              "outlinewidth": 0,
              "ticks": ""
             }
            },
            "type": "scattergl"
           }
          ],
          "scattermapbox": [
           {
            "marker": {
             "colorbar": {
              "outlinewidth": 0,
              "ticks": ""
             }
            },
            "type": "scattermapbox"
           }
          ],
          "scatterpolar": [
           {
            "marker": {
             "colorbar": {
              "outlinewidth": 0,
              "ticks": ""
             }
            },
            "type": "scatterpolar"
           }
          ],
          "scatterpolargl": [
           {
            "marker": {
             "colorbar": {
              "outlinewidth": 0,
              "ticks": ""
             }
            },
            "type": "scatterpolargl"
           }
          ],
          "scatterternary": [
           {
            "marker": {
             "colorbar": {
              "outlinewidth": 0,
              "ticks": ""
             }
            },
            "type": "scatterternary"
           }
          ],
          "surface": [
           {
            "colorbar": {
             "outlinewidth": 0,
             "ticks": ""
            },
            "colorscale": [
             [
              0,
              "#0d0887"
             ],
             [
              0.1111111111111111,
              "#46039f"
             ],
             [
              0.2222222222222222,
              "#7201a8"
             ],
             [
              0.3333333333333333,
              "#9c179e"
             ],
             [
              0.4444444444444444,
              "#bd3786"
             ],
             [
              0.5555555555555556,
              "#d8576b"
             ],
             [
              0.6666666666666666,
              "#ed7953"
             ],
             [
              0.7777777777777778,
              "#fb9f3a"
             ],
             [
              0.8888888888888888,
              "#fdca26"
             ],
             [
              1,
              "#f0f921"
             ]
            ],
            "type": "surface"
           }
          ],
          "table": [
           {
            "cells": {
             "fill": {
              "color": "#EBF0F8"
             },
             "line": {
              "color": "white"
             }
            },
            "header": {
             "fill": {
              "color": "#C8D4E3"
             },
             "line": {
              "color": "white"
             }
            },
            "type": "table"
           }
          ]
         },
         "layout": {
          "annotationdefaults": {
           "arrowcolor": "#2a3f5f",
           "arrowhead": 0,
           "arrowwidth": 1
          },
          "autotypenumbers": "strict",
          "coloraxis": {
           "colorbar": {
            "outlinewidth": 0,
            "ticks": ""
           }
          },
          "colorscale": {
           "diverging": [
            [
             0,
             "#8e0152"
            ],
            [
             0.1,
             "#c51b7d"
            ],
            [
             0.2,
             "#de77ae"
            ],
            [
             0.3,
             "#f1b6da"
            ],
            [
             0.4,
             "#fde0ef"
            ],
            [
             0.5,
             "#f7f7f7"
            ],
            [
             0.6,
             "#e6f5d0"
            ],
            [
             0.7,
             "#b8e186"
            ],
            [
             0.8,
             "#7fbc41"
            ],
            [
             0.9,
             "#4d9221"
            ],
            [
             1,
             "#276419"
            ]
           ],
           "sequential": [
            [
             0,
             "#0d0887"
            ],
            [
             0.1111111111111111,
             "#46039f"
            ],
            [
             0.2222222222222222,
             "#7201a8"
            ],
            [
             0.3333333333333333,
             "#9c179e"
            ],
            [
             0.4444444444444444,
             "#bd3786"
            ],
            [
             0.5555555555555556,
             "#d8576b"
            ],
            [
             0.6666666666666666,
             "#ed7953"
            ],
            [
             0.7777777777777778,
             "#fb9f3a"
            ],
            [
             0.8888888888888888,
             "#fdca26"
            ],
            [
             1,
             "#f0f921"
            ]
           ],
           "sequentialminus": [
            [
             0,
             "#0d0887"
            ],
            [
             0.1111111111111111,
             "#46039f"
            ],
            [
             0.2222222222222222,
             "#7201a8"
            ],
            [
             0.3333333333333333,
             "#9c179e"
            ],
            [
             0.4444444444444444,
             "#bd3786"
            ],
            [
             0.5555555555555556,
             "#d8576b"
            ],
            [
             0.6666666666666666,
             "#ed7953"
            ],
            [
             0.7777777777777778,
             "#fb9f3a"
            ],
            [
             0.8888888888888888,
             "#fdca26"
            ],
            [
             1,
             "#f0f921"
            ]
           ]
          },
          "colorway": [
           "#636efa",
           "#EF553B",
           "#00cc96",
           "#ab63fa",
           "#FFA15A",
           "#19d3f3",
           "#FF6692",
           "#B6E880",
           "#FF97FF",
           "#FECB52"
          ],
          "font": {
           "color": "#2a3f5f"
          },
          "geo": {
           "bgcolor": "white",
           "lakecolor": "white",
           "landcolor": "#E5ECF6",
           "showlakes": true,
           "showland": true,
           "subunitcolor": "white"
          },
          "hoverlabel": {
           "align": "left"
          },
          "hovermode": "closest",
          "mapbox": {
           "style": "light"
          },
          "paper_bgcolor": "white",
          "plot_bgcolor": "#E5ECF6",
          "polar": {
           "angularaxis": {
            "gridcolor": "white",
            "linecolor": "white",
            "ticks": ""
           },
           "bgcolor": "#E5ECF6",
           "radialaxis": {
            "gridcolor": "white",
            "linecolor": "white",
            "ticks": ""
           }
          },
          "scene": {
           "xaxis": {
            "backgroundcolor": "#E5ECF6",
            "gridcolor": "white",
            "gridwidth": 2,
            "linecolor": "white",
            "showbackground": true,
            "ticks": "",
            "zerolinecolor": "white"
           },
           "yaxis": {
            "backgroundcolor": "#E5ECF6",
            "gridcolor": "white",
            "gridwidth": 2,
            "linecolor": "white",
            "showbackground": true,
            "ticks": "",
            "zerolinecolor": "white"
           },
           "zaxis": {
            "backgroundcolor": "#E5ECF6",
            "gridcolor": "white",
            "gridwidth": 2,
            "linecolor": "white",
            "showbackground": true,
            "ticks": "",
            "zerolinecolor": "white"
           }
          },
          "shapedefaults": {
           "line": {
            "color": "#2a3f5f"
           }
          },
          "ternary": {
           "aaxis": {
            "gridcolor": "white",
            "linecolor": "white",
            "ticks": ""
           },
           "baxis": {
            "gridcolor": "white",
            "linecolor": "white",
            "ticks": ""
           },
           "bgcolor": "#E5ECF6",
           "caxis": {
            "gridcolor": "white",
            "linecolor": "white",
            "ticks": ""
           }
          },
          "title": {
           "x": 0.05
          },
          "xaxis": {
           "automargin": true,
           "gridcolor": "white",
           "linecolor": "white",
           "ticks": "",
           "title": {
            "standoff": 15
           },
           "zerolinecolor": "white",
           "zerolinewidth": 2
          },
          "yaxis": {
           "automargin": true,
           "gridcolor": "white",
           "linecolor": "white",
           "ticks": "",
           "title": {
            "standoff": 15
           },
           "zerolinecolor": "white",
           "zerolinewidth": 2
          }
         }
        },
        "title": {
         "text": "Product Type: Trousers"
        }
       }
      }
     },
     "metadata": {},
     "output_type": "display_data"
    }
   ],
   "source": [
    "# group the dataframe by month order, product type, and calculate the total number of orders\n",
    "agg_df = df.groupby(['month_order', 'product_type'])['sum_sold'].sum().reset_index()\n",
    "\n",
    "# create a pie chart for each product type and month order using Plotly Express\n",
    "for product_type in agg_df['product_type'].unique():\n",
    "    product_df = agg_df[agg_df['product_type'] == product_type]\n",
    "    fig = px.pie(product_df, values='sum_sold', names='month_order', title=f\"Product Type: {product_type}\")\n",
    "    fig.show()"
   ]
  },
  {
   "cell_type": "code",
   "execution_count": 32,
   "id": "f9ab16df",
   "metadata": {},
   "outputs": [
    {
     "data": {
      "text/plain": [
       "Index(['customer_id', 'customer_name', 'gender', 'age', 'home_address',\n",
       "       'zip_code', 'city', 'state', 'country', 'order_id', 'payment',\n",
       "       'order_date', 'delivery_date', 'sales_id', 'product_id',\n",
       "       'price_per_unit', 'sum_sold', 'total_price', 'product_type',\n",
       "       'product_name', 'size', 'colour', 'quantity_store', 'year_order',\n",
       "       'month_order', 'day_order', 'year_delivery', 'month_delivery',\n",
       "       'day_delivery'],\n",
       "      dtype='object')"
      ]
     },
     "execution_count": 32,
     "metadata": {},
     "output_type": "execute_result"
    }
   ],
   "source": [
    "df.columns"
   ]
  },
  {
   "cell_type": "code",
   "execution_count": 33,
   "id": "d6322692",
   "metadata": {},
   "outputs": [
    {
     "data": {
      "text/html": [
       "<div>\n",
       "<style scoped>\n",
       "    .dataframe tbody tr th:only-of-type {\n",
       "        vertical-align: middle;\n",
       "    }\n",
       "\n",
       "    .dataframe tbody tr th {\n",
       "        vertical-align: top;\n",
       "    }\n",
       "\n",
       "    .dataframe thead th {\n",
       "        text-align: right;\n",
       "    }\n",
       "</style>\n",
       "<table border=\"1\" class=\"dataframe\">\n",
       "  <thead>\n",
       "    <tr style=\"text-align: right;\">\n",
       "      <th></th>\n",
       "      <th></th>\n",
       "      <th></th>\n",
       "      <th>sum_sold</th>\n",
       "    </tr>\n",
       "    <tr>\n",
       "      <th>product_type</th>\n",
       "      <th>colour</th>\n",
       "      <th>month_order</th>\n",
       "      <th></th>\n",
       "    </tr>\n",
       "  </thead>\n",
       "  <tbody>\n",
       "    <tr>\n",
       "      <th rowspan=\"3\" valign=\"top\">Jacket</th>\n",
       "      <th>indigo</th>\n",
       "      <th>3</th>\n",
       "      <td>88</td>\n",
       "    </tr>\n",
       "    <tr>\n",
       "      <th>blue</th>\n",
       "      <th>3</th>\n",
       "      <td>80</td>\n",
       "    </tr>\n",
       "    <tr>\n",
       "      <th>green</th>\n",
       "      <th>1</th>\n",
       "      <td>80</td>\n",
       "    </tr>\n",
       "    <tr>\n",
       "      <th>Shirt</th>\n",
       "      <th>red</th>\n",
       "      <th>3</th>\n",
       "      <td>79</td>\n",
       "    </tr>\n",
       "    <tr>\n",
       "      <th rowspan=\"2\" valign=\"top\">Trousers</th>\n",
       "      <th>indigo</th>\n",
       "      <th>1</th>\n",
       "      <td>79</td>\n",
       "    </tr>\n",
       "    <tr>\n",
       "      <th>green</th>\n",
       "      <th>3</th>\n",
       "      <td>77</td>\n",
       "    </tr>\n",
       "    <tr>\n",
       "      <th>Shirt</th>\n",
       "      <th>violet</th>\n",
       "      <th>7</th>\n",
       "      <td>76</td>\n",
       "    </tr>\n",
       "    <tr>\n",
       "      <th>Trousers</th>\n",
       "      <th>red</th>\n",
       "      <th>1</th>\n",
       "      <td>76</td>\n",
       "    </tr>\n",
       "    <tr>\n",
       "      <th>Jacket</th>\n",
       "      <th>red</th>\n",
       "      <th>3</th>\n",
       "      <td>74</td>\n",
       "    </tr>\n",
       "    <tr>\n",
       "      <th>Shirt</th>\n",
       "      <th>indigo</th>\n",
       "      <th>7</th>\n",
       "      <td>72</td>\n",
       "    </tr>\n",
       "    <tr>\n",
       "      <th rowspan=\"2\" valign=\"top\">Trousers</th>\n",
       "      <th>violet</th>\n",
       "      <th>3</th>\n",
       "      <td>72</td>\n",
       "    </tr>\n",
       "    <tr>\n",
       "      <th>blue</th>\n",
       "      <th>3</th>\n",
       "      <td>71</td>\n",
       "    </tr>\n",
       "    <tr>\n",
       "      <th rowspan=\"2\" valign=\"top\">Jacket</th>\n",
       "      <th>green</th>\n",
       "      <th>7</th>\n",
       "      <td>70</td>\n",
       "    </tr>\n",
       "    <tr>\n",
       "      <th>yellow</th>\n",
       "      <th>4</th>\n",
       "      <td>70</td>\n",
       "    </tr>\n",
       "    <tr>\n",
       "      <th>Shirt</th>\n",
       "      <th>blue</th>\n",
       "      <th>1</th>\n",
       "      <td>69</td>\n",
       "    </tr>\n",
       "    <tr>\n",
       "      <th>Trousers</th>\n",
       "      <th>blue</th>\n",
       "      <th>4</th>\n",
       "      <td>66</td>\n",
       "    </tr>\n",
       "    <tr>\n",
       "      <th>Shirt</th>\n",
       "      <th>yellow</th>\n",
       "      <th>3</th>\n",
       "      <td>65</td>\n",
       "    </tr>\n",
       "    <tr>\n",
       "      <th>Trousers</th>\n",
       "      <th>orange</th>\n",
       "      <th>2</th>\n",
       "      <td>65</td>\n",
       "    </tr>\n",
       "    <tr>\n",
       "      <th>Jacket</th>\n",
       "      <th>blue</th>\n",
       "      <th>1</th>\n",
       "      <td>63</td>\n",
       "    </tr>\n",
       "    <tr>\n",
       "      <th>Shirt</th>\n",
       "      <th>green</th>\n",
       "      <th>7</th>\n",
       "      <td>63</td>\n",
       "    </tr>\n",
       "  </tbody>\n",
       "</table>\n",
       "</div>"
      ],
      "text/plain": [
       "                                 sum_sold\n",
       "product_type colour month_order          \n",
       "Jacket       indigo 3                  88\n",
       "             blue   3                  80\n",
       "             green  1                  80\n",
       "Shirt        red    3                  79\n",
       "Trousers     indigo 1                  79\n",
       "             green  3                  77\n",
       "Shirt        violet 7                  76\n",
       "Trousers     red    1                  76\n",
       "Jacket       red    3                  74\n",
       "Shirt        indigo 7                  72\n",
       "Trousers     violet 3                  72\n",
       "             blue   3                  71\n",
       "Jacket       green  7                  70\n",
       "             yellow 4                  70\n",
       "Shirt        blue   1                  69\n",
       "Trousers     blue   4                  66\n",
       "Shirt        yellow 3                  65\n",
       "Trousers     orange 2                  65\n",
       "Jacket       blue   1                  63\n",
       "Shirt        green  7                  63"
      ]
     },
     "execution_count": 33,
     "metadata": {},
     "output_type": "execute_result"
    }
   ],
   "source": [
    "df.groupby([\"product_type\",'colour','month_order'])['sum_sold'].sum().sort_values(ascending=False).head(20).to_frame() "
   ]
  },
  {
   "cell_type": "code",
   "execution_count": 34,
   "id": "fe101e6d",
   "metadata": {},
   "outputs": [
    {
     "data": {
      "text/html": [
       "<div>\n",
       "<style scoped>\n",
       "    .dataframe tbody tr th:only-of-type {\n",
       "        vertical-align: middle;\n",
       "    }\n",
       "\n",
       "    .dataframe tbody tr th {\n",
       "        vertical-align: top;\n",
       "    }\n",
       "\n",
       "    .dataframe thead th {\n",
       "        text-align: right;\n",
       "    }\n",
       "</style>\n",
       "<table border=\"1\" class=\"dataframe\">\n",
       "  <thead>\n",
       "    <tr style=\"text-align: right;\">\n",
       "      <th></th>\n",
       "      <th></th>\n",
       "      <th></th>\n",
       "      <th>total_price</th>\n",
       "    </tr>\n",
       "    <tr>\n",
       "      <th>product_type</th>\n",
       "      <th>month_order</th>\n",
       "      <th>sum_sold</th>\n",
       "      <th></th>\n",
       "    </tr>\n",
       "  </thead>\n",
       "  <tbody>\n",
       "    <tr>\n",
       "      <th rowspan=\"2\" valign=\"top\">Jacket</th>\n",
       "      <th>3</th>\n",
       "      <th>3</th>\n",
       "      <td>22377</td>\n",
       "    </tr>\n",
       "    <tr>\n",
       "      <th>1</th>\n",
       "      <th>3</th>\n",
       "      <td>21738</td>\n",
       "    </tr>\n",
       "    <tr>\n",
       "      <th rowspan=\"2\" valign=\"top\">Trousers</th>\n",
       "      <th>1</th>\n",
       "      <th>3</th>\n",
       "      <td>21318</td>\n",
       "    </tr>\n",
       "    <tr>\n",
       "      <th>3</th>\n",
       "      <th>3</th>\n",
       "      <td>20991</td>\n",
       "    </tr>\n",
       "    <tr>\n",
       "      <th>Shirt</th>\n",
       "      <th>3</th>\n",
       "      <th>3</th>\n",
       "      <td>20673</td>\n",
       "    </tr>\n",
       "    <tr>\n",
       "      <th>Jacket</th>\n",
       "      <th>8</th>\n",
       "      <th>3</th>\n",
       "      <td>20628</td>\n",
       "    </tr>\n",
       "    <tr>\n",
       "      <th>Shirt</th>\n",
       "      <th>7</th>\n",
       "      <th>3</th>\n",
       "      <td>18942</td>\n",
       "    </tr>\n",
       "    <tr>\n",
       "      <th rowspan=\"2\" valign=\"top\">Jacket</th>\n",
       "      <th>4</th>\n",
       "      <th>3</th>\n",
       "      <td>18300</td>\n",
       "    </tr>\n",
       "    <tr>\n",
       "      <th>7</th>\n",
       "      <th>3</th>\n",
       "      <td>17889</td>\n",
       "    </tr>\n",
       "    <tr>\n",
       "      <th>Shirt</th>\n",
       "      <th>6</th>\n",
       "      <th>3</th>\n",
       "      <td>17718</td>\n",
       "    </tr>\n",
       "    <tr>\n",
       "      <th>Jacket</th>\n",
       "      <th>9</th>\n",
       "      <th>3</th>\n",
       "      <td>17466</td>\n",
       "    </tr>\n",
       "    <tr>\n",
       "      <th rowspan=\"2\" valign=\"top\">Trousers</th>\n",
       "      <th>10</th>\n",
       "      <th>3</th>\n",
       "      <td>17349</td>\n",
       "    </tr>\n",
       "    <tr>\n",
       "      <th>7</th>\n",
       "      <th>3</th>\n",
       "      <td>16656</td>\n",
       "    </tr>\n",
       "    <tr>\n",
       "      <th>Shirt</th>\n",
       "      <th>9</th>\n",
       "      <th>3</th>\n",
       "      <td>16551</td>\n",
       "    </tr>\n",
       "    <tr>\n",
       "      <th rowspan=\"2\" valign=\"top\">Trousers</th>\n",
       "      <th>6</th>\n",
       "      <th>3</th>\n",
       "      <td>16341</td>\n",
       "    </tr>\n",
       "    <tr>\n",
       "      <th>2</th>\n",
       "      <th>3</th>\n",
       "      <td>16281</td>\n",
       "    </tr>\n",
       "    <tr>\n",
       "      <th>Shirt</th>\n",
       "      <th>4</th>\n",
       "      <th>3</th>\n",
       "      <td>16038</td>\n",
       "    </tr>\n",
       "  </tbody>\n",
       "</table>\n",
       "</div>"
      ],
      "text/plain": [
       "                                   total_price\n",
       "product_type month_order sum_sold             \n",
       "Jacket       3           3               22377\n",
       "             1           3               21738\n",
       "Trousers     1           3               21318\n",
       "             3           3               20991\n",
       "Shirt        3           3               20673\n",
       "Jacket       8           3               20628\n",
       "Shirt        7           3               18942\n",
       "Jacket       4           3               18300\n",
       "             7           3               17889\n",
       "Shirt        6           3               17718\n",
       "Jacket       9           3               17466\n",
       "Trousers     10          3               17349\n",
       "             7           3               16656\n",
       "Shirt        9           3               16551\n",
       "Trousers     6           3               16341\n",
       "             2           3               16281\n",
       "Shirt        4           3               16038"
      ]
     },
     "execution_count": 34,
     "metadata": {},
     "output_type": "execute_result"
    }
   ],
   "source": [
    "df.groupby([\"product_type\",'month_order','sum_sold'])['total_price'].sum().sort_values(ascending=False).head(17).to_frame() "
   ]
  },
  {
   "cell_type": "code",
   "execution_count": 35,
   "id": "aed07645",
   "metadata": {},
   "outputs": [
    {
     "data": {
      "text/plain": [
       "Index(['customer_id', 'customer_name', 'gender', 'age', 'home_address',\n",
       "       'zip_code', 'city', 'state', 'country', 'order_id', 'payment',\n",
       "       'order_date', 'delivery_date', 'sales_id', 'product_id',\n",
       "       'price_per_unit', 'sum_sold', 'total_price', 'product_type',\n",
       "       'product_name', 'size', 'colour', 'quantity_store', 'year_order',\n",
       "       'month_order', 'day_order', 'year_delivery', 'month_delivery',\n",
       "       'day_delivery'],\n",
       "      dtype='object')"
      ]
     },
     "execution_count": 35,
     "metadata": {},
     "output_type": "execute_result"
    }
   ],
   "source": [
    "df.columns"
   ]
  },
  {
   "cell_type": "code",
   "execution_count": 36,
   "id": "0d381564",
   "metadata": {},
   "outputs": [
    {
     "data": {
      "text/html": [
       "<div>\n",
       "<style scoped>\n",
       "    .dataframe tbody tr th:only-of-type {\n",
       "        vertical-align: middle;\n",
       "    }\n",
       "\n",
       "    .dataframe tbody tr th {\n",
       "        vertical-align: top;\n",
       "    }\n",
       "\n",
       "    .dataframe thead th {\n",
       "        text-align: right;\n",
       "    }\n",
       "</style>\n",
       "<table border=\"1\" class=\"dataframe\">\n",
       "  <thead>\n",
       "    <tr style=\"text-align: right;\">\n",
       "      <th></th>\n",
       "      <th></th>\n",
       "      <th></th>\n",
       "      <th></th>\n",
       "      <th>total_price</th>\n",
       "    </tr>\n",
       "    <tr>\n",
       "      <th>product_name</th>\n",
       "      <th>product_type</th>\n",
       "      <th>month_order</th>\n",
       "      <th>sum_sold</th>\n",
       "      <th></th>\n",
       "    </tr>\n",
       "  </thead>\n",
       "  <tbody>\n",
       "    <tr>\n",
       "      <th>Shearling</th>\n",
       "      <th>Jacket</th>\n",
       "      <th>8</th>\n",
       "      <th>3</th>\n",
       "      <td>3861</td>\n",
       "    </tr>\n",
       "    <tr>\n",
       "      <th rowspan=\"2\" valign=\"top\">Trench Coat</th>\n",
       "      <th rowspan=\"2\" valign=\"top\">Jacket</th>\n",
       "      <th>1</th>\n",
       "      <th>3</th>\n",
       "      <td>3570</td>\n",
       "    </tr>\n",
       "    <tr>\n",
       "      <th>8</th>\n",
       "      <th>3</th>\n",
       "      <td>3570</td>\n",
       "    </tr>\n",
       "    <tr>\n",
       "      <th>Casual Slim Fit</th>\n",
       "      <th>Shirt</th>\n",
       "      <th>2</th>\n",
       "      <th>3</th>\n",
       "      <td>3570</td>\n",
       "    </tr>\n",
       "    <tr>\n",
       "      <th rowspan=\"2\" valign=\"top\">Puffer</th>\n",
       "      <th rowspan=\"2\" valign=\"top\">Jacket</th>\n",
       "      <th>7</th>\n",
       "      <th>3</th>\n",
       "      <td>3540</td>\n",
       "    </tr>\n",
       "    <tr>\n",
       "      <th>3</th>\n",
       "      <th>3</th>\n",
       "      <td>3540</td>\n",
       "    </tr>\n",
       "    <tr>\n",
       "      <th>Chambray</th>\n",
       "      <th>Shirt</th>\n",
       "      <th>9</th>\n",
       "      <th>3</th>\n",
       "      <td>3498</td>\n",
       "    </tr>\n",
       "    <tr>\n",
       "      <th>Cropped</th>\n",
       "      <th>Trousers</th>\n",
       "      <th>3</th>\n",
       "      <th>3</th>\n",
       "      <td>3450</td>\n",
       "    </tr>\n",
       "    <tr>\n",
       "      <th>Pleated</th>\n",
       "      <th>Trousers</th>\n",
       "      <th>9</th>\n",
       "      <th>3</th>\n",
       "      <td>3150</td>\n",
       "    </tr>\n",
       "    <tr>\n",
       "      <th>Cropped</th>\n",
       "      <th>Trousers</th>\n",
       "      <th>1</th>\n",
       "      <th>3</th>\n",
       "      <td>3105</td>\n",
       "    </tr>\n",
       "    <tr>\n",
       "      <th>Chambray</th>\n",
       "      <th>Shirt</th>\n",
       "      <th>3</th>\n",
       "      <th>3</th>\n",
       "      <td>2862</td>\n",
       "    </tr>\n",
       "    <tr>\n",
       "      <th>Casual Slim Fit</th>\n",
       "      <th>Shirt</th>\n",
       "      <th>7</th>\n",
       "      <th>3</th>\n",
       "      <td>2856</td>\n",
       "    </tr>\n",
       "    <tr>\n",
       "      <th>Pleated</th>\n",
       "      <th>Trousers</th>\n",
       "      <th>3</th>\n",
       "      <th>3</th>\n",
       "      <td>2835</td>\n",
       "    </tr>\n",
       "    <tr>\n",
       "      <th>Flannel</th>\n",
       "      <th>Shirt</th>\n",
       "      <th>1</th>\n",
       "      <th>3</th>\n",
       "      <td>2832</td>\n",
       "    </tr>\n",
       "    <tr>\n",
       "      <th>Puffer</th>\n",
       "      <th>Jacket</th>\n",
       "      <th>1</th>\n",
       "      <th>3</th>\n",
       "      <td>2832</td>\n",
       "    </tr>\n",
       "    <tr>\n",
       "      <th>Cargo Pants</th>\n",
       "      <th>Trousers</th>\n",
       "      <th>6</th>\n",
       "      <th>3</th>\n",
       "      <td>2754</td>\n",
       "    </tr>\n",
       "    <tr>\n",
       "      <th>Bomber</th>\n",
       "      <th>Jacket</th>\n",
       "      <th>9</th>\n",
       "      <th>3</th>\n",
       "      <td>2700</td>\n",
       "    </tr>\n",
       "  </tbody>\n",
       "</table>\n",
       "</div>"
      ],
      "text/plain": [
       "                                                   total_price\n",
       "product_name    product_type month_order sum_sold             \n",
       "Shearling       Jacket       8           3                3861\n",
       "Trench Coat     Jacket       1           3                3570\n",
       "                             8           3                3570\n",
       "Casual Slim Fit Shirt        2           3                3570\n",
       "Puffer          Jacket       7           3                3540\n",
       "                             3           3                3540\n",
       "Chambray        Shirt        9           3                3498\n",
       "Cropped         Trousers     3           3                3450\n",
       "Pleated         Trousers     9           3                3150\n",
       "Cropped         Trousers     1           3                3105\n",
       "Chambray        Shirt        3           3                2862\n",
       "Casual Slim Fit Shirt        7           3                2856\n",
       "Pleated         Trousers     3           3                2835\n",
       "Flannel         Shirt        1           3                2832\n",
       "Puffer          Jacket       1           3                2832\n",
       "Cargo Pants     Trousers     6           3                2754\n",
       "Bomber          Jacket       9           3                2700"
      ]
     },
     "execution_count": 36,
     "metadata": {},
     "output_type": "execute_result"
    }
   ],
   "source": [
    "df.groupby([\"product_name\",'product_type','month_order','sum_sold'])['total_price'].sum().sort_values(ascending=False).head(17).to_frame() "
   ]
  },
  {
   "cell_type": "code",
   "execution_count": 37,
   "id": "04a4216b",
   "metadata": {},
   "outputs": [
    {
     "data": {
      "text/html": [
       "<div>\n",
       "<style scoped>\n",
       "    .dataframe tbody tr th:only-of-type {\n",
       "        vertical-align: middle;\n",
       "    }\n",
       "\n",
       "    .dataframe tbody tr th {\n",
       "        vertical-align: top;\n",
       "    }\n",
       "\n",
       "    .dataframe thead th {\n",
       "        text-align: right;\n",
       "    }\n",
       "</style>\n",
       "<table border=\"1\" class=\"dataframe\">\n",
       "  <thead>\n",
       "    <tr style=\"text-align: right;\">\n",
       "      <th></th>\n",
       "      <th></th>\n",
       "      <th></th>\n",
       "      <th></th>\n",
       "      <th>total_price</th>\n",
       "    </tr>\n",
       "    <tr>\n",
       "      <th>product_name</th>\n",
       "      <th>product_type</th>\n",
       "      <th>month_order</th>\n",
       "      <th>sum_sold</th>\n",
       "      <th></th>\n",
       "    </tr>\n",
       "  </thead>\n",
       "  <tbody>\n",
       "    <tr>\n",
       "      <th>Shearling</th>\n",
       "      <th>Jacket</th>\n",
       "      <th>8</th>\n",
       "      <th>3</th>\n",
       "      <td>3861</td>\n",
       "    </tr>\n",
       "    <tr>\n",
       "      <th rowspan=\"2\" valign=\"top\">Trench Coat</th>\n",
       "      <th rowspan=\"2\" valign=\"top\">Jacket</th>\n",
       "      <th>1</th>\n",
       "      <th>3</th>\n",
       "      <td>3570</td>\n",
       "    </tr>\n",
       "    <tr>\n",
       "      <th>8</th>\n",
       "      <th>3</th>\n",
       "      <td>3570</td>\n",
       "    </tr>\n",
       "    <tr>\n",
       "      <th>Casual Slim Fit</th>\n",
       "      <th>Shirt</th>\n",
       "      <th>2</th>\n",
       "      <th>3</th>\n",
       "      <td>3570</td>\n",
       "    </tr>\n",
       "    <tr>\n",
       "      <th rowspan=\"2\" valign=\"top\">Puffer</th>\n",
       "      <th rowspan=\"2\" valign=\"top\">Jacket</th>\n",
       "      <th>7</th>\n",
       "      <th>3</th>\n",
       "      <td>3540</td>\n",
       "    </tr>\n",
       "    <tr>\n",
       "      <th>3</th>\n",
       "      <th>3</th>\n",
       "      <td>3540</td>\n",
       "    </tr>\n",
       "    <tr>\n",
       "      <th>Chambray</th>\n",
       "      <th>Shirt</th>\n",
       "      <th>9</th>\n",
       "      <th>3</th>\n",
       "      <td>3498</td>\n",
       "    </tr>\n",
       "    <tr>\n",
       "      <th>Cropped</th>\n",
       "      <th>Trousers</th>\n",
       "      <th>3</th>\n",
       "      <th>3</th>\n",
       "      <td>3450</td>\n",
       "    </tr>\n",
       "    <tr>\n",
       "      <th>Pleated</th>\n",
       "      <th>Trousers</th>\n",
       "      <th>9</th>\n",
       "      <th>3</th>\n",
       "      <td>3150</td>\n",
       "    </tr>\n",
       "    <tr>\n",
       "      <th>Cropped</th>\n",
       "      <th>Trousers</th>\n",
       "      <th>1</th>\n",
       "      <th>3</th>\n",
       "      <td>3105</td>\n",
       "    </tr>\n",
       "    <tr>\n",
       "      <th>Chambray</th>\n",
       "      <th>Shirt</th>\n",
       "      <th>3</th>\n",
       "      <th>3</th>\n",
       "      <td>2862</td>\n",
       "    </tr>\n",
       "    <tr>\n",
       "      <th>Casual Slim Fit</th>\n",
       "      <th>Shirt</th>\n",
       "      <th>7</th>\n",
       "      <th>3</th>\n",
       "      <td>2856</td>\n",
       "    </tr>\n",
       "    <tr>\n",
       "      <th>Pleated</th>\n",
       "      <th>Trousers</th>\n",
       "      <th>3</th>\n",
       "      <th>3</th>\n",
       "      <td>2835</td>\n",
       "    </tr>\n",
       "    <tr>\n",
       "      <th>Flannel</th>\n",
       "      <th>Shirt</th>\n",
       "      <th>1</th>\n",
       "      <th>3</th>\n",
       "      <td>2832</td>\n",
       "    </tr>\n",
       "    <tr>\n",
       "      <th>Puffer</th>\n",
       "      <th>Jacket</th>\n",
       "      <th>1</th>\n",
       "      <th>3</th>\n",
       "      <td>2832</td>\n",
       "    </tr>\n",
       "    <tr>\n",
       "      <th>Cargo Pants</th>\n",
       "      <th>Trousers</th>\n",
       "      <th>6</th>\n",
       "      <th>3</th>\n",
       "      <td>2754</td>\n",
       "    </tr>\n",
       "    <tr>\n",
       "      <th>Bomber</th>\n",
       "      <th>Jacket</th>\n",
       "      <th>9</th>\n",
       "      <th>3</th>\n",
       "      <td>2700</td>\n",
       "    </tr>\n",
       "  </tbody>\n",
       "</table>\n",
       "</div>"
      ],
      "text/plain": [
       "                                                   total_price\n",
       "product_name    product_type month_order sum_sold             \n",
       "Shearling       Jacket       8           3                3861\n",
       "Trench Coat     Jacket       1           3                3570\n",
       "                             8           3                3570\n",
       "Casual Slim Fit Shirt        2           3                3570\n",
       "Puffer          Jacket       7           3                3540\n",
       "                             3           3                3540\n",
       "Chambray        Shirt        9           3                3498\n",
       "Cropped         Trousers     3           3                3450\n",
       "Pleated         Trousers     9           3                3150\n",
       "Cropped         Trousers     1           3                3105\n",
       "Chambray        Shirt        3           3                2862\n",
       "Casual Slim Fit Shirt        7           3                2856\n",
       "Pleated         Trousers     3           3                2835\n",
       "Flannel         Shirt        1           3                2832\n",
       "Puffer          Jacket       1           3                2832\n",
       "Cargo Pants     Trousers     6           3                2754\n",
       "Bomber          Jacket       9           3                2700"
      ]
     },
     "execution_count": 37,
     "metadata": {},
     "output_type": "execute_result"
    }
   ],
   "source": [
    "(df.groupby([\"product_name\",'product_type','month_order','sum_sold'])[\"total_price\"] \n",
    "        .sum() \n",
    "        \n",
    "        .sort_values(ascending=False) \n",
    "        .to_frame() # change it into data frame\n",
    "        .head(17)\n",
    "        )"
   ]
  },
  {
   "cell_type": "code",
   "execution_count": 38,
   "id": "40b27eef",
   "metadata": {},
   "outputs": [
    {
     "data": {
      "text/html": [
       "<div>\n",
       "<style scoped>\n",
       "    .dataframe tbody tr th:only-of-type {\n",
       "        vertical-align: middle;\n",
       "    }\n",
       "\n",
       "    .dataframe tbody tr th {\n",
       "        vertical-align: top;\n",
       "    }\n",
       "\n",
       "    .dataframe thead th {\n",
       "        text-align: right;\n",
       "    }\n",
       "</style>\n",
       "<table border=\"1\" class=\"dataframe\">\n",
       "  <thead>\n",
       "    <tr style=\"text-align: right;\">\n",
       "      <th></th>\n",
       "      <th></th>\n",
       "      <th></th>\n",
       "      <th></th>\n",
       "      <th>total_price</th>\n",
       "    </tr>\n",
       "    <tr>\n",
       "      <th>product_name</th>\n",
       "      <th>product_type</th>\n",
       "      <th>month_order</th>\n",
       "      <th>sum_sold</th>\n",
       "      <th></th>\n",
       "    </tr>\n",
       "  </thead>\n",
       "  <tbody>\n",
       "    <tr>\n",
       "      <th>Cropped</th>\n",
       "      <th>Trousers</th>\n",
       "      <th>10</th>\n",
       "      <th>1</th>\n",
       "      <td>115</td>\n",
       "    </tr>\n",
       "    <tr>\n",
       "      <th>Tracksuit Bottoms</th>\n",
       "      <th>Trousers</th>\n",
       "      <th>8</th>\n",
       "      <th>1</th>\n",
       "      <td>112</td>\n",
       "    </tr>\n",
       "    <tr>\n",
       "      <th>Peacoat</th>\n",
       "      <th>Jacket</th>\n",
       "      <th>5</th>\n",
       "      <th>1</th>\n",
       "      <td>109</td>\n",
       "    </tr>\n",
       "    <tr>\n",
       "      <th>Denim</th>\n",
       "      <th>Jacket</th>\n",
       "      <th>8</th>\n",
       "      <th>1</th>\n",
       "      <td>107</td>\n",
       "    </tr>\n",
       "    <tr>\n",
       "      <th>Chambray</th>\n",
       "      <th>Shirt</th>\n",
       "      <th>10</th>\n",
       "      <th>1</th>\n",
       "      <td>106</td>\n",
       "    </tr>\n",
       "    <tr>\n",
       "      <th>Pleated</th>\n",
       "      <th>Trousers</th>\n",
       "      <th>2</th>\n",
       "      <th>1</th>\n",
       "      <td>105</td>\n",
       "    </tr>\n",
       "    <tr>\n",
       "      <th>Cuban Collar</th>\n",
       "      <th>Shirt</th>\n",
       "      <th>5</th>\n",
       "      <th>1</th>\n",
       "      <td>105</td>\n",
       "    </tr>\n",
       "    <tr>\n",
       "      <th rowspan=\"2\" valign=\"top\">Windbreaker</th>\n",
       "      <th rowspan=\"2\" valign=\"top\">Jacket</th>\n",
       "      <th>5</th>\n",
       "      <th>1</th>\n",
       "      <td>102</td>\n",
       "    </tr>\n",
       "    <tr>\n",
       "      <th>4</th>\n",
       "      <th>1</th>\n",
       "      <td>102</td>\n",
       "    </tr>\n",
       "    <tr>\n",
       "      <th>Cargo Pants</th>\n",
       "      <th>Trousers</th>\n",
       "      <th>7</th>\n",
       "      <th>1</th>\n",
       "      <td>102</td>\n",
       "    </tr>\n",
       "    <tr>\n",
       "      <th>Oxford Cloth</th>\n",
       "      <th>Shirt</th>\n",
       "      <th>8</th>\n",
       "      <th>1</th>\n",
       "      <td>96</td>\n",
       "    </tr>\n",
       "    <tr>\n",
       "      <th>Drawstring</th>\n",
       "      <th>Trousers</th>\n",
       "      <th>9</th>\n",
       "      <th>1</th>\n",
       "      <td>96</td>\n",
       "    </tr>\n",
       "    <tr>\n",
       "      <th>Polo</th>\n",
       "      <th>Shirt</th>\n",
       "      <th>7</th>\n",
       "      <th>1</th>\n",
       "      <td>95</td>\n",
       "    </tr>\n",
       "    <tr>\n",
       "      <th>Coach</th>\n",
       "      <th>Jacket</th>\n",
       "      <th>5</th>\n",
       "      <th>1</th>\n",
       "      <td>93</td>\n",
       "    </tr>\n",
       "    <tr>\n",
       "      <th>Joggers</th>\n",
       "      <th>Trousers</th>\n",
       "      <th>10</th>\n",
       "      <th>1</th>\n",
       "      <td>93</td>\n",
       "    </tr>\n",
       "    <tr>\n",
       "      <th rowspan=\"2\" valign=\"top\">Linen</th>\n",
       "      <th rowspan=\"2\" valign=\"top\">Shirt</th>\n",
       "      <th>5</th>\n",
       "      <th>1</th>\n",
       "      <td>91</td>\n",
       "    </tr>\n",
       "    <tr>\n",
       "      <th>2</th>\n",
       "      <th>1</th>\n",
       "      <td>91</td>\n",
       "    </tr>\n",
       "  </tbody>\n",
       "</table>\n",
       "</div>"
      ],
      "text/plain": [
       "                                                     total_price\n",
       "product_name      product_type month_order sum_sold             \n",
       "Cropped           Trousers     10          1                 115\n",
       "Tracksuit Bottoms Trousers     8           1                 112\n",
       "Peacoat           Jacket       5           1                 109\n",
       "Denim             Jacket       8           1                 107\n",
       "Chambray          Shirt        10          1                 106\n",
       "Pleated           Trousers     2           1                 105\n",
       "Cuban Collar      Shirt        5           1                 105\n",
       "Windbreaker       Jacket       5           1                 102\n",
       "                               4           1                 102\n",
       "Cargo Pants       Trousers     7           1                 102\n",
       "Oxford Cloth      Shirt        8           1                  96\n",
       "Drawstring        Trousers     9           1                  96\n",
       "Polo              Shirt        7           1                  95\n",
       "Coach             Jacket       5           1                  93\n",
       "Joggers           Trousers     10          1                  93\n",
       "Linen             Shirt        5           1                  91\n",
       "                               2           1                  91"
      ]
     },
     "execution_count": 38,
     "metadata": {},
     "output_type": "execute_result"
    }
   ],
   "source": [
    "(df.groupby([\"product_name\",'product_type','month_order','sum_sold'])[\"total_price\"] \n",
    "        .sum() \n",
    "        \n",
    "        .sort_values(ascending=False) \n",
    "        .to_frame() # change it into data frame\n",
    "        .tail(17)\n",
    "        )"
   ]
  },
  {
   "cell_type": "code",
   "execution_count": 39,
   "id": "10ce44ef",
   "metadata": {},
   "outputs": [
    {
     "data": {
      "text/html": [
       "<div>\n",
       "<style scoped>\n",
       "    .dataframe tbody tr th:only-of-type {\n",
       "        vertical-align: middle;\n",
       "    }\n",
       "\n",
       "    .dataframe tbody tr th {\n",
       "        vertical-align: top;\n",
       "    }\n",
       "\n",
       "    .dataframe thead th {\n",
       "        text-align: right;\n",
       "    }\n",
       "</style>\n",
       "<table border=\"1\" class=\"dataframe\">\n",
       "  <thead>\n",
       "    <tr style=\"text-align: right;\">\n",
       "      <th></th>\n",
       "      <th></th>\n",
       "      <th></th>\n",
       "      <th>sum_sold</th>\n",
       "    </tr>\n",
       "    <tr>\n",
       "      <th>customer_name</th>\n",
       "      <th>payment</th>\n",
       "      <th>month_order</th>\n",
       "      <th></th>\n",
       "    </tr>\n",
       "  </thead>\n",
       "  <tbody>\n",
       "    <tr>\n",
       "      <th>Camellia Heatherington</th>\n",
       "      <th>56675</th>\n",
       "      <th>4</th>\n",
       "      <td>26</td>\n",
       "    </tr>\n",
       "    <tr>\n",
       "      <th>Tobin Jeffryes</th>\n",
       "      <th>28100</th>\n",
       "      <th>2</th>\n",
       "      <td>25</td>\n",
       "    </tr>\n",
       "    <tr>\n",
       "      <th>Cassaundra Sliman</th>\n",
       "      <th>53165</th>\n",
       "      <th>6</th>\n",
       "      <td>24</td>\n",
       "    </tr>\n",
       "    <tr>\n",
       "      <th>Esteban Hensmans</th>\n",
       "      <th>11465</th>\n",
       "      <th>1</th>\n",
       "      <td>24</td>\n",
       "    </tr>\n",
       "    <tr>\n",
       "      <th>Blayne Sabatier</th>\n",
       "      <th>40483</th>\n",
       "      <th>3</th>\n",
       "      <td>24</td>\n",
       "    </tr>\n",
       "    <tr>\n",
       "      <th>...</th>\n",
       "      <th>...</th>\n",
       "      <th>...</th>\n",
       "      <td>...</td>\n",
       "    </tr>\n",
       "    <tr>\n",
       "      <th rowspan=\"2\" valign=\"top\">Cecilla Pigford</th>\n",
       "      <th>11002</th>\n",
       "      <th>1</th>\n",
       "      <td>1</td>\n",
       "    </tr>\n",
       "    <tr>\n",
       "      <th>55650</th>\n",
       "      <th>4</th>\n",
       "      <td>1</td>\n",
       "    </tr>\n",
       "    <tr>\n",
       "      <th>Nathaniel McCandless</th>\n",
       "      <th>20690</th>\n",
       "      <th>9</th>\n",
       "      <td>1</td>\n",
       "    </tr>\n",
       "    <tr>\n",
       "      <th>Glenn Keri</th>\n",
       "      <th>11166</th>\n",
       "      <th>6</th>\n",
       "      <td>1</td>\n",
       "    </tr>\n",
       "    <tr>\n",
       "      <th>Daren Airs</th>\n",
       "      <th>12827</th>\n",
       "      <th>6</th>\n",
       "      <td>1</td>\n",
       "    </tr>\n",
       "  </tbody>\n",
       "</table>\n",
       "<p>993 rows × 1 columns</p>\n",
       "</div>"
      ],
      "text/plain": [
       "                                            sum_sold\n",
       "customer_name          payment month_order          \n",
       "Camellia Heatherington 56675   4                  26\n",
       "Tobin Jeffryes         28100   2                  25\n",
       "Cassaundra Sliman      53165   6                  24\n",
       "Esteban Hensmans       11465   1                  24\n",
       "Blayne Sabatier        40483   3                  24\n",
       "...                                              ...\n",
       "Cecilla Pigford        11002   1                   1\n",
       "                       55650   4                   1\n",
       "Nathaniel McCandless   20690   9                   1\n",
       "Glenn Keri             11166   6                   1\n",
       "Daren Airs             12827   6                   1\n",
       "\n",
       "[993 rows x 1 columns]"
      ]
     },
     "execution_count": 39,
     "metadata": {},
     "output_type": "execute_result"
    }
   ],
   "source": [
    "df.groupby(['customer_name','payment','month_order'])['sum_sold'].sum().sort_values(ascending=False).to_frame() "
   ]
  },
  {
   "cell_type": "code",
   "execution_count": 40,
   "id": "1429e928",
   "metadata": {},
   "outputs": [
    {
     "data": {
      "text/html": [
       "<div>\n",
       "<style scoped>\n",
       "    .dataframe tbody tr th:only-of-type {\n",
       "        vertical-align: middle;\n",
       "    }\n",
       "\n",
       "    .dataframe tbody tr th {\n",
       "        vertical-align: top;\n",
       "    }\n",
       "\n",
       "    .dataframe thead th {\n",
       "        text-align: right;\n",
       "    }\n",
       "</style>\n",
       "<table border=\"1\" class=\"dataframe\">\n",
       "  <thead>\n",
       "    <tr style=\"text-align: right;\">\n",
       "      <th></th>\n",
       "      <th>sum_sold</th>\n",
       "    </tr>\n",
       "    <tr>\n",
       "      <th>size</th>\n",
       "      <th></th>\n",
       "    </tr>\n",
       "  </thead>\n",
       "  <tbody>\n",
       "    <tr>\n",
       "      <th>M</th>\n",
       "      <td>2036</td>\n",
       "    </tr>\n",
       "    <tr>\n",
       "      <th>L</th>\n",
       "      <td>1998</td>\n",
       "    </tr>\n",
       "    <tr>\n",
       "      <th>S</th>\n",
       "      <td>1992</td>\n",
       "    </tr>\n",
       "    <tr>\n",
       "      <th>XS</th>\n",
       "      <td>1990</td>\n",
       "    </tr>\n",
       "    <tr>\n",
       "      <th>XL</th>\n",
       "      <td>1946</td>\n",
       "    </tr>\n",
       "  </tbody>\n",
       "</table>\n",
       "</div>"
      ],
      "text/plain": [
       "      sum_sold\n",
       "size          \n",
       "M         2036\n",
       "L         1998\n",
       "S         1992\n",
       "XS        1990\n",
       "XL        1946"
      ]
     },
     "execution_count": 40,
     "metadata": {},
     "output_type": "execute_result"
    }
   ],
   "source": [
    "df.groupby(['size'])['sum_sold'].sum().sort_values(ascending=False).to_frame() "
   ]
  },
  {
   "cell_type": "code",
   "execution_count": 41,
   "id": "aff9f0b5",
   "metadata": {},
   "outputs": [
    {
     "data": {
      "text/html": [
       "<div>\n",
       "<style scoped>\n",
       "    .dataframe tbody tr th:only-of-type {\n",
       "        vertical-align: middle;\n",
       "    }\n",
       "\n",
       "    .dataframe tbody tr th {\n",
       "        vertical-align: top;\n",
       "    }\n",
       "\n",
       "    .dataframe thead th {\n",
       "        text-align: right;\n",
       "    }\n",
       "</style>\n",
       "<table border=\"1\" class=\"dataframe\">\n",
       "  <thead>\n",
       "    <tr style=\"text-align: right;\">\n",
       "      <th></th>\n",
       "      <th></th>\n",
       "      <th>sum_sold</th>\n",
       "    </tr>\n",
       "    <tr>\n",
       "      <th>age</th>\n",
       "      <th>month_order</th>\n",
       "      <th></th>\n",
       "    </tr>\n",
       "  </thead>\n",
       "  <tbody>\n",
       "    <tr>\n",
       "      <th>59</th>\n",
       "      <th>3</th>\n",
       "      <td>67</td>\n",
       "    </tr>\n",
       "    <tr>\n",
       "      <th>75</th>\n",
       "      <th>7</th>\n",
       "      <td>65</td>\n",
       "    </tr>\n",
       "    <tr>\n",
       "      <th>20</th>\n",
       "      <th>3</th>\n",
       "      <td>64</td>\n",
       "    </tr>\n",
       "    <tr>\n",
       "      <th>25</th>\n",
       "      <th>1</th>\n",
       "      <td>64</td>\n",
       "    </tr>\n",
       "    <tr>\n",
       "      <th>57</th>\n",
       "      <th>10</th>\n",
       "      <td>62</td>\n",
       "    </tr>\n",
       "    <tr>\n",
       "      <th>...</th>\n",
       "      <th>...</th>\n",
       "      <td>...</td>\n",
       "    </tr>\n",
       "    <tr>\n",
       "      <th>55</th>\n",
       "      <th>8</th>\n",
       "      <td>3</td>\n",
       "    </tr>\n",
       "    <tr>\n",
       "      <th>34</th>\n",
       "      <th>9</th>\n",
       "      <td>2</td>\n",
       "    </tr>\n",
       "    <tr>\n",
       "      <th>60</th>\n",
       "      <th>9</th>\n",
       "      <td>2</td>\n",
       "    </tr>\n",
       "    <tr>\n",
       "      <th>43</th>\n",
       "      <th>4</th>\n",
       "      <td>2</td>\n",
       "    </tr>\n",
       "    <tr>\n",
       "      <th>51</th>\n",
       "      <th>9</th>\n",
       "      <td>1</td>\n",
       "    </tr>\n",
       "  </tbody>\n",
       "</table>\n",
       "<p>485 rows × 1 columns</p>\n",
       "</div>"
      ],
      "text/plain": [
       "                 sum_sold\n",
       "age month_order          \n",
       "59  3                  67\n",
       "75  7                  65\n",
       "20  3                  64\n",
       "25  1                  64\n",
       "57  10                 62\n",
       "...                   ...\n",
       "55  8                   3\n",
       "34  9                   2\n",
       "60  9                   2\n",
       "43  4                   2\n",
       "51  9                   1\n",
       "\n",
       "[485 rows x 1 columns]"
      ]
     },
     "execution_count": 41,
     "metadata": {},
     "output_type": "execute_result"
    }
   ],
   "source": [
    "df.groupby(['age','month_order'])['sum_sold'].sum().sort_values(ascending=False).to_frame() "
   ]
  },
  {
   "cell_type": "code",
   "execution_count": 42,
   "id": "3fb0cdf7",
   "metadata": {},
   "outputs": [
    {
     "data": {
      "text/html": [
       "<div>\n",
       "<style scoped>\n",
       "    .dataframe tbody tr th:only-of-type {\n",
       "        vertical-align: middle;\n",
       "    }\n",
       "\n",
       "    .dataframe tbody tr th {\n",
       "        vertical-align: top;\n",
       "    }\n",
       "\n",
       "    .dataframe thead th {\n",
       "        text-align: right;\n",
       "    }\n",
       "</style>\n",
       "<table border=\"1\" class=\"dataframe\">\n",
       "  <thead>\n",
       "    <tr style=\"text-align: right;\">\n",
       "      <th>product_name</th>\n",
       "      <th>Denim</th>\n",
       "      <th>Joggers</th>\n",
       "      <th>Pleated</th>\n",
       "      <th>Casual Slim Fit</th>\n",
       "      <th>Shearling</th>\n",
       "      <th>Relaxed Leg</th>\n",
       "      <th>Trench Coat</th>\n",
       "      <th>Puffer</th>\n",
       "      <th>Bomber</th>\n",
       "      <th>Chambray</th>\n",
       "      <th>...</th>\n",
       "      <th>Polo</th>\n",
       "      <th>Leather</th>\n",
       "      <th>Chinos</th>\n",
       "      <th>Cardigan</th>\n",
       "      <th>Tracksuit Bottoms</th>\n",
       "      <th>Cuban Collar</th>\n",
       "      <th>Wool</th>\n",
       "      <th>Cords</th>\n",
       "      <th>Dress</th>\n",
       "      <th>Mandarin Collar</th>\n",
       "    </tr>\n",
       "  </thead>\n",
       "  <tbody>\n",
       "    <tr>\n",
       "      <th>sum_sold</th>\n",
       "      <td>527</td>\n",
       "      <td>334</td>\n",
       "      <td>308</td>\n",
       "      <td>306</td>\n",
       "      <td>302</td>\n",
       "      <td>301</td>\n",
       "      <td>299</td>\n",
       "      <td>298</td>\n",
       "      <td>297</td>\n",
       "      <td>290</td>\n",
       "      <td>...</td>\n",
       "      <td>264</td>\n",
       "      <td>263</td>\n",
       "      <td>260</td>\n",
       "      <td>260</td>\n",
       "      <td>257</td>\n",
       "      <td>254</td>\n",
       "      <td>249</td>\n",
       "      <td>246</td>\n",
       "      <td>243</td>\n",
       "      <td>236</td>\n",
       "    </tr>\n",
       "  </tbody>\n",
       "</table>\n",
       "<p>1 rows × 35 columns</p>\n",
       "</div>"
      ],
      "text/plain": [
       "product_name  Denim  Joggers  Pleated  Casual Slim Fit  Shearling  \\\n",
       "sum_sold        527      334      308              306        302   \n",
       "\n",
       "product_name  Relaxed Leg  Trench Coat  Puffer  Bomber  Chambray  ...  Polo  \\\n",
       "sum_sold              301          299     298     297       290  ...   264   \n",
       "\n",
       "product_name  Leather  Chinos  Cardigan  Tracksuit Bottoms  Cuban Collar  \\\n",
       "sum_sold          263     260       260                257           254   \n",
       "\n",
       "product_name  Wool  Cords  Dress  Mandarin Collar  \n",
       "sum_sold       249    246    243              236  \n",
       "\n",
       "[1 rows x 35 columns]"
      ]
     },
     "execution_count": 42,
     "metadata": {},
     "output_type": "execute_result"
    }
   ],
   "source": [
    "df.groupby(['product_name'])['sum_sold'].sum().sort_values(ascending=False).to_frame().T"
   ]
  },
  {
   "cell_type": "code",
   "execution_count": 43,
   "id": "77298a84",
   "metadata": {},
   "outputs": [
    {
     "data": {
      "text/html": [
       "<div>\n",
       "<style scoped>\n",
       "    .dataframe tbody tr th:only-of-type {\n",
       "        vertical-align: middle;\n",
       "    }\n",
       "\n",
       "    .dataframe tbody tr th {\n",
       "        vertical-align: top;\n",
       "    }\n",
       "\n",
       "    .dataframe thead th {\n",
       "        text-align: right;\n",
       "    }\n",
       "</style>\n",
       "<table border=\"1\" class=\"dataframe\">\n",
       "  <thead>\n",
       "    <tr style=\"text-align: right;\">\n",
       "      <th>product_name</th>\n",
       "      <th>Denim</th>\n",
       "      <th>Casual Slim Fit</th>\n",
       "      <th>Trench Coat</th>\n",
       "      <th>Shearling</th>\n",
       "      <th>Puffer</th>\n",
       "      <th>Flannel</th>\n",
       "      <th>Cropped</th>\n",
       "      <th>Pleated</th>\n",
       "      <th>Joggers</th>\n",
       "      <th>Chambray</th>\n",
       "      <th>...</th>\n",
       "      <th>Henley</th>\n",
       "      <th>Wool</th>\n",
       "      <th>Leather</th>\n",
       "      <th>Mandarin Collar</th>\n",
       "      <th>Dress</th>\n",
       "      <th>Pullover</th>\n",
       "      <th>Polo</th>\n",
       "      <th>Coach</th>\n",
       "      <th>Linen</th>\n",
       "      <th>Cords</th>\n",
       "    </tr>\n",
       "  </thead>\n",
       "  <tbody>\n",
       "    <tr>\n",
       "      <th>total_price</th>\n",
       "      <td>52399</td>\n",
       "      <td>36414</td>\n",
       "      <td>35581</td>\n",
       "      <td>35334</td>\n",
       "      <td>35164</td>\n",
       "      <td>33158</td>\n",
       "      <td>32660</td>\n",
       "      <td>32340</td>\n",
       "      <td>31062</td>\n",
       "      <td>30740</td>\n",
       "      <td>...</td>\n",
       "      <td>26414</td>\n",
       "      <td>26394</td>\n",
       "      <td>25774</td>\n",
       "      <td>25724</td>\n",
       "      <td>25272</td>\n",
       "      <td>25116</td>\n",
       "      <td>25080</td>\n",
       "      <td>24645</td>\n",
       "      <td>24570</td>\n",
       "      <td>23124</td>\n",
       "    </tr>\n",
       "  </tbody>\n",
       "</table>\n",
       "<p>1 rows × 35 columns</p>\n",
       "</div>"
      ],
      "text/plain": [
       "product_name  Denim  Casual Slim Fit  Trench Coat  Shearling  Puffer  Flannel  \\\n",
       "total_price   52399            36414        35581      35334   35164    33158   \n",
       "\n",
       "product_name  Cropped  Pleated  Joggers  Chambray  ...  Henley   Wool  \\\n",
       "total_price     32660    32340    31062     30740  ...   26414  26394   \n",
       "\n",
       "product_name  Leather  Mandarin Collar  Dress  Pullover   Polo  Coach  Linen  \\\n",
       "total_price     25774            25724  25272     25116  25080  24645  24570   \n",
       "\n",
       "product_name  Cords  \n",
       "total_price   23124  \n",
       "\n",
       "[1 rows x 35 columns]"
      ]
     },
     "execution_count": 43,
     "metadata": {},
     "output_type": "execute_result"
    }
   ],
   "source": [
    "df.groupby(['product_name'])['total_price'].sum().sort_values(ascending=False).to_frame().T "
   ]
  },
  {
   "cell_type": "code",
   "execution_count": 44,
   "id": "0b4d6eef",
   "metadata": {},
   "outputs": [
    {
     "data": {
      "text/plain": [
       "774770"
      ]
     },
     "execution_count": 44,
     "metadata": {},
     "output_type": "execute_result"
    }
   ],
   "source": [
    "df['product_id'].unique().sum()"
   ]
  },
  {
   "cell_type": "code",
   "execution_count": 45,
   "id": "e0b136c8",
   "metadata": {},
   "outputs": [
    {
     "data": {
      "text/plain": [
       "Index(['customer_id', 'customer_name', 'gender', 'age', 'home_address',\n",
       "       'zip_code', 'city', 'state', 'country', 'order_id', 'payment',\n",
       "       'order_date', 'delivery_date', 'sales_id', 'product_id',\n",
       "       'price_per_unit', 'sum_sold', 'total_price', 'product_type',\n",
       "       'product_name', 'size', 'colour', 'quantity_store', 'year_order',\n",
       "       'month_order', 'day_order', 'year_delivery', 'month_delivery',\n",
       "       'day_delivery'],\n",
       "      dtype='object')"
      ]
     },
     "execution_count": 45,
     "metadata": {},
     "output_type": "execute_result"
    }
   ],
   "source": [
    "df.columns"
   ]
  },
  {
   "cell_type": "code",
   "execution_count": 46,
   "id": "c430d238",
   "metadata": {},
   "outputs": [
    {
     "data": {
      "text/html": [
       "<div>\n",
       "<style scoped>\n",
       "    .dataframe tbody tr th:only-of-type {\n",
       "        vertical-align: middle;\n",
       "    }\n",
       "\n",
       "    .dataframe tbody tr th {\n",
       "        vertical-align: top;\n",
       "    }\n",
       "\n",
       "    .dataframe thead th {\n",
       "        text-align: right;\n",
       "    }\n",
       "</style>\n",
       "<table border=\"1\" class=\"dataframe\">\n",
       "  <thead>\n",
       "    <tr style=\"text-align: right;\">\n",
       "      <th></th>\n",
       "      <th>customer_id</th>\n",
       "      <th>customer_name</th>\n",
       "      <th>gender</th>\n",
       "      <th>age</th>\n",
       "      <th>home_address</th>\n",
       "      <th>zip_code</th>\n",
       "      <th>city</th>\n",
       "      <th>state</th>\n",
       "      <th>country</th>\n",
       "      <th>order_id</th>\n",
       "      <th>...</th>\n",
       "      <th>product_name</th>\n",
       "      <th>size</th>\n",
       "      <th>colour</th>\n",
       "      <th>quantity_store</th>\n",
       "      <th>year_order</th>\n",
       "      <th>month_order</th>\n",
       "      <th>day_order</th>\n",
       "      <th>year_delivery</th>\n",
       "      <th>month_delivery</th>\n",
       "      <th>day_delivery</th>\n",
       "    </tr>\n",
       "  </thead>\n",
       "  <tbody>\n",
       "    <tr>\n",
       "      <th>2295</th>\n",
       "      <td>454</td>\n",
       "      <td>Abey Bampforth</td>\n",
       "      <td>Genderfluid</td>\n",
       "      <td>28</td>\n",
       "      <td>3543 Jack GroveApt. 595</td>\n",
       "      <td>3276</td>\n",
       "      <td>Port Isabellafurt</td>\n",
       "      <td>New South Wales</td>\n",
       "      <td>Australia</td>\n",
       "      <td>682</td>\n",
       "      <td>...</td>\n",
       "      <td>Pullover</td>\n",
       "      <td>M</td>\n",
       "      <td>yellow</td>\n",
       "      <td>49</td>\n",
       "      <td>2021</td>\n",
       "      <td>2</td>\n",
       "      <td>28</td>\n",
       "      <td>2021</td>\n",
       "      <td>3</td>\n",
       "      <td>18</td>\n",
       "    </tr>\n",
       "    <tr>\n",
       "      <th>2299</th>\n",
       "      <td>690</td>\n",
       "      <td>Arlie Bowman</td>\n",
       "      <td>Genderqueer</td>\n",
       "      <td>34</td>\n",
       "      <td>04 Christian RidgeApt. 329</td>\n",
       "      <td>6697</td>\n",
       "      <td>Port Annabelle</td>\n",
       "      <td>Northern Territory</td>\n",
       "      <td>Australia</td>\n",
       "      <td>615</td>\n",
       "      <td>...</td>\n",
       "      <td>Pullover</td>\n",
       "      <td>M</td>\n",
       "      <td>yellow</td>\n",
       "      <td>49</td>\n",
       "      <td>2021</td>\n",
       "      <td>1</td>\n",
       "      <td>31</td>\n",
       "      <td>2021</td>\n",
       "      <td>2</td>\n",
       "      <td>10</td>\n",
       "    </tr>\n",
       "    <tr>\n",
       "      <th>2298</th>\n",
       "      <td>680</td>\n",
       "      <td>Camellia Heatherington</td>\n",
       "      <td>Bigender</td>\n",
       "      <td>78</td>\n",
       "      <td>5530 Ashton GroveSuite 128</td>\n",
       "      <td>7905</td>\n",
       "      <td>Taylorfurt</td>\n",
       "      <td>New South Wales</td>\n",
       "      <td>Australia</td>\n",
       "      <td>77</td>\n",
       "      <td>...</td>\n",
       "      <td>Pullover</td>\n",
       "      <td>M</td>\n",
       "      <td>yellow</td>\n",
       "      <td>49</td>\n",
       "      <td>2021</td>\n",
       "      <td>4</td>\n",
       "      <td>19</td>\n",
       "      <td>2021</td>\n",
       "      <td>4</td>\n",
       "      <td>29</td>\n",
       "    </tr>\n",
       "    <tr>\n",
       "      <th>2294</th>\n",
       "      <td>120</td>\n",
       "      <td>Didi Garton</td>\n",
       "      <td>Polygender</td>\n",
       "      <td>60</td>\n",
       "      <td>13 Ivy BoulevardSuite 234</td>\n",
       "      <td>3554</td>\n",
       "      <td>Carterbury</td>\n",
       "      <td>Queensland</td>\n",
       "      <td>Australia</td>\n",
       "      <td>12</td>\n",
       "      <td>...</td>\n",
       "      <td>Pullover</td>\n",
       "      <td>M</td>\n",
       "      <td>yellow</td>\n",
       "      <td>49</td>\n",
       "      <td>2021</td>\n",
       "      <td>6</td>\n",
       "      <td>30</td>\n",
       "      <td>2021</td>\n",
       "      <td>7</td>\n",
       "      <td>11</td>\n",
       "    </tr>\n",
       "    <tr>\n",
       "      <th>2296</th>\n",
       "      <td>456</td>\n",
       "      <td>Joelynn Remington</td>\n",
       "      <td>Agender</td>\n",
       "      <td>33</td>\n",
       "      <td>94 Archie CourtSuite 659</td>\n",
       "      <td>2010</td>\n",
       "      <td>West Lachlan</td>\n",
       "      <td>Queensland</td>\n",
       "      <td>Australia</td>\n",
       "      <td>666</td>\n",
       "      <td>...</td>\n",
       "      <td>Pullover</td>\n",
       "      <td>M</td>\n",
       "      <td>yellow</td>\n",
       "      <td>49</td>\n",
       "      <td>2021</td>\n",
       "      <td>8</td>\n",
       "      <td>25</td>\n",
       "      <td>2021</td>\n",
       "      <td>9</td>\n",
       "      <td>11</td>\n",
       "    </tr>\n",
       "    <tr>\n",
       "      <th>2297</th>\n",
       "      <td>465</td>\n",
       "      <td>Mallory Castellani</td>\n",
       "      <td>Female</td>\n",
       "      <td>38</td>\n",
       "      <td>115 Wilkinson CrestSuite 858</td>\n",
       "      <td>4700</td>\n",
       "      <td>Williammouth</td>\n",
       "      <td>Victoria</td>\n",
       "      <td>Australia</td>\n",
       "      <td>720</td>\n",
       "      <td>...</td>\n",
       "      <td>Pullover</td>\n",
       "      <td>M</td>\n",
       "      <td>yellow</td>\n",
       "      <td>49</td>\n",
       "      <td>2021</td>\n",
       "      <td>3</td>\n",
       "      <td>12</td>\n",
       "      <td>2021</td>\n",
       "      <td>3</td>\n",
       "      <td>23</td>\n",
       "    </tr>\n",
       "    <tr>\n",
       "      <th>2300</th>\n",
       "      <td>692</td>\n",
       "      <td>Perceval Umbers</td>\n",
       "      <td>Bigender</td>\n",
       "      <td>20</td>\n",
       "      <td>5200 Tromp Estate DrSuite 885</td>\n",
       "      <td>4058</td>\n",
       "      <td>Laraview</td>\n",
       "      <td>Tasmania</td>\n",
       "      <td>Australia</td>\n",
       "      <td>606</td>\n",
       "      <td>...</td>\n",
       "      <td>Pullover</td>\n",
       "      <td>M</td>\n",
       "      <td>yellow</td>\n",
       "      <td>49</td>\n",
       "      <td>2021</td>\n",
       "      <td>1</td>\n",
       "      <td>31</td>\n",
       "      <td>2021</td>\n",
       "      <td>2</td>\n",
       "      <td>8</td>\n",
       "    </tr>\n",
       "  </tbody>\n",
       "</table>\n",
       "<p>7 rows × 29 columns</p>\n",
       "</div>"
      ],
      "text/plain": [
       "      customer_id           customer_name       gender  age  \\\n",
       "2295          454          Abey Bampforth  Genderfluid   28   \n",
       "2299          690            Arlie Bowman  Genderqueer   34   \n",
       "2298          680  Camellia Heatherington     Bigender   78   \n",
       "2294          120             Didi Garton   Polygender   60   \n",
       "2296          456       Joelynn Remington      Agender   33   \n",
       "2297          465      Mallory Castellani       Female   38   \n",
       "2300          692         Perceval Umbers     Bigender   20   \n",
       "\n",
       "                       home_address  zip_code               city  \\\n",
       "2295        3543 Jack GroveApt. 595      3276  Port Isabellafurt   \n",
       "2299     04 Christian RidgeApt. 329      6697     Port Annabelle   \n",
       "2298     5530 Ashton GroveSuite 128      7905         Taylorfurt   \n",
       "2294      13 Ivy BoulevardSuite 234      3554         Carterbury   \n",
       "2296       94 Archie CourtSuite 659      2010       West Lachlan   \n",
       "2297   115 Wilkinson CrestSuite 858      4700       Williammouth   \n",
       "2300  5200 Tromp Estate DrSuite 885      4058           Laraview   \n",
       "\n",
       "                   state    country  order_id  ...  product_name size  colour  \\\n",
       "2295     New South Wales  Australia       682  ...      Pullover    M  yellow   \n",
       "2299  Northern Territory  Australia       615  ...      Pullover    M  yellow   \n",
       "2298     New South Wales  Australia        77  ...      Pullover    M  yellow   \n",
       "2294          Queensland  Australia        12  ...      Pullover    M  yellow   \n",
       "2296          Queensland  Australia       666  ...      Pullover    M  yellow   \n",
       "2297            Victoria  Australia       720  ...      Pullover    M  yellow   \n",
       "2300            Tasmania  Australia       606  ...      Pullover    M  yellow   \n",
       "\n",
       "      quantity_store  year_order  month_order  day_order  year_delivery  \\\n",
       "2295              49        2021            2         28           2021   \n",
       "2299              49        2021            1         31           2021   \n",
       "2298              49        2021            4         19           2021   \n",
       "2294              49        2021            6         30           2021   \n",
       "2296              49        2021            8         25           2021   \n",
       "2297              49        2021            3         12           2021   \n",
       "2300              49        2021            1         31           2021   \n",
       "\n",
       "     month_delivery day_delivery  \n",
       "2295              3           18  \n",
       "2299              2           10  \n",
       "2298              4           29  \n",
       "2294              7           11  \n",
       "2296              9           11  \n",
       "2297              3           23  \n",
       "2300              2            8  \n",
       "\n",
       "[7 rows x 29 columns]"
      ]
     },
     "execution_count": 46,
     "metadata": {},
     "output_type": "execute_result"
    }
   ],
   "source": [
    "row = df.loc[(df[\"product_name\"] == \"Pullover\") & (df[\"size\"] == \"M\") & (df['colour'] == 'yellow') ]\n",
    "row"
   ]
  },
  {
   "cell_type": "code",
   "execution_count": 47,
   "id": "3e27aab7",
   "metadata": {},
   "outputs": [
    {
     "data": {
      "text/html": [
       "<div>\n",
       "<style scoped>\n",
       "    .dataframe tbody tr th:only-of-type {\n",
       "        vertical-align: middle;\n",
       "    }\n",
       "\n",
       "    .dataframe tbody tr th {\n",
       "        vertical-align: top;\n",
       "    }\n",
       "\n",
       "    .dataframe thead th {\n",
       "        text-align: right;\n",
       "    }\n",
       "</style>\n",
       "<table border=\"1\" class=\"dataframe\">\n",
       "  <thead>\n",
       "    <tr style=\"text-align: right;\">\n",
       "      <th></th>\n",
       "      <th>customer_id</th>\n",
       "      <th>customer_name</th>\n",
       "      <th>gender</th>\n",
       "      <th>age</th>\n",
       "      <th>home_address</th>\n",
       "      <th>zip_code</th>\n",
       "      <th>city</th>\n",
       "      <th>state</th>\n",
       "      <th>country</th>\n",
       "      <th>order_id</th>\n",
       "      <th>...</th>\n",
       "      <th>product_name</th>\n",
       "      <th>size</th>\n",
       "      <th>colour</th>\n",
       "      <th>quantity_store</th>\n",
       "      <th>year_order</th>\n",
       "      <th>month_order</th>\n",
       "      <th>day_order</th>\n",
       "      <th>year_delivery</th>\n",
       "      <th>month_delivery</th>\n",
       "      <th>day_delivery</th>\n",
       "    </tr>\n",
       "  </thead>\n",
       "  <tbody>\n",
       "    <tr>\n",
       "      <th>2295</th>\n",
       "      <td>454</td>\n",
       "      <td>Abey Bampforth</td>\n",
       "      <td>Genderfluid</td>\n",
       "      <td>28</td>\n",
       "      <td>3543 Jack GroveApt. 595</td>\n",
       "      <td>3276</td>\n",
       "      <td>Port Isabellafurt</td>\n",
       "      <td>New South Wales</td>\n",
       "      <td>Australia</td>\n",
       "      <td>682</td>\n",
       "      <td>...</td>\n",
       "      <td>Pullover</td>\n",
       "      <td>M</td>\n",
       "      <td>yellow</td>\n",
       "      <td>49</td>\n",
       "      <td>2021</td>\n",
       "      <td>2</td>\n",
       "      <td>28</td>\n",
       "      <td>2021</td>\n",
       "      <td>3</td>\n",
       "      <td>18</td>\n",
       "    </tr>\n",
       "    <tr>\n",
       "      <th>2299</th>\n",
       "      <td>690</td>\n",
       "      <td>Arlie Bowman</td>\n",
       "      <td>Genderqueer</td>\n",
       "      <td>34</td>\n",
       "      <td>04 Christian RidgeApt. 329</td>\n",
       "      <td>6697</td>\n",
       "      <td>Port Annabelle</td>\n",
       "      <td>Northern Territory</td>\n",
       "      <td>Australia</td>\n",
       "      <td>615</td>\n",
       "      <td>...</td>\n",
       "      <td>Pullover</td>\n",
       "      <td>M</td>\n",
       "      <td>yellow</td>\n",
       "      <td>49</td>\n",
       "      <td>2021</td>\n",
       "      <td>1</td>\n",
       "      <td>31</td>\n",
       "      <td>2021</td>\n",
       "      <td>2</td>\n",
       "      <td>10</td>\n",
       "    </tr>\n",
       "    <tr>\n",
       "      <th>2298</th>\n",
       "      <td>680</td>\n",
       "      <td>Camellia Heatherington</td>\n",
       "      <td>Bigender</td>\n",
       "      <td>78</td>\n",
       "      <td>5530 Ashton GroveSuite 128</td>\n",
       "      <td>7905</td>\n",
       "      <td>Taylorfurt</td>\n",
       "      <td>New South Wales</td>\n",
       "      <td>Australia</td>\n",
       "      <td>77</td>\n",
       "      <td>...</td>\n",
       "      <td>Pullover</td>\n",
       "      <td>M</td>\n",
       "      <td>yellow</td>\n",
       "      <td>49</td>\n",
       "      <td>2021</td>\n",
       "      <td>4</td>\n",
       "      <td>19</td>\n",
       "      <td>2021</td>\n",
       "      <td>4</td>\n",
       "      <td>29</td>\n",
       "    </tr>\n",
       "    <tr>\n",
       "      <th>2294</th>\n",
       "      <td>120</td>\n",
       "      <td>Didi Garton</td>\n",
       "      <td>Polygender</td>\n",
       "      <td>60</td>\n",
       "      <td>13 Ivy BoulevardSuite 234</td>\n",
       "      <td>3554</td>\n",
       "      <td>Carterbury</td>\n",
       "      <td>Queensland</td>\n",
       "      <td>Australia</td>\n",
       "      <td>12</td>\n",
       "      <td>...</td>\n",
       "      <td>Pullover</td>\n",
       "      <td>M</td>\n",
       "      <td>yellow</td>\n",
       "      <td>49</td>\n",
       "      <td>2021</td>\n",
       "      <td>6</td>\n",
       "      <td>30</td>\n",
       "      <td>2021</td>\n",
       "      <td>7</td>\n",
       "      <td>11</td>\n",
       "    </tr>\n",
       "    <tr>\n",
       "      <th>2296</th>\n",
       "      <td>456</td>\n",
       "      <td>Joelynn Remington</td>\n",
       "      <td>Agender</td>\n",
       "      <td>33</td>\n",
       "      <td>94 Archie CourtSuite 659</td>\n",
       "      <td>2010</td>\n",
       "      <td>West Lachlan</td>\n",
       "      <td>Queensland</td>\n",
       "      <td>Australia</td>\n",
       "      <td>666</td>\n",
       "      <td>...</td>\n",
       "      <td>Pullover</td>\n",
       "      <td>M</td>\n",
       "      <td>yellow</td>\n",
       "      <td>49</td>\n",
       "      <td>2021</td>\n",
       "      <td>8</td>\n",
       "      <td>25</td>\n",
       "      <td>2021</td>\n",
       "      <td>9</td>\n",
       "      <td>11</td>\n",
       "    </tr>\n",
       "    <tr>\n",
       "      <th>2297</th>\n",
       "      <td>465</td>\n",
       "      <td>Mallory Castellani</td>\n",
       "      <td>Female</td>\n",
       "      <td>38</td>\n",
       "      <td>115 Wilkinson CrestSuite 858</td>\n",
       "      <td>4700</td>\n",
       "      <td>Williammouth</td>\n",
       "      <td>Victoria</td>\n",
       "      <td>Australia</td>\n",
       "      <td>720</td>\n",
       "      <td>...</td>\n",
       "      <td>Pullover</td>\n",
       "      <td>M</td>\n",
       "      <td>yellow</td>\n",
       "      <td>49</td>\n",
       "      <td>2021</td>\n",
       "      <td>3</td>\n",
       "      <td>12</td>\n",
       "      <td>2021</td>\n",
       "      <td>3</td>\n",
       "      <td>23</td>\n",
       "    </tr>\n",
       "    <tr>\n",
       "      <th>2300</th>\n",
       "      <td>692</td>\n",
       "      <td>Perceval Umbers</td>\n",
       "      <td>Bigender</td>\n",
       "      <td>20</td>\n",
       "      <td>5200 Tromp Estate DrSuite 885</td>\n",
       "      <td>4058</td>\n",
       "      <td>Laraview</td>\n",
       "      <td>Tasmania</td>\n",
       "      <td>Australia</td>\n",
       "      <td>606</td>\n",
       "      <td>...</td>\n",
       "      <td>Pullover</td>\n",
       "      <td>M</td>\n",
       "      <td>yellow</td>\n",
       "      <td>49</td>\n",
       "      <td>2021</td>\n",
       "      <td>1</td>\n",
       "      <td>31</td>\n",
       "      <td>2021</td>\n",
       "      <td>2</td>\n",
       "      <td>8</td>\n",
       "    </tr>\n",
       "  </tbody>\n",
       "</table>\n",
       "<p>7 rows × 29 columns</p>\n",
       "</div>"
      ],
      "text/plain": [
       "      customer_id           customer_name       gender  age  \\\n",
       "2295          454          Abey Bampforth  Genderfluid   28   \n",
       "2299          690            Arlie Bowman  Genderqueer   34   \n",
       "2298          680  Camellia Heatherington     Bigender   78   \n",
       "2294          120             Didi Garton   Polygender   60   \n",
       "2296          456       Joelynn Remington      Agender   33   \n",
       "2297          465      Mallory Castellani       Female   38   \n",
       "2300          692         Perceval Umbers     Bigender   20   \n",
       "\n",
       "                       home_address  zip_code               city  \\\n",
       "2295        3543 Jack GroveApt. 595      3276  Port Isabellafurt   \n",
       "2299     04 Christian RidgeApt. 329      6697     Port Annabelle   \n",
       "2298     5530 Ashton GroveSuite 128      7905         Taylorfurt   \n",
       "2294      13 Ivy BoulevardSuite 234      3554         Carterbury   \n",
       "2296       94 Archie CourtSuite 659      2010       West Lachlan   \n",
       "2297   115 Wilkinson CrestSuite 858      4700       Williammouth   \n",
       "2300  5200 Tromp Estate DrSuite 885      4058           Laraview   \n",
       "\n",
       "                   state    country  order_id  ...  product_name size  colour  \\\n",
       "2295     New South Wales  Australia       682  ...      Pullover    M  yellow   \n",
       "2299  Northern Territory  Australia       615  ...      Pullover    M  yellow   \n",
       "2298     New South Wales  Australia        77  ...      Pullover    M  yellow   \n",
       "2294          Queensland  Australia        12  ...      Pullover    M  yellow   \n",
       "2296          Queensland  Australia       666  ...      Pullover    M  yellow   \n",
       "2297            Victoria  Australia       720  ...      Pullover    M  yellow   \n",
       "2300            Tasmania  Australia       606  ...      Pullover    M  yellow   \n",
       "\n",
       "      quantity_store  year_order  month_order  day_order  year_delivery  \\\n",
       "2295              49        2021            2         28           2021   \n",
       "2299              49        2021            1         31           2021   \n",
       "2298              49        2021            4         19           2021   \n",
       "2294              49        2021            6         30           2021   \n",
       "2296              49        2021            8         25           2021   \n",
       "2297              49        2021            3         12           2021   \n",
       "2300              49        2021            1         31           2021   \n",
       "\n",
       "     month_delivery day_delivery  \n",
       "2295              3           18  \n",
       "2299              2           10  \n",
       "2298              4           29  \n",
       "2294              7           11  \n",
       "2296              9           11  \n",
       "2297              3           23  \n",
       "2300              2            8  \n",
       "\n",
       "[7 rows x 29 columns]"
      ]
     },
     "execution_count": 47,
     "metadata": {},
     "output_type": "execute_result"
    }
   ],
   "source": [
    "row1 = df.loc[(df['product_id'] == 782)]\n",
    "row1"
   ]
  },
  {
   "cell_type": "code",
   "execution_count": 48,
   "id": "ebb4a3d7",
   "metadata": {},
   "outputs": [
    {
     "name": "stdout",
     "output_type": "stream",
     "text": [
      "78      13\n",
      "740     12\n",
      "579     11\n",
      "843     11\n",
      "1038    10\n",
      "        ..\n",
      "300      1\n",
      "597      1\n",
      "825      1\n",
      "1099     1\n",
      "659      1\n",
      "Name: product_id, Length: 1233, dtype: int64\n"
     ]
    }
   ],
   "source": [
    "counts = df['product_id'].value_counts()\n",
    "print(counts)"
   ]
  },
  {
   "cell_type": "code",
   "execution_count": 49,
   "id": "fd290867",
   "metadata": {},
   "outputs": [
    {
     "data": {
      "text/plain": [
       "product_id\n",
       "1       5\n",
       "2       6\n",
       "3       4\n",
       "4       6\n",
       "5       2\n",
       "       ..\n",
       "1255    5\n",
       "1256    3\n",
       "1257    3\n",
       "1258    4\n",
       "1259    4\n",
       "Name: product_id, Length: 1233, dtype: int64"
      ]
     },
     "execution_count": 49,
     "metadata": {},
     "output_type": "execute_result"
    }
   ],
   "source": [
    "count1 = df.groupby(['product_id'])['product_id'].count()\n",
    "count1"
   ]
  },
  {
   "cell_type": "code",
   "execution_count": 50,
   "id": "232bf13f",
   "metadata": {},
   "outputs": [
    {
     "data": {
      "text/html": [
       "<div>\n",
       "<style scoped>\n",
       "    .dataframe tbody tr th:only-of-type {\n",
       "        vertical-align: middle;\n",
       "    }\n",
       "\n",
       "    .dataframe tbody tr th {\n",
       "        vertical-align: top;\n",
       "    }\n",
       "\n",
       "    .dataframe thead th {\n",
       "        text-align: right;\n",
       "    }\n",
       "</style>\n",
       "<table border=\"1\" class=\"dataframe\">\n",
       "  <thead>\n",
       "    <tr style=\"text-align: right;\">\n",
       "      <th></th>\n",
       "      <th>customer_id</th>\n",
       "      <th>customer_name</th>\n",
       "      <th>gender</th>\n",
       "      <th>age</th>\n",
       "      <th>home_address</th>\n",
       "      <th>zip_code</th>\n",
       "      <th>city</th>\n",
       "      <th>state</th>\n",
       "      <th>country</th>\n",
       "      <th>order_id</th>\n",
       "      <th>...</th>\n",
       "      <th>size</th>\n",
       "      <th>colour</th>\n",
       "      <th>quantity_store</th>\n",
       "      <th>year_order</th>\n",
       "      <th>month_order</th>\n",
       "      <th>day_order</th>\n",
       "      <th>year_delivery</th>\n",
       "      <th>month_delivery</th>\n",
       "      <th>day_delivery</th>\n",
       "      <th>num_orders</th>\n",
       "    </tr>\n",
       "  </thead>\n",
       "  <tbody>\n",
       "    <tr>\n",
       "      <th>1408</th>\n",
       "      <td>454</td>\n",
       "      <td>Abey Bampforth</td>\n",
       "      <td>Genderfluid</td>\n",
       "      <td>28</td>\n",
       "      <td>3543 Jack GroveApt. 595</td>\n",
       "      <td>3276</td>\n",
       "      <td>Port Isabellafurt</td>\n",
       "      <td>New South Wales</td>\n",
       "      <td>Australia</td>\n",
       "      <td>50</td>\n",
       "      <td>...</td>\n",
       "      <td>XL</td>\n",
       "      <td>blue</td>\n",
       "      <td>71</td>\n",
       "      <td>2021</td>\n",
       "      <td>9</td>\n",
       "      <td>16</td>\n",
       "      <td>2021</td>\n",
       "      <td>9</td>\n",
       "      <td>18</td>\n",
       "      <td>5</td>\n",
       "    </tr>\n",
       "    <tr>\n",
       "      <th>4145</th>\n",
       "      <td>454</td>\n",
       "      <td>Abey Bampforth</td>\n",
       "      <td>Genderfluid</td>\n",
       "      <td>28</td>\n",
       "      <td>3543 Jack GroveApt. 595</td>\n",
       "      <td>3276</td>\n",
       "      <td>Port Isabellafurt</td>\n",
       "      <td>New South Wales</td>\n",
       "      <td>Australia</td>\n",
       "      <td>50</td>\n",
       "      <td>...</td>\n",
       "      <td>L</td>\n",
       "      <td>yellow</td>\n",
       "      <td>60</td>\n",
       "      <td>2021</td>\n",
       "      <td>9</td>\n",
       "      <td>16</td>\n",
       "      <td>2021</td>\n",
       "      <td>9</td>\n",
       "      <td>18</td>\n",
       "      <td>7</td>\n",
       "    </tr>\n",
       "    <tr>\n",
       "      <th>692</th>\n",
       "      <td>454</td>\n",
       "      <td>Abey Bampforth</td>\n",
       "      <td>Genderfluid</td>\n",
       "      <td>28</td>\n",
       "      <td>3543 Jack GroveApt. 595</td>\n",
       "      <td>3276</td>\n",
       "      <td>Port Isabellafurt</td>\n",
       "      <td>New South Wales</td>\n",
       "      <td>Australia</td>\n",
       "      <td>682</td>\n",
       "      <td>...</td>\n",
       "      <td>L</td>\n",
       "      <td>violet</td>\n",
       "      <td>76</td>\n",
       "      <td>2021</td>\n",
       "      <td>2</td>\n",
       "      <td>28</td>\n",
       "      <td>2021</td>\n",
       "      <td>3</td>\n",
       "      <td>18</td>\n",
       "      <td>6</td>\n",
       "    </tr>\n",
       "    <tr>\n",
       "      <th>2295</th>\n",
       "      <td>454</td>\n",
       "      <td>Abey Bampforth</td>\n",
       "      <td>Genderfluid</td>\n",
       "      <td>28</td>\n",
       "      <td>3543 Jack GroveApt. 595</td>\n",
       "      <td>3276</td>\n",
       "      <td>Port Isabellafurt</td>\n",
       "      <td>New South Wales</td>\n",
       "      <td>Australia</td>\n",
       "      <td>682</td>\n",
       "      <td>...</td>\n",
       "      <td>M</td>\n",
       "      <td>yellow</td>\n",
       "      <td>49</td>\n",
       "      <td>2021</td>\n",
       "      <td>2</td>\n",
       "      <td>28</td>\n",
       "      <td>2021</td>\n",
       "      <td>3</td>\n",
       "      <td>18</td>\n",
       "      <td>7</td>\n",
       "    </tr>\n",
       "    <tr>\n",
       "      <th>3898</th>\n",
       "      <td>454</td>\n",
       "      <td>Abey Bampforth</td>\n",
       "      <td>Genderfluid</td>\n",
       "      <td>28</td>\n",
       "      <td>3543 Jack GroveApt. 595</td>\n",
       "      <td>3276</td>\n",
       "      <td>Port Isabellafurt</td>\n",
       "      <td>New South Wales</td>\n",
       "      <td>Australia</td>\n",
       "      <td>50</td>\n",
       "      <td>...</td>\n",
       "      <td>S</td>\n",
       "      <td>red</td>\n",
       "      <td>71</td>\n",
       "      <td>2021</td>\n",
       "      <td>9</td>\n",
       "      <td>16</td>\n",
       "      <td>2021</td>\n",
       "      <td>9</td>\n",
       "      <td>18</td>\n",
       "      <td>4</td>\n",
       "    </tr>\n",
       "    <tr>\n",
       "      <th>3495</th>\n",
       "      <td>454</td>\n",
       "      <td>Abey Bampforth</td>\n",
       "      <td>Genderfluid</td>\n",
       "      <td>28</td>\n",
       "      <td>3543 Jack GroveApt. 595</td>\n",
       "      <td>3276</td>\n",
       "      <td>Port Isabellafurt</td>\n",
       "      <td>New South Wales</td>\n",
       "      <td>Australia</td>\n",
       "      <td>682</td>\n",
       "      <td>...</td>\n",
       "      <td>XS</td>\n",
       "      <td>violet</td>\n",
       "      <td>50</td>\n",
       "      <td>2021</td>\n",
       "      <td>2</td>\n",
       "      <td>28</td>\n",
       "      <td>2021</td>\n",
       "      <td>3</td>\n",
       "      <td>18</td>\n",
       "      <td>5</td>\n",
       "    </tr>\n",
       "    <tr>\n",
       "      <th>873</th>\n",
       "      <td>454</td>\n",
       "      <td>Abey Bampforth</td>\n",
       "      <td>Genderfluid</td>\n",
       "      <td>28</td>\n",
       "      <td>3543 Jack GroveApt. 595</td>\n",
       "      <td>3276</td>\n",
       "      <td>Port Isabellafurt</td>\n",
       "      <td>New South Wales</td>\n",
       "      <td>Australia</td>\n",
       "      <td>50</td>\n",
       "      <td>...</td>\n",
       "      <td>XL</td>\n",
       "      <td>orange</td>\n",
       "      <td>79</td>\n",
       "      <td>2021</td>\n",
       "      <td>9</td>\n",
       "      <td>16</td>\n",
       "      <td>2021</td>\n",
       "      <td>9</td>\n",
       "      <td>18</td>\n",
       "      <td>5</td>\n",
       "    </tr>\n",
       "    <tr>\n",
       "      <th>4470</th>\n",
       "      <td>454</td>\n",
       "      <td>Abey Bampforth</td>\n",
       "      <td>Genderfluid</td>\n",
       "      <td>28</td>\n",
       "      <td>3543 Jack GroveApt. 595</td>\n",
       "      <td>3276</td>\n",
       "      <td>Port Isabellafurt</td>\n",
       "      <td>New South Wales</td>\n",
       "      <td>Australia</td>\n",
       "      <td>682</td>\n",
       "      <td>...</td>\n",
       "      <td>M</td>\n",
       "      <td>green</td>\n",
       "      <td>54</td>\n",
       "      <td>2021</td>\n",
       "      <td>2</td>\n",
       "      <td>28</td>\n",
       "      <td>2021</td>\n",
       "      <td>3</td>\n",
       "      <td>18</td>\n",
       "      <td>4</td>\n",
       "    </tr>\n",
       "    <tr>\n",
       "      <th>2787</th>\n",
       "      <td>454</td>\n",
       "      <td>Abey Bampforth</td>\n",
       "      <td>Genderfluid</td>\n",
       "      <td>28</td>\n",
       "      <td>3543 Jack GroveApt. 595</td>\n",
       "      <td>3276</td>\n",
       "      <td>Port Isabellafurt</td>\n",
       "      <td>New South Wales</td>\n",
       "      <td>Australia</td>\n",
       "      <td>682</td>\n",
       "      <td>...</td>\n",
       "      <td>S</td>\n",
       "      <td>indigo</td>\n",
       "      <td>44</td>\n",
       "      <td>2021</td>\n",
       "      <td>2</td>\n",
       "      <td>28</td>\n",
       "      <td>2021</td>\n",
       "      <td>3</td>\n",
       "      <td>18</td>\n",
       "      <td>6</td>\n",
       "    </tr>\n",
       "    <tr>\n",
       "      <th>505</th>\n",
       "      <td>454</td>\n",
       "      <td>Abey Bampforth</td>\n",
       "      <td>Genderfluid</td>\n",
       "      <td>28</td>\n",
       "      <td>3543 Jack GroveApt. 595</td>\n",
       "      <td>3276</td>\n",
       "      <td>Port Isabellafurt</td>\n",
       "      <td>New South Wales</td>\n",
       "      <td>Australia</td>\n",
       "      <td>50</td>\n",
       "      <td>...</td>\n",
       "      <td>L</td>\n",
       "      <td>green</td>\n",
       "      <td>62</td>\n",
       "      <td>2021</td>\n",
       "      <td>9</td>\n",
       "      <td>16</td>\n",
       "      <td>2021</td>\n",
       "      <td>9</td>\n",
       "      <td>18</td>\n",
       "      <td>6</td>\n",
       "    </tr>\n",
       "    <tr>\n",
       "      <th>3064</th>\n",
       "      <td>454</td>\n",
       "      <td>Abey Bampforth</td>\n",
       "      <td>Genderfluid</td>\n",
       "      <td>28</td>\n",
       "      <td>3543 Jack GroveApt. 595</td>\n",
       "      <td>3276</td>\n",
       "      <td>Port Isabellafurt</td>\n",
       "      <td>New South Wales</td>\n",
       "      <td>Australia</td>\n",
       "      <td>682</td>\n",
       "      <td>...</td>\n",
       "      <td>S</td>\n",
       "      <td>indigo</td>\n",
       "      <td>69</td>\n",
       "      <td>2021</td>\n",
       "      <td>2</td>\n",
       "      <td>28</td>\n",
       "      <td>2021</td>\n",
       "      <td>3</td>\n",
       "      <td>18</td>\n",
       "      <td>5</td>\n",
       "    </tr>\n",
       "    <tr>\n",
       "      <th>1036</th>\n",
       "      <td>454</td>\n",
       "      <td>Abey Bampforth</td>\n",
       "      <td>Genderfluid</td>\n",
       "      <td>28</td>\n",
       "      <td>3543 Jack GroveApt. 595</td>\n",
       "      <td>3276</td>\n",
       "      <td>Port Isabellafurt</td>\n",
       "      <td>New South Wales</td>\n",
       "      <td>Australia</td>\n",
       "      <td>50</td>\n",
       "      <td>...</td>\n",
       "      <td>M</td>\n",
       "      <td>red</td>\n",
       "      <td>62</td>\n",
       "      <td>2021</td>\n",
       "      <td>9</td>\n",
       "      <td>16</td>\n",
       "      <td>2021</td>\n",
       "      <td>9</td>\n",
       "      <td>18</td>\n",
       "      <td>7</td>\n",
       "    </tr>\n",
       "    <tr>\n",
       "      <th>671</th>\n",
       "      <td>35</td>\n",
       "      <td>Adamo Saddington</td>\n",
       "      <td>Male</td>\n",
       "      <td>80</td>\n",
       "      <td>3168 Bartoletti CrescentSuite 878</td>\n",
       "      <td>593</td>\n",
       "      <td>Port Lucas</td>\n",
       "      <td>Queensland</td>\n",
       "      <td>Australia</td>\n",
       "      <td>948</td>\n",
       "      <td>...</td>\n",
       "      <td>S</td>\n",
       "      <td>green</td>\n",
       "      <td>49</td>\n",
       "      <td>2021</td>\n",
       "      <td>8</td>\n",
       "      <td>24</td>\n",
       "      <td>2021</td>\n",
       "      <td>9</td>\n",
       "      <td>2</td>\n",
       "      <td>5</td>\n",
       "    </tr>\n",
       "    <tr>\n",
       "      <th>667</th>\n",
       "      <td>35</td>\n",
       "      <td>Adamo Saddington</td>\n",
       "      <td>Male</td>\n",
       "      <td>80</td>\n",
       "      <td>3168 Bartoletti CrescentSuite 878</td>\n",
       "      <td>593</td>\n",
       "      <td>Port Lucas</td>\n",
       "      <td>Queensland</td>\n",
       "      <td>Australia</td>\n",
       "      <td>948</td>\n",
       "      <td>...</td>\n",
       "      <td>S</td>\n",
       "      <td>blue</td>\n",
       "      <td>48</td>\n",
       "      <td>2021</td>\n",
       "      <td>8</td>\n",
       "      <td>24</td>\n",
       "      <td>2021</td>\n",
       "      <td>9</td>\n",
       "      <td>2</td>\n",
       "      <td>4</td>\n",
       "    </tr>\n",
       "    <tr>\n",
       "      <th>676</th>\n",
       "      <td>35</td>\n",
       "      <td>Adamo Saddington</td>\n",
       "      <td>Male</td>\n",
       "      <td>80</td>\n",
       "      <td>3168 Bartoletti CrescentSuite 878</td>\n",
       "      <td>593</td>\n",
       "      <td>Port Lucas</td>\n",
       "      <td>Queensland</td>\n",
       "      <td>Australia</td>\n",
       "      <td>948</td>\n",
       "      <td>...</td>\n",
       "      <td>S</td>\n",
       "      <td>blue</td>\n",
       "      <td>59</td>\n",
       "      <td>2021</td>\n",
       "      <td>8</td>\n",
       "      <td>24</td>\n",
       "      <td>2021</td>\n",
       "      <td>9</td>\n",
       "      <td>2</td>\n",
       "      <td>3</td>\n",
       "    </tr>\n",
       "    <tr>\n",
       "      <th>607</th>\n",
       "      <td>35</td>\n",
       "      <td>Adamo Saddington</td>\n",
       "      <td>Male</td>\n",
       "      <td>80</td>\n",
       "      <td>3168 Bartoletti CrescentSuite 878</td>\n",
       "      <td>593</td>\n",
       "      <td>Port Lucas</td>\n",
       "      <td>Queensland</td>\n",
       "      <td>Australia</td>\n",
       "      <td>948</td>\n",
       "      <td>...</td>\n",
       "      <td>M</td>\n",
       "      <td>indigo</td>\n",
       "      <td>67</td>\n",
       "      <td>2021</td>\n",
       "      <td>8</td>\n",
       "      <td>24</td>\n",
       "      <td>2021</td>\n",
       "      <td>9</td>\n",
       "      <td>2</td>\n",
       "      <td>6</td>\n",
       "    </tr>\n",
       "    <tr>\n",
       "      <th>658</th>\n",
       "      <td>35</td>\n",
       "      <td>Adamo Saddington</td>\n",
       "      <td>Male</td>\n",
       "      <td>80</td>\n",
       "      <td>3168 Bartoletti CrescentSuite 878</td>\n",
       "      <td>593</td>\n",
       "      <td>Port Lucas</td>\n",
       "      <td>Queensland</td>\n",
       "      <td>Australia</td>\n",
       "      <td>844</td>\n",
       "      <td>...</td>\n",
       "      <td>S</td>\n",
       "      <td>indigo</td>\n",
       "      <td>41</td>\n",
       "      <td>2021</td>\n",
       "      <td>9</td>\n",
       "      <td>26</td>\n",
       "      <td>2021</td>\n",
       "      <td>10</td>\n",
       "      <td>18</td>\n",
       "      <td>9</td>\n",
       "    </tr>\n",
       "  </tbody>\n",
       "</table>\n",
       "<p>17 rows × 30 columns</p>\n",
       "</div>"
      ],
      "text/plain": [
       "      customer_id     customer_name       gender  age  \\\n",
       "1408          454    Abey Bampforth  Genderfluid   28   \n",
       "4145          454    Abey Bampforth  Genderfluid   28   \n",
       "692           454    Abey Bampforth  Genderfluid   28   \n",
       "2295          454    Abey Bampforth  Genderfluid   28   \n",
       "3898          454    Abey Bampforth  Genderfluid   28   \n",
       "3495          454    Abey Bampforth  Genderfluid   28   \n",
       "873           454    Abey Bampforth  Genderfluid   28   \n",
       "4470          454    Abey Bampforth  Genderfluid   28   \n",
       "2787          454    Abey Bampforth  Genderfluid   28   \n",
       "505           454    Abey Bampforth  Genderfluid   28   \n",
       "3064          454    Abey Bampforth  Genderfluid   28   \n",
       "1036          454    Abey Bampforth  Genderfluid   28   \n",
       "671            35  Adamo Saddington         Male   80   \n",
       "667            35  Adamo Saddington         Male   80   \n",
       "676            35  Adamo Saddington         Male   80   \n",
       "607            35  Adamo Saddington         Male   80   \n",
       "658            35  Adamo Saddington         Male   80   \n",
       "\n",
       "                           home_address  zip_code               city  \\\n",
       "1408            3543 Jack GroveApt. 595      3276  Port Isabellafurt   \n",
       "4145            3543 Jack GroveApt. 595      3276  Port Isabellafurt   \n",
       "692             3543 Jack GroveApt. 595      3276  Port Isabellafurt   \n",
       "2295            3543 Jack GroveApt. 595      3276  Port Isabellafurt   \n",
       "3898            3543 Jack GroveApt. 595      3276  Port Isabellafurt   \n",
       "3495            3543 Jack GroveApt. 595      3276  Port Isabellafurt   \n",
       "873             3543 Jack GroveApt. 595      3276  Port Isabellafurt   \n",
       "4470            3543 Jack GroveApt. 595      3276  Port Isabellafurt   \n",
       "2787            3543 Jack GroveApt. 595      3276  Port Isabellafurt   \n",
       "505             3543 Jack GroveApt. 595      3276  Port Isabellafurt   \n",
       "3064            3543 Jack GroveApt. 595      3276  Port Isabellafurt   \n",
       "1036            3543 Jack GroveApt. 595      3276  Port Isabellafurt   \n",
       "671   3168 Bartoletti CrescentSuite 878       593         Port Lucas   \n",
       "667   3168 Bartoletti CrescentSuite 878       593         Port Lucas   \n",
       "676   3168 Bartoletti CrescentSuite 878       593         Port Lucas   \n",
       "607   3168 Bartoletti CrescentSuite 878       593         Port Lucas   \n",
       "658   3168 Bartoletti CrescentSuite 878       593         Port Lucas   \n",
       "\n",
       "                state    country  order_id  ...  size  colour quantity_store  \\\n",
       "1408  New South Wales  Australia        50  ...    XL    blue             71   \n",
       "4145  New South Wales  Australia        50  ...     L  yellow             60   \n",
       "692   New South Wales  Australia       682  ...     L  violet             76   \n",
       "2295  New South Wales  Australia       682  ...     M  yellow             49   \n",
       "3898  New South Wales  Australia        50  ...     S     red             71   \n",
       "3495  New South Wales  Australia       682  ...    XS  violet             50   \n",
       "873   New South Wales  Australia        50  ...    XL  orange             79   \n",
       "4470  New South Wales  Australia       682  ...     M   green             54   \n",
       "2787  New South Wales  Australia       682  ...     S  indigo             44   \n",
       "505   New South Wales  Australia        50  ...     L   green             62   \n",
       "3064  New South Wales  Australia       682  ...     S  indigo             69   \n",
       "1036  New South Wales  Australia        50  ...     M     red             62   \n",
       "671        Queensland  Australia       948  ...     S   green             49   \n",
       "667        Queensland  Australia       948  ...     S    blue             48   \n",
       "676        Queensland  Australia       948  ...     S    blue             59   \n",
       "607        Queensland  Australia       948  ...     M  indigo             67   \n",
       "658        Queensland  Australia       844  ...     S  indigo             41   \n",
       "\n",
       "      year_order  month_order  day_order  year_delivery  month_delivery  \\\n",
       "1408        2021            9         16           2021               9   \n",
       "4145        2021            9         16           2021               9   \n",
       "692         2021            2         28           2021               3   \n",
       "2295        2021            2         28           2021               3   \n",
       "3898        2021            9         16           2021               9   \n",
       "3495        2021            2         28           2021               3   \n",
       "873         2021            9         16           2021               9   \n",
       "4470        2021            2         28           2021               3   \n",
       "2787        2021            2         28           2021               3   \n",
       "505         2021            9         16           2021               9   \n",
       "3064        2021            2         28           2021               3   \n",
       "1036        2021            9         16           2021               9   \n",
       "671         2021            8         24           2021               9   \n",
       "667         2021            8         24           2021               9   \n",
       "676         2021            8         24           2021               9   \n",
       "607         2021            8         24           2021               9   \n",
       "658         2021            9         26           2021              10   \n",
       "\n",
       "     day_delivery num_orders  \n",
       "1408           18          5  \n",
       "4145           18          7  \n",
       "692            18          6  \n",
       "2295           18          7  \n",
       "3898           18          4  \n",
       "3495           18          5  \n",
       "873            18          5  \n",
       "4470           18          4  \n",
       "2787           18          6  \n",
       "505            18          6  \n",
       "3064           18          5  \n",
       "1036           18          7  \n",
       "671             2          5  \n",
       "667             2          4  \n",
       "676             2          3  \n",
       "607             2          6  \n",
       "658            18          9  \n",
       "\n",
       "[17 rows x 30 columns]"
      ]
     },
     "execution_count": 50,
     "metadata": {},
     "output_type": "execute_result"
    }
   ],
   "source": [
    "df['num_orders'] = df['product_id'].apply(lambda x: count1[x])\n",
    "df.head(17)\n"
   ]
  },
  {
   "cell_type": "code",
   "execution_count": 51,
   "id": "9495e5f9",
   "metadata": {},
   "outputs": [
    {
     "data": {
      "text/html": [
       "<div>\n",
       "<style scoped>\n",
       "    .dataframe tbody tr th:only-of-type {\n",
       "        vertical-align: middle;\n",
       "    }\n",
       "\n",
       "    .dataframe tbody tr th {\n",
       "        vertical-align: top;\n",
       "    }\n",
       "\n",
       "    .dataframe thead th {\n",
       "        text-align: right;\n",
       "    }\n",
       "</style>\n",
       "<table border=\"1\" class=\"dataframe\">\n",
       "  <thead>\n",
       "    <tr style=\"text-align: right;\">\n",
       "      <th></th>\n",
       "      <th>customer_id</th>\n",
       "      <th>customer_name</th>\n",
       "      <th>gender</th>\n",
       "      <th>age</th>\n",
       "      <th>home_address</th>\n",
       "      <th>zip_code</th>\n",
       "      <th>city</th>\n",
       "      <th>state</th>\n",
       "      <th>country</th>\n",
       "      <th>order_id</th>\n",
       "      <th>...</th>\n",
       "      <th>size</th>\n",
       "      <th>colour</th>\n",
       "      <th>quantity_store</th>\n",
       "      <th>year_order</th>\n",
       "      <th>month_order</th>\n",
       "      <th>day_order</th>\n",
       "      <th>year_delivery</th>\n",
       "      <th>month_delivery</th>\n",
       "      <th>day_delivery</th>\n",
       "      <th>num_orders</th>\n",
       "    </tr>\n",
       "  </thead>\n",
       "  <tbody>\n",
       "    <tr>\n",
       "      <th>2295</th>\n",
       "      <td>454</td>\n",
       "      <td>Abey Bampforth</td>\n",
       "      <td>Genderfluid</td>\n",
       "      <td>28</td>\n",
       "      <td>3543 Jack GroveApt. 595</td>\n",
       "      <td>3276</td>\n",
       "      <td>Port Isabellafurt</td>\n",
       "      <td>New South Wales</td>\n",
       "      <td>Australia</td>\n",
       "      <td>682</td>\n",
       "      <td>...</td>\n",
       "      <td>M</td>\n",
       "      <td>yellow</td>\n",
       "      <td>49</td>\n",
       "      <td>2021</td>\n",
       "      <td>2</td>\n",
       "      <td>28</td>\n",
       "      <td>2021</td>\n",
       "      <td>3</td>\n",
       "      <td>18</td>\n",
       "      <td>7</td>\n",
       "    </tr>\n",
       "    <tr>\n",
       "      <th>2299</th>\n",
       "      <td>690</td>\n",
       "      <td>Arlie Bowman</td>\n",
       "      <td>Genderqueer</td>\n",
       "      <td>34</td>\n",
       "      <td>04 Christian RidgeApt. 329</td>\n",
       "      <td>6697</td>\n",
       "      <td>Port Annabelle</td>\n",
       "      <td>Northern Territory</td>\n",
       "      <td>Australia</td>\n",
       "      <td>615</td>\n",
       "      <td>...</td>\n",
       "      <td>M</td>\n",
       "      <td>yellow</td>\n",
       "      <td>49</td>\n",
       "      <td>2021</td>\n",
       "      <td>1</td>\n",
       "      <td>31</td>\n",
       "      <td>2021</td>\n",
       "      <td>2</td>\n",
       "      <td>10</td>\n",
       "      <td>7</td>\n",
       "    </tr>\n",
       "    <tr>\n",
       "      <th>2298</th>\n",
       "      <td>680</td>\n",
       "      <td>Camellia Heatherington</td>\n",
       "      <td>Bigender</td>\n",
       "      <td>78</td>\n",
       "      <td>5530 Ashton GroveSuite 128</td>\n",
       "      <td>7905</td>\n",
       "      <td>Taylorfurt</td>\n",
       "      <td>New South Wales</td>\n",
       "      <td>Australia</td>\n",
       "      <td>77</td>\n",
       "      <td>...</td>\n",
       "      <td>M</td>\n",
       "      <td>yellow</td>\n",
       "      <td>49</td>\n",
       "      <td>2021</td>\n",
       "      <td>4</td>\n",
       "      <td>19</td>\n",
       "      <td>2021</td>\n",
       "      <td>4</td>\n",
       "      <td>29</td>\n",
       "      <td>7</td>\n",
       "    </tr>\n",
       "    <tr>\n",
       "      <th>2294</th>\n",
       "      <td>120</td>\n",
       "      <td>Didi Garton</td>\n",
       "      <td>Polygender</td>\n",
       "      <td>60</td>\n",
       "      <td>13 Ivy BoulevardSuite 234</td>\n",
       "      <td>3554</td>\n",
       "      <td>Carterbury</td>\n",
       "      <td>Queensland</td>\n",
       "      <td>Australia</td>\n",
       "      <td>12</td>\n",
       "      <td>...</td>\n",
       "      <td>M</td>\n",
       "      <td>yellow</td>\n",
       "      <td>49</td>\n",
       "      <td>2021</td>\n",
       "      <td>6</td>\n",
       "      <td>30</td>\n",
       "      <td>2021</td>\n",
       "      <td>7</td>\n",
       "      <td>11</td>\n",
       "      <td>7</td>\n",
       "    </tr>\n",
       "    <tr>\n",
       "      <th>2296</th>\n",
       "      <td>456</td>\n",
       "      <td>Joelynn Remington</td>\n",
       "      <td>Agender</td>\n",
       "      <td>33</td>\n",
       "      <td>94 Archie CourtSuite 659</td>\n",
       "      <td>2010</td>\n",
       "      <td>West Lachlan</td>\n",
       "      <td>Queensland</td>\n",
       "      <td>Australia</td>\n",
       "      <td>666</td>\n",
       "      <td>...</td>\n",
       "      <td>M</td>\n",
       "      <td>yellow</td>\n",
       "      <td>49</td>\n",
       "      <td>2021</td>\n",
       "      <td>8</td>\n",
       "      <td>25</td>\n",
       "      <td>2021</td>\n",
       "      <td>9</td>\n",
       "      <td>11</td>\n",
       "      <td>7</td>\n",
       "    </tr>\n",
       "    <tr>\n",
       "      <th>2297</th>\n",
       "      <td>465</td>\n",
       "      <td>Mallory Castellani</td>\n",
       "      <td>Female</td>\n",
       "      <td>38</td>\n",
       "      <td>115 Wilkinson CrestSuite 858</td>\n",
       "      <td>4700</td>\n",
       "      <td>Williammouth</td>\n",
       "      <td>Victoria</td>\n",
       "      <td>Australia</td>\n",
       "      <td>720</td>\n",
       "      <td>...</td>\n",
       "      <td>M</td>\n",
       "      <td>yellow</td>\n",
       "      <td>49</td>\n",
       "      <td>2021</td>\n",
       "      <td>3</td>\n",
       "      <td>12</td>\n",
       "      <td>2021</td>\n",
       "      <td>3</td>\n",
       "      <td>23</td>\n",
       "      <td>7</td>\n",
       "    </tr>\n",
       "    <tr>\n",
       "      <th>2300</th>\n",
       "      <td>692</td>\n",
       "      <td>Perceval Umbers</td>\n",
       "      <td>Bigender</td>\n",
       "      <td>20</td>\n",
       "      <td>5200 Tromp Estate DrSuite 885</td>\n",
       "      <td>4058</td>\n",
       "      <td>Laraview</td>\n",
       "      <td>Tasmania</td>\n",
       "      <td>Australia</td>\n",
       "      <td>606</td>\n",
       "      <td>...</td>\n",
       "      <td>M</td>\n",
       "      <td>yellow</td>\n",
       "      <td>49</td>\n",
       "      <td>2021</td>\n",
       "      <td>1</td>\n",
       "      <td>31</td>\n",
       "      <td>2021</td>\n",
       "      <td>2</td>\n",
       "      <td>8</td>\n",
       "      <td>7</td>\n",
       "    </tr>\n",
       "  </tbody>\n",
       "</table>\n",
       "<p>7 rows × 30 columns</p>\n",
       "</div>"
      ],
      "text/plain": [
       "      customer_id           customer_name       gender  age  \\\n",
       "2295          454          Abey Bampforth  Genderfluid   28   \n",
       "2299          690            Arlie Bowman  Genderqueer   34   \n",
       "2298          680  Camellia Heatherington     Bigender   78   \n",
       "2294          120             Didi Garton   Polygender   60   \n",
       "2296          456       Joelynn Remington      Agender   33   \n",
       "2297          465      Mallory Castellani       Female   38   \n",
       "2300          692         Perceval Umbers     Bigender   20   \n",
       "\n",
       "                       home_address  zip_code               city  \\\n",
       "2295        3543 Jack GroveApt. 595      3276  Port Isabellafurt   \n",
       "2299     04 Christian RidgeApt. 329      6697     Port Annabelle   \n",
       "2298     5530 Ashton GroveSuite 128      7905         Taylorfurt   \n",
       "2294      13 Ivy BoulevardSuite 234      3554         Carterbury   \n",
       "2296       94 Archie CourtSuite 659      2010       West Lachlan   \n",
       "2297   115 Wilkinson CrestSuite 858      4700       Williammouth   \n",
       "2300  5200 Tromp Estate DrSuite 885      4058           Laraview   \n",
       "\n",
       "                   state    country  order_id  ...  size  colour  \\\n",
       "2295     New South Wales  Australia       682  ...     M  yellow   \n",
       "2299  Northern Territory  Australia       615  ...     M  yellow   \n",
       "2298     New South Wales  Australia        77  ...     M  yellow   \n",
       "2294          Queensland  Australia        12  ...     M  yellow   \n",
       "2296          Queensland  Australia       666  ...     M  yellow   \n",
       "2297            Victoria  Australia       720  ...     M  yellow   \n",
       "2300            Tasmania  Australia       606  ...     M  yellow   \n",
       "\n",
       "     quantity_store  year_order  month_order  day_order  year_delivery  \\\n",
       "2295             49        2021            2         28           2021   \n",
       "2299             49        2021            1         31           2021   \n",
       "2298             49        2021            4         19           2021   \n",
       "2294             49        2021            6         30           2021   \n",
       "2296             49        2021            8         25           2021   \n",
       "2297             49        2021            3         12           2021   \n",
       "2300             49        2021            1         31           2021   \n",
       "\n",
       "      month_delivery day_delivery num_orders  \n",
       "2295               3           18          7  \n",
       "2299               2           10          7  \n",
       "2298               4           29          7  \n",
       "2294               7           11          7  \n",
       "2296               9           11          7  \n",
       "2297               3           23          7  \n",
       "2300               2            8          7  \n",
       "\n",
       "[7 rows x 30 columns]"
      ]
     },
     "execution_count": 51,
     "metadata": {},
     "output_type": "execute_result"
    }
   ],
   "source": [
    "row3 = df.loc[(df['product_id'] == 782) ]\n",
    "row3"
   ]
  },
  {
   "cell_type": "code",
   "execution_count": 52,
   "id": "bbebda6d",
   "metadata": {},
   "outputs": [
    {
     "data": {
      "text/html": [
       "<div>\n",
       "<style scoped>\n",
       "    .dataframe tbody tr th:only-of-type {\n",
       "        vertical-align: middle;\n",
       "    }\n",
       "\n",
       "    .dataframe tbody tr th {\n",
       "        vertical-align: top;\n",
       "    }\n",
       "\n",
       "    .dataframe thead th {\n",
       "        text-align: right;\n",
       "    }\n",
       "</style>\n",
       "<table border=\"1\" class=\"dataframe\">\n",
       "  <thead>\n",
       "    <tr style=\"text-align: right;\">\n",
       "      <th></th>\n",
       "      <th>customer_id</th>\n",
       "      <th>customer_name</th>\n",
       "      <th>gender</th>\n",
       "      <th>age</th>\n",
       "      <th>home_address</th>\n",
       "      <th>zip_code</th>\n",
       "      <th>city</th>\n",
       "      <th>state</th>\n",
       "      <th>country</th>\n",
       "      <th>order_id</th>\n",
       "      <th>...</th>\n",
       "      <th>size</th>\n",
       "      <th>colour</th>\n",
       "      <th>quantity_store</th>\n",
       "      <th>year_order</th>\n",
       "      <th>month_order</th>\n",
       "      <th>day_order</th>\n",
       "      <th>year_delivery</th>\n",
       "      <th>month_delivery</th>\n",
       "      <th>day_delivery</th>\n",
       "      <th>num_orders</th>\n",
       "    </tr>\n",
       "  </thead>\n",
       "  <tbody>\n",
       "    <tr>\n",
       "      <th>1408</th>\n",
       "      <td>454</td>\n",
       "      <td>Abey Bampforth</td>\n",
       "      <td>Genderfluid</td>\n",
       "      <td>28</td>\n",
       "      <td>3543 Jack GroveApt. 595</td>\n",
       "      <td>3276</td>\n",
       "      <td>Port Isabellafurt</td>\n",
       "      <td>New South Wales</td>\n",
       "      <td>Australia</td>\n",
       "      <td>50</td>\n",
       "      <td>...</td>\n",
       "      <td>XL</td>\n",
       "      <td>blue</td>\n",
       "      <td>71</td>\n",
       "      <td>2021</td>\n",
       "      <td>9</td>\n",
       "      <td>16</td>\n",
       "      <td>2021</td>\n",
       "      <td>9</td>\n",
       "      <td>18</td>\n",
       "      <td>5</td>\n",
       "    </tr>\n",
       "    <tr>\n",
       "      <th>4145</th>\n",
       "      <td>454</td>\n",
       "      <td>Abey Bampforth</td>\n",
       "      <td>Genderfluid</td>\n",
       "      <td>28</td>\n",
       "      <td>3543 Jack GroveApt. 595</td>\n",
       "      <td>3276</td>\n",
       "      <td>Port Isabellafurt</td>\n",
       "      <td>New South Wales</td>\n",
       "      <td>Australia</td>\n",
       "      <td>50</td>\n",
       "      <td>...</td>\n",
       "      <td>L</td>\n",
       "      <td>yellow</td>\n",
       "      <td>60</td>\n",
       "      <td>2021</td>\n",
       "      <td>9</td>\n",
       "      <td>16</td>\n",
       "      <td>2021</td>\n",
       "      <td>9</td>\n",
       "      <td>18</td>\n",
       "      <td>7</td>\n",
       "    </tr>\n",
       "    <tr>\n",
       "      <th>692</th>\n",
       "      <td>454</td>\n",
       "      <td>Abey Bampforth</td>\n",
       "      <td>Genderfluid</td>\n",
       "      <td>28</td>\n",
       "      <td>3543 Jack GroveApt. 595</td>\n",
       "      <td>3276</td>\n",
       "      <td>Port Isabellafurt</td>\n",
       "      <td>New South Wales</td>\n",
       "      <td>Australia</td>\n",
       "      <td>682</td>\n",
       "      <td>...</td>\n",
       "      <td>L</td>\n",
       "      <td>violet</td>\n",
       "      <td>76</td>\n",
       "      <td>2021</td>\n",
       "      <td>2</td>\n",
       "      <td>28</td>\n",
       "      <td>2021</td>\n",
       "      <td>3</td>\n",
       "      <td>18</td>\n",
       "      <td>6</td>\n",
       "    </tr>\n",
       "    <tr>\n",
       "      <th>2295</th>\n",
       "      <td>454</td>\n",
       "      <td>Abey Bampforth</td>\n",
       "      <td>Genderfluid</td>\n",
       "      <td>28</td>\n",
       "      <td>3543 Jack GroveApt. 595</td>\n",
       "      <td>3276</td>\n",
       "      <td>Port Isabellafurt</td>\n",
       "      <td>New South Wales</td>\n",
       "      <td>Australia</td>\n",
       "      <td>682</td>\n",
       "      <td>...</td>\n",
       "      <td>M</td>\n",
       "      <td>yellow</td>\n",
       "      <td>49</td>\n",
       "      <td>2021</td>\n",
       "      <td>2</td>\n",
       "      <td>28</td>\n",
       "      <td>2021</td>\n",
       "      <td>3</td>\n",
       "      <td>18</td>\n",
       "      <td>7</td>\n",
       "    </tr>\n",
       "    <tr>\n",
       "      <th>3898</th>\n",
       "      <td>454</td>\n",
       "      <td>Abey Bampforth</td>\n",
       "      <td>Genderfluid</td>\n",
       "      <td>28</td>\n",
       "      <td>3543 Jack GroveApt. 595</td>\n",
       "      <td>3276</td>\n",
       "      <td>Port Isabellafurt</td>\n",
       "      <td>New South Wales</td>\n",
       "      <td>Australia</td>\n",
       "      <td>50</td>\n",
       "      <td>...</td>\n",
       "      <td>S</td>\n",
       "      <td>red</td>\n",
       "      <td>71</td>\n",
       "      <td>2021</td>\n",
       "      <td>9</td>\n",
       "      <td>16</td>\n",
       "      <td>2021</td>\n",
       "      <td>9</td>\n",
       "      <td>18</td>\n",
       "      <td>4</td>\n",
       "    </tr>\n",
       "  </tbody>\n",
       "</table>\n",
       "<p>5 rows × 30 columns</p>\n",
       "</div>"
      ],
      "text/plain": [
       "      customer_id   customer_name       gender  age             home_address  \\\n",
       "1408          454  Abey Bampforth  Genderfluid   28  3543 Jack GroveApt. 595   \n",
       "4145          454  Abey Bampforth  Genderfluid   28  3543 Jack GroveApt. 595   \n",
       "692           454  Abey Bampforth  Genderfluid   28  3543 Jack GroveApt. 595   \n",
       "2295          454  Abey Bampforth  Genderfluid   28  3543 Jack GroveApt. 595   \n",
       "3898          454  Abey Bampforth  Genderfluid   28  3543 Jack GroveApt. 595   \n",
       "\n",
       "      zip_code               city            state    country  order_id  ...  \\\n",
       "1408      3276  Port Isabellafurt  New South Wales  Australia        50  ...   \n",
       "4145      3276  Port Isabellafurt  New South Wales  Australia        50  ...   \n",
       "692       3276  Port Isabellafurt  New South Wales  Australia       682  ...   \n",
       "2295      3276  Port Isabellafurt  New South Wales  Australia       682  ...   \n",
       "3898      3276  Port Isabellafurt  New South Wales  Australia        50  ...   \n",
       "\n",
       "      size  colour quantity_store  year_order  month_order  day_order  \\\n",
       "1408    XL    blue             71        2021            9         16   \n",
       "4145     L  yellow             60        2021            9         16   \n",
       "692      L  violet             76        2021            2         28   \n",
       "2295     M  yellow             49        2021            2         28   \n",
       "3898     S     red             71        2021            9         16   \n",
       "\n",
       "      year_delivery  month_delivery day_delivery num_orders  \n",
       "1408           2021               9           18          5  \n",
       "4145           2021               9           18          7  \n",
       "692            2021               3           18          6  \n",
       "2295           2021               3           18          7  \n",
       "3898           2021               9           18          4  \n",
       "\n",
       "[5 rows x 30 columns]"
      ]
     },
     "execution_count": 52,
     "metadata": {},
     "output_type": "execute_result"
    }
   ],
   "source": [
    "df.head()"
   ]
  },
  {
   "cell_type": "code",
   "execution_count": 53,
   "id": "b649a06c",
   "metadata": {},
   "outputs": [
    {
     "name": "stdout",
     "output_type": "stream",
     "text": [
      "78      13\n",
      "740     12\n",
      "579     11\n",
      "843     11\n",
      "1038    10\n",
      "        ..\n",
      "300      1\n",
      "597      1\n",
      "825      1\n",
      "1099     1\n",
      "659      1\n",
      "Name: product_id, Length: 1233, dtype: int64\n"
     ]
    }
   ],
   "source": [
    "counts = df['product_id'].value_counts()\n",
    "print(counts)\n"
   ]
  },
  {
   "cell_type": "code",
   "execution_count": 54,
   "id": "4f1afe09",
   "metadata": {},
   "outputs": [
    {
     "data": {
      "text/html": [
       "<div>\n",
       "<style scoped>\n",
       "    .dataframe tbody tr th:only-of-type {\n",
       "        vertical-align: middle;\n",
       "    }\n",
       "\n",
       "    .dataframe tbody tr th {\n",
       "        vertical-align: top;\n",
       "    }\n",
       "\n",
       "    .dataframe thead th {\n",
       "        text-align: right;\n",
       "    }\n",
       "</style>\n",
       "<table border=\"1\" class=\"dataframe\">\n",
       "  <thead>\n",
       "    <tr style=\"text-align: right;\">\n",
       "      <th></th>\n",
       "      <th></th>\n",
       "      <th></th>\n",
       "      <th></th>\n",
       "      <th></th>\n",
       "      <th></th>\n",
       "      <th></th>\n",
       "      <th></th>\n",
       "      <th>sum_sold</th>\n",
       "    </tr>\n",
       "    <tr>\n",
       "      <th>product_type</th>\n",
       "      <th>product_name</th>\n",
       "      <th>colour</th>\n",
       "      <th>size</th>\n",
       "      <th>product_id</th>\n",
       "      <th>num_orders</th>\n",
       "      <th>price_per_unit</th>\n",
       "      <th>quantity_store</th>\n",
       "      <th></th>\n",
       "    </tr>\n",
       "  </thead>\n",
       "  <tbody>\n",
       "    <tr>\n",
       "      <th>Jacket</th>\n",
       "      <th>Bomber</th>\n",
       "      <th>green</th>\n",
       "      <th>XL</th>\n",
       "      <th>579</th>\n",
       "      <th>11</th>\n",
       "      <th>100</th>\n",
       "      <th>79</th>\n",
       "      <td>24</td>\n",
       "    </tr>\n",
       "    <tr>\n",
       "      <th>Shirt</th>\n",
       "      <th>Flannel</th>\n",
       "      <th>orange</th>\n",
       "      <th>L</th>\n",
       "      <th>78</th>\n",
       "      <th>13</th>\n",
       "      <th>118</th>\n",
       "      <th>59</th>\n",
       "      <td>24</td>\n",
       "    </tr>\n",
       "    <tr>\n",
       "      <th>Jacket</th>\n",
       "      <th>Puffer</th>\n",
       "      <th>green</th>\n",
       "      <th>M</th>\n",
       "      <th>472</th>\n",
       "      <th>9</th>\n",
       "      <th>118</th>\n",
       "      <th>72</th>\n",
       "      <td>23</td>\n",
       "    </tr>\n",
       "    <tr>\n",
       "      <th>Shirt</th>\n",
       "      <th>Camp Collared</th>\n",
       "      <th>orange</th>\n",
       "      <th>M</th>\n",
       "      <th>182</th>\n",
       "      <th>9</th>\n",
       "      <th>98</th>\n",
       "      <th>65</th>\n",
       "      <td>23</td>\n",
       "    </tr>\n",
       "    <tr>\n",
       "      <th rowspan=\"3\" valign=\"top\">Trousers</th>\n",
       "      <th>Chinos</th>\n",
       "      <th>red</th>\n",
       "      <th>L</th>\n",
       "      <th>843</th>\n",
       "      <th>11</th>\n",
       "      <th>113</th>\n",
       "      <th>44</th>\n",
       "      <td>21</td>\n",
       "    </tr>\n",
       "    <tr>\n",
       "      <th>...</th>\n",
       "      <th>...</th>\n",
       "      <th>...</th>\n",
       "      <th>...</th>\n",
       "      <th>...</th>\n",
       "      <th>...</th>\n",
       "      <th>...</th>\n",
       "      <td>...</td>\n",
       "    </tr>\n",
       "    <tr>\n",
       "      <th>Pleated</th>\n",
       "      <th>yellow</th>\n",
       "      <th>XS</th>\n",
       "      <th>1200</th>\n",
       "      <th>1</th>\n",
       "      <th>105</th>\n",
       "      <th>75</th>\n",
       "      <td>1</td>\n",
       "    </tr>\n",
       "    <tr>\n",
       "      <th rowspan=\"2\" valign=\"top\">Jacket</th>\n",
       "      <th rowspan=\"2\" valign=\"top\">Denim</th>\n",
       "      <th rowspan=\"2\" valign=\"top\">red</th>\n",
       "      <th>L</th>\n",
       "      <th>423</th>\n",
       "      <th>1</th>\n",
       "      <th>107</th>\n",
       "      <th>63</th>\n",
       "      <td>1</td>\n",
       "    </tr>\n",
       "    <tr>\n",
       "      <th>XL</th>\n",
       "      <th>424</th>\n",
       "      <th>1</th>\n",
       "      <th>107</th>\n",
       "      <th>58</th>\n",
       "      <td>1</td>\n",
       "    </tr>\n",
       "    <tr>\n",
       "      <th>Shirt</th>\n",
       "      <th>Casual Slim Fit</th>\n",
       "      <th>green</th>\n",
       "      <th>XL</th>\n",
       "      <th>404</th>\n",
       "      <th>1</th>\n",
       "      <th>119</th>\n",
       "      <th>41</th>\n",
       "      <td>1</td>\n",
       "    </tr>\n",
       "    <tr>\n",
       "      <th>Jacket</th>\n",
       "      <th>Pullover</th>\n",
       "      <th>red</th>\n",
       "      <th>XL</th>\n",
       "      <th>774</th>\n",
       "      <th>1</th>\n",
       "      <th>91</th>\n",
       "      <th>65</th>\n",
       "      <td>1</td>\n",
       "    </tr>\n",
       "  </tbody>\n",
       "</table>\n",
       "<p>1233 rows × 1 columns</p>\n",
       "</div>"
      ],
      "text/plain": [
       "                                                                                              sum_sold\n",
       "product_type product_name    colour size product_id num_orders price_per_unit quantity_store          \n",
       "Jacket       Bomber          green  XL   579        11         100            79                    24\n",
       "Shirt        Flannel         orange L    78         13         118            59                    24\n",
       "Jacket       Puffer          green  M    472        9          118            72                    23\n",
       "Shirt        Camp Collared   orange M    182        9          98             65                    23\n",
       "Trousers     Chinos          red    L    843        11         113            44                    21\n",
       "...                                                                                                ...\n",
       "             Pleated         yellow XS   1200       1          105            75                     1\n",
       "Jacket       Denim           red    L    423        1          107            63                     1\n",
       "                                    XL   424        1          107            58                     1\n",
       "Shirt        Casual Slim Fit green  XL   404        1          119            41                     1\n",
       "Jacket       Pullover        red    XL   774        1          91             65                     1\n",
       "\n",
       "[1233 rows x 1 columns]"
      ]
     },
     "execution_count": 54,
     "metadata": {},
     "output_type": "execute_result"
    }
   ],
   "source": [
    "x = df.groupby(['product_type','product_name','colour','size','product_id','num_orders','price_per_unit','quantity_store'])['sum_sold'].sum().sort_values(ascending=False).to_frame() \n",
    "x"
   ]
  },
  {
   "cell_type": "code",
   "execution_count": 55,
   "id": "053a8d3a",
   "metadata": {},
   "outputs": [
    {
     "data": {
      "text/html": [
       "<div>\n",
       "<style scoped>\n",
       "    .dataframe tbody tr th:only-of-type {\n",
       "        vertical-align: middle;\n",
       "    }\n",
       "\n",
       "    .dataframe tbody tr th {\n",
       "        vertical-align: top;\n",
       "    }\n",
       "\n",
       "    .dataframe thead th {\n",
       "        text-align: right;\n",
       "    }\n",
       "</style>\n",
       "<table border=\"1\" class=\"dataframe\">\n",
       "  <thead>\n",
       "    <tr style=\"text-align: right;\">\n",
       "      <th></th>\n",
       "      <th></th>\n",
       "      <th></th>\n",
       "      <th></th>\n",
       "      <th></th>\n",
       "      <th></th>\n",
       "      <th></th>\n",
       "      <th></th>\n",
       "      <th>total_price</th>\n",
       "    </tr>\n",
       "    <tr>\n",
       "      <th>product_type</th>\n",
       "      <th>product_name</th>\n",
       "      <th>colour</th>\n",
       "      <th>size</th>\n",
       "      <th>product_id</th>\n",
       "      <th>price_per_unit</th>\n",
       "      <th>num_orders</th>\n",
       "      <th>quantity_store</th>\n",
       "      <th></th>\n",
       "    </tr>\n",
       "  </thead>\n",
       "  <tbody>\n",
       "    <tr>\n",
       "      <th>Shirt</th>\n",
       "      <th>Flannel</th>\n",
       "      <th>orange</th>\n",
       "      <th>L</th>\n",
       "      <th>78</th>\n",
       "      <th>118</th>\n",
       "      <th>13</th>\n",
       "      <th>59</th>\n",
       "      <td>2832</td>\n",
       "    </tr>\n",
       "    <tr>\n",
       "      <th rowspan=\"3\" valign=\"top\">Jacket</th>\n",
       "      <th>Puffer</th>\n",
       "      <th>green</th>\n",
       "      <th>M</th>\n",
       "      <th>472</th>\n",
       "      <th>118</th>\n",
       "      <th>9</th>\n",
       "      <th>72</th>\n",
       "      <td>2714</td>\n",
       "    </tr>\n",
       "    <tr>\n",
       "      <th>Trench Coat</th>\n",
       "      <th>orange</th>\n",
       "      <th>M</th>\n",
       "      <th>707</th>\n",
       "      <th>119</th>\n",
       "      <th>8</th>\n",
       "      <th>43</th>\n",
       "      <td>2499</td>\n",
       "    </tr>\n",
       "    <tr>\n",
       "      <th>Bomber</th>\n",
       "      <th>green</th>\n",
       "      <th>XL</th>\n",
       "      <th>579</th>\n",
       "      <th>100</th>\n",
       "      <th>11</th>\n",
       "      <th>79</th>\n",
       "      <td>2400</td>\n",
       "    </tr>\n",
       "    <tr>\n",
       "      <th>Trousers</th>\n",
       "      <th>Chinos</th>\n",
       "      <th>red</th>\n",
       "      <th>L</th>\n",
       "      <th>843</th>\n",
       "      <th>113</th>\n",
       "      <th>11</th>\n",
       "      <th>44</th>\n",
       "      <td>2373</td>\n",
       "    </tr>\n",
       "    <tr>\n",
       "      <th>...</th>\n",
       "      <th>...</th>\n",
       "      <th>...</th>\n",
       "      <th>...</th>\n",
       "      <th>...</th>\n",
       "      <th>...</th>\n",
       "      <th>...</th>\n",
       "      <th>...</th>\n",
       "      <td>...</td>\n",
       "    </tr>\n",
       "    <tr>\n",
       "      <th>Shirt</th>\n",
       "      <th>Polo</th>\n",
       "      <th>indigo</th>\n",
       "      <th>L</th>\n",
       "      <th>273</th>\n",
       "      <th>95</th>\n",
       "      <th>1</th>\n",
       "      <th>60</th>\n",
       "      <td>95</td>\n",
       "    </tr>\n",
       "    <tr>\n",
       "      <th>Trousers</th>\n",
       "      <th>Cords</th>\n",
       "      <th>green</th>\n",
       "      <th>XL</th>\n",
       "      <th>894</th>\n",
       "      <th>94</th>\n",
       "      <th>1</th>\n",
       "      <th>49</th>\n",
       "      <td>94</td>\n",
       "    </tr>\n",
       "    <tr>\n",
       "      <th>Jacket</th>\n",
       "      <th>Pullover</th>\n",
       "      <th>orange</th>\n",
       "      <th>S</th>\n",
       "      <th>776</th>\n",
       "      <th>91</th>\n",
       "      <th>1</th>\n",
       "      <th>77</th>\n",
       "      <td>91</td>\n",
       "    </tr>\n",
       "    <tr>\n",
       "      <th>Shirt</th>\n",
       "      <th>Linen</th>\n",
       "      <th>indigo</th>\n",
       "      <th>S</th>\n",
       "      <th>166</th>\n",
       "      <th>91</th>\n",
       "      <th>1</th>\n",
       "      <th>72</th>\n",
       "      <td>91</td>\n",
       "    </tr>\n",
       "    <tr>\n",
       "      <th>Jacket</th>\n",
       "      <th>Pullover</th>\n",
       "      <th>red</th>\n",
       "      <th>XL</th>\n",
       "      <th>774</th>\n",
       "      <th>91</th>\n",
       "      <th>1</th>\n",
       "      <th>65</th>\n",
       "      <td>91</td>\n",
       "    </tr>\n",
       "  </tbody>\n",
       "</table>\n",
       "<p>1233 rows × 1 columns</p>\n",
       "</div>"
      ],
      "text/plain": [
       "                                                                                           total_price\n",
       "product_type product_name colour size product_id price_per_unit num_orders quantity_store             \n",
       "Shirt        Flannel      orange L    78         118            13         59                     2832\n",
       "Jacket       Puffer       green  M    472        118            9          72                     2714\n",
       "             Trench Coat  orange M    707        119            8          43                     2499\n",
       "             Bomber       green  XL   579        100            11         79                     2400\n",
       "Trousers     Chinos       red    L    843        113            11         44                     2373\n",
       "...                                                                                                ...\n",
       "Shirt        Polo         indigo L    273        95             1          60                       95\n",
       "Trousers     Cords        green  XL   894        94             1          49                       94\n",
       "Jacket       Pullover     orange S    776        91             1          77                       91\n",
       "Shirt        Linen        indigo S    166        91             1          72                       91\n",
       "Jacket       Pullover     red    XL   774        91             1          65                       91\n",
       "\n",
       "[1233 rows x 1 columns]"
      ]
     },
     "execution_count": 55,
     "metadata": {},
     "output_type": "execute_result"
    }
   ],
   "source": [
    "y = df.groupby(['product_type','product_name','colour','size','product_id','price_per_unit','num_orders','quantity_store'])['total_price'].sum().sort_values(ascending=False).to_frame()\n",
    "y"
   ]
  },
  {
   "cell_type": "code",
   "execution_count": 56,
   "id": "7b128973",
   "metadata": {},
   "outputs": [
    {
     "data": {
      "text/html": [
       "<div>\n",
       "<style scoped>\n",
       "    .dataframe tbody tr th:only-of-type {\n",
       "        vertical-align: middle;\n",
       "    }\n",
       "\n",
       "    .dataframe tbody tr th {\n",
       "        vertical-align: top;\n",
       "    }\n",
       "\n",
       "    .dataframe thead th {\n",
       "        text-align: right;\n",
       "    }\n",
       "</style>\n",
       "<table border=\"1\" class=\"dataframe\">\n",
       "  <thead>\n",
       "    <tr style=\"text-align: right;\">\n",
       "      <th></th>\n",
       "      <th></th>\n",
       "      <th></th>\n",
       "      <th></th>\n",
       "      <th></th>\n",
       "      <th></th>\n",
       "      <th></th>\n",
       "      <th></th>\n",
       "      <th>sum_sold</th>\n",
       "      <th>total_price</th>\n",
       "    </tr>\n",
       "    <tr>\n",
       "      <th>product_type</th>\n",
       "      <th>product_name</th>\n",
       "      <th>colour</th>\n",
       "      <th>size</th>\n",
       "      <th>product_id</th>\n",
       "      <th>num_orders</th>\n",
       "      <th>price_per_unit</th>\n",
       "      <th>quantity_store</th>\n",
       "      <th></th>\n",
       "      <th></th>\n",
       "    </tr>\n",
       "  </thead>\n",
       "  <tbody>\n",
       "    <tr>\n",
       "      <th>Jacket</th>\n",
       "      <th>Bomber</th>\n",
       "      <th>green</th>\n",
       "      <th>XL</th>\n",
       "      <th>579</th>\n",
       "      <th>11</th>\n",
       "      <th>100</th>\n",
       "      <th>79</th>\n",
       "      <td>24</td>\n",
       "      <td>2400</td>\n",
       "    </tr>\n",
       "    <tr>\n",
       "      <th>Shirt</th>\n",
       "      <th>Flannel</th>\n",
       "      <th>orange</th>\n",
       "      <th>L</th>\n",
       "      <th>78</th>\n",
       "      <th>13</th>\n",
       "      <th>118</th>\n",
       "      <th>59</th>\n",
       "      <td>24</td>\n",
       "      <td>2832</td>\n",
       "    </tr>\n",
       "    <tr>\n",
       "      <th>Jacket</th>\n",
       "      <th>Puffer</th>\n",
       "      <th>green</th>\n",
       "      <th>M</th>\n",
       "      <th>472</th>\n",
       "      <th>9</th>\n",
       "      <th>118</th>\n",
       "      <th>72</th>\n",
       "      <td>23</td>\n",
       "      <td>2714</td>\n",
       "    </tr>\n",
       "    <tr>\n",
       "      <th>Shirt</th>\n",
       "      <th>Camp Collared</th>\n",
       "      <th>orange</th>\n",
       "      <th>M</th>\n",
       "      <th>182</th>\n",
       "      <th>9</th>\n",
       "      <th>98</th>\n",
       "      <th>65</th>\n",
       "      <td>23</td>\n",
       "      <td>2254</td>\n",
       "    </tr>\n",
       "    <tr>\n",
       "      <th rowspan=\"3\" valign=\"top\">Trousers</th>\n",
       "      <th>Chinos</th>\n",
       "      <th>red</th>\n",
       "      <th>L</th>\n",
       "      <th>843</th>\n",
       "      <th>11</th>\n",
       "      <th>113</th>\n",
       "      <th>44</th>\n",
       "      <td>21</td>\n",
       "      <td>2373</td>\n",
       "    </tr>\n",
       "    <tr>\n",
       "      <th>...</th>\n",
       "      <th>...</th>\n",
       "      <th>...</th>\n",
       "      <th>...</th>\n",
       "      <th>...</th>\n",
       "      <th>...</th>\n",
       "      <th>...</th>\n",
       "      <td>...</td>\n",
       "      <td>...</td>\n",
       "    </tr>\n",
       "    <tr>\n",
       "      <th>Pleated</th>\n",
       "      <th>yellow</th>\n",
       "      <th>XS</th>\n",
       "      <th>1200</th>\n",
       "      <th>1</th>\n",
       "      <th>105</th>\n",
       "      <th>75</th>\n",
       "      <td>1</td>\n",
       "      <td>105</td>\n",
       "    </tr>\n",
       "    <tr>\n",
       "      <th rowspan=\"2\" valign=\"top\">Jacket</th>\n",
       "      <th rowspan=\"2\" valign=\"top\">Denim</th>\n",
       "      <th rowspan=\"2\" valign=\"top\">red</th>\n",
       "      <th>L</th>\n",
       "      <th>423</th>\n",
       "      <th>1</th>\n",
       "      <th>107</th>\n",
       "      <th>63</th>\n",
       "      <td>1</td>\n",
       "      <td>107</td>\n",
       "    </tr>\n",
       "    <tr>\n",
       "      <th>XL</th>\n",
       "      <th>424</th>\n",
       "      <th>1</th>\n",
       "      <th>107</th>\n",
       "      <th>58</th>\n",
       "      <td>1</td>\n",
       "      <td>107</td>\n",
       "    </tr>\n",
       "    <tr>\n",
       "      <th>Shirt</th>\n",
       "      <th>Casual Slim Fit</th>\n",
       "      <th>green</th>\n",
       "      <th>XL</th>\n",
       "      <th>404</th>\n",
       "      <th>1</th>\n",
       "      <th>119</th>\n",
       "      <th>41</th>\n",
       "      <td>1</td>\n",
       "      <td>119</td>\n",
       "    </tr>\n",
       "    <tr>\n",
       "      <th>Jacket</th>\n",
       "      <th>Pullover</th>\n",
       "      <th>red</th>\n",
       "      <th>XL</th>\n",
       "      <th>774</th>\n",
       "      <th>1</th>\n",
       "      <th>91</th>\n",
       "      <th>65</th>\n",
       "      <td>1</td>\n",
       "      <td>91</td>\n",
       "    </tr>\n",
       "  </tbody>\n",
       "</table>\n",
       "<p>1233 rows × 2 columns</p>\n",
       "</div>"
      ],
      "text/plain": [
       "                                                                                              sum_sold  \\\n",
       "product_type product_name    colour size product_id num_orders price_per_unit quantity_store             \n",
       "Jacket       Bomber          green  XL   579        11         100            79                    24   \n",
       "Shirt        Flannel         orange L    78         13         118            59                    24   \n",
       "Jacket       Puffer          green  M    472        9          118            72                    23   \n",
       "Shirt        Camp Collared   orange M    182        9          98             65                    23   \n",
       "Trousers     Chinos          red    L    843        11         113            44                    21   \n",
       "...                                                                                                ...   \n",
       "             Pleated         yellow XS   1200       1          105            75                     1   \n",
       "Jacket       Denim           red    L    423        1          107            63                     1   \n",
       "                                    XL   424        1          107            58                     1   \n",
       "Shirt        Casual Slim Fit green  XL   404        1          119            41                     1   \n",
       "Jacket       Pullover        red    XL   774        1          91             65                     1   \n",
       "\n",
       "                                                                                              total_price  \n",
       "product_type product_name    colour size product_id num_orders price_per_unit quantity_store               \n",
       "Jacket       Bomber          green  XL   579        11         100            79                     2400  \n",
       "Shirt        Flannel         orange L    78         13         118            59                     2832  \n",
       "Jacket       Puffer          green  M    472        9          118            72                     2714  \n",
       "Shirt        Camp Collared   orange M    182        9          98             65                     2254  \n",
       "Trousers     Chinos          red    L    843        11         113            44                     2373  \n",
       "...                                                                                                   ...  \n",
       "             Pleated         yellow XS   1200       1          105            75                      105  \n",
       "Jacket       Denim           red    L    423        1          107            63                      107  \n",
       "                                    XL   424        1          107            58                      107  \n",
       "Shirt        Casual Slim Fit green  XL   404        1          119            41                      119  \n",
       "Jacket       Pullover        red    XL   774        1          91             65                       91  \n",
       "\n",
       "[1233 rows x 2 columns]"
      ]
     },
     "execution_count": 56,
     "metadata": {},
     "output_type": "execute_result"
    }
   ],
   "source": [
    "z = pd.merge(x, y, on=['product_type','product_name','colour','size','product_id','num_orders','price_per_unit','quantity_store'])\n",
    "z"
   ]
  },
  {
   "cell_type": "code",
   "execution_count": 57,
   "id": "a8030c1a",
   "metadata": {},
   "outputs": [
    {
     "data": {
      "text/html": [
       "<div>\n",
       "<style scoped>\n",
       "    .dataframe tbody tr th:only-of-type {\n",
       "        vertical-align: middle;\n",
       "    }\n",
       "\n",
       "    .dataframe tbody tr th {\n",
       "        vertical-align: top;\n",
       "    }\n",
       "\n",
       "    .dataframe thead th {\n",
       "        text-align: right;\n",
       "    }\n",
       "</style>\n",
       "<table border=\"1\" class=\"dataframe\">\n",
       "  <thead>\n",
       "    <tr style=\"text-align: right;\">\n",
       "      <th></th>\n",
       "      <th></th>\n",
       "      <th></th>\n",
       "      <th></th>\n",
       "      <th></th>\n",
       "      <th></th>\n",
       "      <th></th>\n",
       "      <th></th>\n",
       "      <th>sum_sold</th>\n",
       "      <th>total_price</th>\n",
       "    </tr>\n",
       "    <tr>\n",
       "      <th>product_type</th>\n",
       "      <th>product_name</th>\n",
       "      <th>colour</th>\n",
       "      <th>size</th>\n",
       "      <th>product_id</th>\n",
       "      <th>num_orders</th>\n",
       "      <th>price_per_unit</th>\n",
       "      <th>quantity_store</th>\n",
       "      <th></th>\n",
       "      <th></th>\n",
       "    </tr>\n",
       "  </thead>\n",
       "  <tbody>\n",
       "    <tr>\n",
       "      <th>Shirt</th>\n",
       "      <th>Flannel</th>\n",
       "      <th>orange</th>\n",
       "      <th>L</th>\n",
       "      <th>78</th>\n",
       "      <th>13</th>\n",
       "      <th>118</th>\n",
       "      <th>59</th>\n",
       "      <td>24</td>\n",
       "      <td>2832</td>\n",
       "    </tr>\n",
       "    <tr>\n",
       "      <th rowspan=\"3\" valign=\"top\">Jacket</th>\n",
       "      <th>Puffer</th>\n",
       "      <th>green</th>\n",
       "      <th>M</th>\n",
       "      <th>472</th>\n",
       "      <th>9</th>\n",
       "      <th>118</th>\n",
       "      <th>72</th>\n",
       "      <td>23</td>\n",
       "      <td>2714</td>\n",
       "    </tr>\n",
       "    <tr>\n",
       "      <th>Trench Coat</th>\n",
       "      <th>orange</th>\n",
       "      <th>M</th>\n",
       "      <th>707</th>\n",
       "      <th>8</th>\n",
       "      <th>119</th>\n",
       "      <th>43</th>\n",
       "      <td>21</td>\n",
       "      <td>2499</td>\n",
       "    </tr>\n",
       "    <tr>\n",
       "      <th>Bomber</th>\n",
       "      <th>green</th>\n",
       "      <th>XL</th>\n",
       "      <th>579</th>\n",
       "      <th>11</th>\n",
       "      <th>100</th>\n",
       "      <th>79</th>\n",
       "      <td>24</td>\n",
       "      <td>2400</td>\n",
       "    </tr>\n",
       "    <tr>\n",
       "      <th>Trousers</th>\n",
       "      <th>Chinos</th>\n",
       "      <th>red</th>\n",
       "      <th>L</th>\n",
       "      <th>843</th>\n",
       "      <th>11</th>\n",
       "      <th>113</th>\n",
       "      <th>44</th>\n",
       "      <td>21</td>\n",
       "      <td>2373</td>\n",
       "    </tr>\n",
       "    <tr>\n",
       "      <th rowspan=\"3\" valign=\"top\">Jacket</th>\n",
       "      <th>Puffer</th>\n",
       "      <th>violet</th>\n",
       "      <th>S</th>\n",
       "      <th>486</th>\n",
       "      <th>9</th>\n",
       "      <th>118</th>\n",
       "      <th>46</th>\n",
       "      <td>20</td>\n",
       "      <td>2360</td>\n",
       "    </tr>\n",
       "    <tr>\n",
       "      <th>Peacoat</th>\n",
       "      <th>orange</th>\n",
       "      <th>XS</th>\n",
       "      <th>740</th>\n",
       "      <th>12</th>\n",
       "      <th>109</th>\n",
       "      <th>78</th>\n",
       "      <td>21</td>\n",
       "      <td>2289</td>\n",
       "    </tr>\n",
       "    <tr>\n",
       "      <th>Trench Coat</th>\n",
       "      <th>indigo</th>\n",
       "      <th>M</th>\n",
       "      <th>727</th>\n",
       "      <th>8</th>\n",
       "      <th>119</th>\n",
       "      <th>42</th>\n",
       "      <td>19</td>\n",
       "      <td>2261</td>\n",
       "    </tr>\n",
       "    <tr>\n",
       "      <th rowspan=\"2\" valign=\"top\">Shirt</th>\n",
       "      <th>Camp Collared</th>\n",
       "      <th>orange</th>\n",
       "      <th>M</th>\n",
       "      <th>182</th>\n",
       "      <th>9</th>\n",
       "      <th>98</th>\n",
       "      <th>65</th>\n",
       "      <td>23</td>\n",
       "      <td>2254</td>\n",
       "    </tr>\n",
       "    <tr>\n",
       "      <th>Flannel</th>\n",
       "      <th>red</th>\n",
       "      <th>XL</th>\n",
       "      <th>74</th>\n",
       "      <th>8</th>\n",
       "      <th>118</th>\n",
       "      <th>72</th>\n",
       "      <td>18</td>\n",
       "      <td>2124</td>\n",
       "    </tr>\n",
       "  </tbody>\n",
       "</table>\n",
       "</div>"
      ],
      "text/plain": [
       "                                                                                            sum_sold  \\\n",
       "product_type product_name  colour size product_id num_orders price_per_unit quantity_store             \n",
       "Shirt        Flannel       orange L    78         13         118            59                    24   \n",
       "Jacket       Puffer        green  M    472        9          118            72                    23   \n",
       "             Trench Coat   orange M    707        8          119            43                    21   \n",
       "             Bomber        green  XL   579        11         100            79                    24   \n",
       "Trousers     Chinos        red    L    843        11         113            44                    21   \n",
       "Jacket       Puffer        violet S    486        9          118            46                    20   \n",
       "             Peacoat       orange XS   740        12         109            78                    21   \n",
       "             Trench Coat   indigo M    727        8          119            42                    19   \n",
       "Shirt        Camp Collared orange M    182        9          98             65                    23   \n",
       "             Flannel       red    XL   74         8          118            72                    18   \n",
       "\n",
       "                                                                                            total_price  \n",
       "product_type product_name  colour size product_id num_orders price_per_unit quantity_store               \n",
       "Shirt        Flannel       orange L    78         13         118            59                     2832  \n",
       "Jacket       Puffer        green  M    472        9          118            72                     2714  \n",
       "             Trench Coat   orange M    707        8          119            43                     2499  \n",
       "             Bomber        green  XL   579        11         100            79                     2400  \n",
       "Trousers     Chinos        red    L    843        11         113            44                     2373  \n",
       "Jacket       Puffer        violet S    486        9          118            46                     2360  \n",
       "             Peacoat       orange XS   740        12         109            78                     2289  \n",
       "             Trench Coat   indigo M    727        8          119            42                     2261  \n",
       "Shirt        Camp Collared orange M    182        9          98             65                     2254  \n",
       "             Flannel       red    XL   74         8          118            72                     2124  "
      ]
     },
     "execution_count": 57,
     "metadata": {},
     "output_type": "execute_result"
    }
   ],
   "source": [
    "s = z.sort_values(by='total_price', ascending=False)\n",
    "s.head(10)"
   ]
  },
  {
   "cell_type": "code",
   "execution_count": 58,
   "id": "c47f0641",
   "metadata": {},
   "outputs": [
    {
     "data": {
      "text/html": [
       "<div>\n",
       "<style scoped>\n",
       "    .dataframe tbody tr th:only-of-type {\n",
       "        vertical-align: middle;\n",
       "    }\n",
       "\n",
       "    .dataframe tbody tr th {\n",
       "        vertical-align: top;\n",
       "    }\n",
       "\n",
       "    .dataframe thead th {\n",
       "        text-align: right;\n",
       "    }\n",
       "</style>\n",
       "<table border=\"1\" class=\"dataframe\">\n",
       "  <thead>\n",
       "    <tr style=\"text-align: right;\">\n",
       "      <th></th>\n",
       "      <th></th>\n",
       "      <th></th>\n",
       "      <th></th>\n",
       "      <th></th>\n",
       "      <th></th>\n",
       "      <th></th>\n",
       "      <th></th>\n",
       "      <th>sum_sold</th>\n",
       "      <th>total_price</th>\n",
       "    </tr>\n",
       "    <tr>\n",
       "      <th>product_type</th>\n",
       "      <th>product_name</th>\n",
       "      <th>colour</th>\n",
       "      <th>size</th>\n",
       "      <th>product_id</th>\n",
       "      <th>num_orders</th>\n",
       "      <th>price_per_unit</th>\n",
       "      <th>quantity_store</th>\n",
       "      <th></th>\n",
       "      <th></th>\n",
       "    </tr>\n",
       "  </thead>\n",
       "  <tbody>\n",
       "    <tr>\n",
       "      <th rowspan=\"2\" valign=\"top\">Jacket</th>\n",
       "      <th rowspan=\"2\" valign=\"top\">Windbreaker</th>\n",
       "      <th>blue</th>\n",
       "      <th>XS</th>\n",
       "      <th>510</th>\n",
       "      <th>1</th>\n",
       "      <th>102</th>\n",
       "      <th>59</th>\n",
       "      <td>1</td>\n",
       "      <td>102</td>\n",
       "    </tr>\n",
       "    <tr>\n",
       "      <th>orange</th>\n",
       "      <th>S</th>\n",
       "      <th>496</th>\n",
       "      <th>1</th>\n",
       "      <th>102</th>\n",
       "      <th>55</th>\n",
       "      <td>1</td>\n",
       "      <td>102</td>\n",
       "    </tr>\n",
       "    <tr>\n",
       "      <th>Trousers</th>\n",
       "      <th>Cargo Pants</th>\n",
       "      <th>red</th>\n",
       "      <th>XS</th>\n",
       "      <th>1120</th>\n",
       "      <th>1</th>\n",
       "      <th>102</th>\n",
       "      <th>72</th>\n",
       "      <td>1</td>\n",
       "      <td>102</td>\n",
       "    </tr>\n",
       "    <tr>\n",
       "      <th rowspan=\"2\" valign=\"top\">Jacket</th>\n",
       "      <th>Windbreaker</th>\n",
       "      <th>orange</th>\n",
       "      <th>XL</th>\n",
       "      <th>499</th>\n",
       "      <th>1</th>\n",
       "      <th>102</th>\n",
       "      <th>67</th>\n",
       "      <td>1</td>\n",
       "      <td>102</td>\n",
       "    </tr>\n",
       "    <tr>\n",
       "      <th>Leather</th>\n",
       "      <th>indigo</th>\n",
       "      <th>M</th>\n",
       "      <th>552</th>\n",
       "      <th>1</th>\n",
       "      <th>98</th>\n",
       "      <th>71</th>\n",
       "      <td>1</td>\n",
       "      <td>98</td>\n",
       "    </tr>\n",
       "    <tr>\n",
       "      <th>Shirt</th>\n",
       "      <th>Polo</th>\n",
       "      <th>indigo</th>\n",
       "      <th>L</th>\n",
       "      <th>273</th>\n",
       "      <th>1</th>\n",
       "      <th>95</th>\n",
       "      <th>60</th>\n",
       "      <td>1</td>\n",
       "      <td>95</td>\n",
       "    </tr>\n",
       "    <tr>\n",
       "      <th>Trousers</th>\n",
       "      <th>Cords</th>\n",
       "      <th>green</th>\n",
       "      <th>XL</th>\n",
       "      <th>894</th>\n",
       "      <th>1</th>\n",
       "      <th>94</th>\n",
       "      <th>49</th>\n",
       "      <td>1</td>\n",
       "      <td>94</td>\n",
       "    </tr>\n",
       "    <tr>\n",
       "      <th>Shirt</th>\n",
       "      <th>Linen</th>\n",
       "      <th>indigo</th>\n",
       "      <th>S</th>\n",
       "      <th>166</th>\n",
       "      <th>1</th>\n",
       "      <th>91</th>\n",
       "      <th>72</th>\n",
       "      <td>1</td>\n",
       "      <td>91</td>\n",
       "    </tr>\n",
       "    <tr>\n",
       "      <th rowspan=\"2\" valign=\"top\">Jacket</th>\n",
       "      <th rowspan=\"2\" valign=\"top\">Pullover</th>\n",
       "      <th>orange</th>\n",
       "      <th>S</th>\n",
       "      <th>776</th>\n",
       "      <th>1</th>\n",
       "      <th>91</th>\n",
       "      <th>77</th>\n",
       "      <td>1</td>\n",
       "      <td>91</td>\n",
       "    </tr>\n",
       "    <tr>\n",
       "      <th>red</th>\n",
       "      <th>XL</th>\n",
       "      <th>774</th>\n",
       "      <th>1</th>\n",
       "      <th>91</th>\n",
       "      <th>65</th>\n",
       "      <td>1</td>\n",
       "      <td>91</td>\n",
       "    </tr>\n",
       "  </tbody>\n",
       "</table>\n",
       "</div>"
      ],
      "text/plain": [
       "                                                                                           sum_sold  \\\n",
       "product_type product_name colour size product_id num_orders price_per_unit quantity_store             \n",
       "Jacket       Windbreaker  blue   XS   510        1          102            59                     1   \n",
       "                          orange S    496        1          102            55                     1   \n",
       "Trousers     Cargo Pants  red    XS   1120       1          102            72                     1   \n",
       "Jacket       Windbreaker  orange XL   499        1          102            67                     1   \n",
       "             Leather      indigo M    552        1          98             71                     1   \n",
       "Shirt        Polo         indigo L    273        1          95             60                     1   \n",
       "Trousers     Cords        green  XL   894        1          94             49                     1   \n",
       "Shirt        Linen        indigo S    166        1          91             72                     1   \n",
       "Jacket       Pullover     orange S    776        1          91             77                     1   \n",
       "                          red    XL   774        1          91             65                     1   \n",
       "\n",
       "                                                                                           total_price  \n",
       "product_type product_name colour size product_id num_orders price_per_unit quantity_store               \n",
       "Jacket       Windbreaker  blue   XS   510        1          102            59                      102  \n",
       "                          orange S    496        1          102            55                      102  \n",
       "Trousers     Cargo Pants  red    XS   1120       1          102            72                      102  \n",
       "Jacket       Windbreaker  orange XL   499        1          102            67                      102  \n",
       "             Leather      indigo M    552        1          98             71                       98  \n",
       "Shirt        Polo         indigo L    273        1          95             60                       95  \n",
       "Trousers     Cords        green  XL   894        1          94             49                       94  \n",
       "Shirt        Linen        indigo S    166        1          91             72                       91  \n",
       "Jacket       Pullover     orange S    776        1          91             77                       91  \n",
       "                          red    XL   774        1          91             65                       91  "
      ]
     },
     "execution_count": 58,
     "metadata": {},
     "output_type": "execute_result"
    }
   ],
   "source": [
    "s.tail(10)"
   ]
  },
  {
   "attachments": {},
   "cell_type": "markdown",
   "id": "246549e0",
   "metadata": {},
   "source": [
    "# اعلى شهر في قيمة المبيعات "
   ]
  },
  {
   "cell_type": "code",
   "execution_count": 59,
   "id": "b84d6cfd",
   "metadata": {},
   "outputs": [
    {
     "data": {
      "text/plain": [
       "Index(['customer_id', 'customer_name', 'gender', 'age', 'home_address',\n",
       "       'zip_code', 'city', 'state', 'country', 'order_id', 'payment',\n",
       "       'order_date', 'delivery_date', 'sales_id', 'product_id',\n",
       "       'price_per_unit', 'sum_sold', 'total_price', 'product_type',\n",
       "       'product_name', 'size', 'colour', 'quantity_store', 'year_order',\n",
       "       'month_order', 'day_order', 'year_delivery', 'month_delivery',\n",
       "       'day_delivery', 'num_orders'],\n",
       "      dtype='object')"
      ]
     },
     "execution_count": 59,
     "metadata": {},
     "output_type": "execute_result"
    }
   ],
   "source": [
    "df.columns"
   ]
  },
  {
   "cell_type": "code",
   "execution_count": 60,
   "id": "5764331f",
   "metadata": {},
   "outputs": [
    {
     "data": {
      "text/html": [
       "<div>\n",
       "<style scoped>\n",
       "    .dataframe tbody tr th:only-of-type {\n",
       "        vertical-align: middle;\n",
       "    }\n",
       "\n",
       "    .dataframe tbody tr th {\n",
       "        vertical-align: top;\n",
       "    }\n",
       "\n",
       "    .dataframe thead th {\n",
       "        text-align: right;\n",
       "    }\n",
       "</style>\n",
       "<table border=\"1\" class=\"dataframe\">\n",
       "  <thead>\n",
       "    <tr style=\"text-align: right;\">\n",
       "      <th></th>\n",
       "      <th>total_price</th>\n",
       "    </tr>\n",
       "    <tr>\n",
       "      <th>month_order</th>\n",
       "      <th></th>\n",
       "    </tr>\n",
       "  </thead>\n",
       "  <tbody>\n",
       "    <tr>\n",
       "      <th>3</th>\n",
       "      <td>131364</td>\n",
       "    </tr>\n",
       "    <tr>\n",
       "      <th>1</th>\n",
       "      <td>119333</td>\n",
       "    </tr>\n",
       "    <tr>\n",
       "      <th>7</th>\n",
       "      <td>116081</td>\n",
       "    </tr>\n",
       "    <tr>\n",
       "      <th>8</th>\n",
       "      <td>104565</td>\n",
       "    </tr>\n",
       "    <tr>\n",
       "      <th>6</th>\n",
       "      <td>101458</td>\n",
       "    </tr>\n",
       "    <tr>\n",
       "      <th>4</th>\n",
       "      <td>97530</td>\n",
       "    </tr>\n",
       "    <tr>\n",
       "      <th>9</th>\n",
       "      <td>96526</td>\n",
       "    </tr>\n",
       "    <tr>\n",
       "      <th>2</th>\n",
       "      <td>95080</td>\n",
       "    </tr>\n",
       "    <tr>\n",
       "      <th>5</th>\n",
       "      <td>85597</td>\n",
       "    </tr>\n",
       "    <tr>\n",
       "      <th>10</th>\n",
       "      <td>84266</td>\n",
       "    </tr>\n",
       "  </tbody>\n",
       "</table>\n",
       "</div>"
      ],
      "text/plain": [
       "             total_price\n",
       "month_order             \n",
       "3                 131364\n",
       "1                 119333\n",
       "7                 116081\n",
       "8                 104565\n",
       "6                 101458\n",
       "4                  97530\n",
       "9                  96526\n",
       "2                  95080\n",
       "5                  85597\n",
       "10                 84266"
      ]
     },
     "execution_count": 60,
     "metadata": {},
     "output_type": "execute_result"
    }
   ],
   "source": [
    "# Group sales by month and sum the total_price for each month\n",
    "monthly_sales = df.groupby(['month_order'])['total_price'].sum().sort_values(ascending=False).to_frame()\n",
    "monthly_sales"
   ]
  },
  {
   "cell_type": "code",
   "execution_count": 61,
   "id": "d1f6f099",
   "metadata": {},
   "outputs": [
    {
     "data": {
      "application/vnd.plotly.v1+json": {
       "config": {
        "plotlyServerURL": "https://plot.ly"
       },
       "data": [
        {
         "alignmentgroup": "True",
         "hovertemplate": "Month=%{x}<br>Total Sales=%{y}<extra></extra>",
         "legendgroup": "",
         "marker": {
          "color": "#636efa",
          "pattern": {
           "shape": ""
          }
         },
         "name": "",
         "offsetgroup": "",
         "orientation": "v",
         "showlegend": false,
         "textposition": "auto",
         "type": "bar",
         "x": [
          3,
          1,
          7,
          8,
          6,
          4,
          9,
          2,
          5,
          10
         ],
         "xaxis": "x",
         "y": [
          131364,
          119333,
          116081,
          104565,
          101458,
          97530,
          96526,
          95080,
          85597,
          84266
         ],
         "yaxis": "y"
        }
       ],
       "layout": {
        "barmode": "relative",
        "legend": {
         "tracegroupgap": 0
        },
        "template": {
         "data": {
          "bar": [
           {
            "error_x": {
             "color": "#2a3f5f"
            },
            "error_y": {
             "color": "#2a3f5f"
            },
            "marker": {
             "line": {
              "color": "#E5ECF6",
              "width": 0.5
             },
             "pattern": {
              "fillmode": "overlay",
              "size": 10,
              "solidity": 0.2
             }
            },
            "type": "bar"
           }
          ],
          "barpolar": [
           {
            "marker": {
             "line": {
              "color": "#E5ECF6",
              "width": 0.5
             },
             "pattern": {
              "fillmode": "overlay",
              "size": 10,
              "solidity": 0.2
             }
            },
            "type": "barpolar"
           }
          ],
          "carpet": [
           {
            "aaxis": {
             "endlinecolor": "#2a3f5f",
             "gridcolor": "white",
             "linecolor": "white",
             "minorgridcolor": "white",
             "startlinecolor": "#2a3f5f"
            },
            "baxis": {
             "endlinecolor": "#2a3f5f",
             "gridcolor": "white",
             "linecolor": "white",
             "minorgridcolor": "white",
             "startlinecolor": "#2a3f5f"
            },
            "type": "carpet"
           }
          ],
          "choropleth": [
           {
            "colorbar": {
             "outlinewidth": 0,
             "ticks": ""
            },
            "type": "choropleth"
           }
          ],
          "contour": [
           {
            "colorbar": {
             "outlinewidth": 0,
             "ticks": ""
            },
            "colorscale": [
             [
              0,
              "#0d0887"
             ],
             [
              0.1111111111111111,
              "#46039f"
             ],
             [
              0.2222222222222222,
              "#7201a8"
             ],
             [
              0.3333333333333333,
              "#9c179e"
             ],
             [
              0.4444444444444444,
              "#bd3786"
             ],
             [
              0.5555555555555556,
              "#d8576b"
             ],
             [
              0.6666666666666666,
              "#ed7953"
             ],
             [
              0.7777777777777778,
              "#fb9f3a"
             ],
             [
              0.8888888888888888,
              "#fdca26"
             ],
             [
              1,
              "#f0f921"
             ]
            ],
            "type": "contour"
           }
          ],
          "contourcarpet": [
           {
            "colorbar": {
             "outlinewidth": 0,
             "ticks": ""
            },
            "type": "contourcarpet"
           }
          ],
          "heatmap": [
           {
            "colorbar": {
             "outlinewidth": 0,
             "ticks": ""
            },
            "colorscale": [
             [
              0,
              "#0d0887"
             ],
             [
              0.1111111111111111,
              "#46039f"
             ],
             [
              0.2222222222222222,
              "#7201a8"
             ],
             [
              0.3333333333333333,
              "#9c179e"
             ],
             [
              0.4444444444444444,
              "#bd3786"
             ],
             [
              0.5555555555555556,
              "#d8576b"
             ],
             [
              0.6666666666666666,
              "#ed7953"
             ],
             [
              0.7777777777777778,
              "#fb9f3a"
             ],
             [
              0.8888888888888888,
              "#fdca26"
             ],
             [
              1,
              "#f0f921"
             ]
            ],
            "type": "heatmap"
           }
          ],
          "heatmapgl": [
           {
            "colorbar": {
             "outlinewidth": 0,
             "ticks": ""
            },
            "colorscale": [
             [
              0,
              "#0d0887"
             ],
             [
              0.1111111111111111,
              "#46039f"
             ],
             [
              0.2222222222222222,
              "#7201a8"
             ],
             [
              0.3333333333333333,
              "#9c179e"
             ],
             [
              0.4444444444444444,
              "#bd3786"
             ],
             [
              0.5555555555555556,
              "#d8576b"
             ],
             [
              0.6666666666666666,
              "#ed7953"
             ],
             [
              0.7777777777777778,
              "#fb9f3a"
             ],
             [
              0.8888888888888888,
              "#fdca26"
             ],
             [
              1,
              "#f0f921"
             ]
            ],
            "type": "heatmapgl"
           }
          ],
          "histogram": [
           {
            "marker": {
             "pattern": {
              "fillmode": "overlay",
              "size": 10,
              "solidity": 0.2
             }
            },
            "type": "histogram"
           }
          ],
          "histogram2d": [
           {
            "colorbar": {
             "outlinewidth": 0,
             "ticks": ""
            },
            "colorscale": [
             [
              0,
              "#0d0887"
             ],
             [
              0.1111111111111111,
              "#46039f"
             ],
             [
              0.2222222222222222,
              "#7201a8"
             ],
             [
              0.3333333333333333,
              "#9c179e"
             ],
             [
              0.4444444444444444,
              "#bd3786"
             ],
             [
              0.5555555555555556,
              "#d8576b"
             ],
             [
              0.6666666666666666,
              "#ed7953"
             ],
             [
              0.7777777777777778,
              "#fb9f3a"
             ],
             [
              0.8888888888888888,
              "#fdca26"
             ],
             [
              1,
              "#f0f921"
             ]
            ],
            "type": "histogram2d"
           }
          ],
          "histogram2dcontour": [
           {
            "colorbar": {
             "outlinewidth": 0,
             "ticks": ""
            },
            "colorscale": [
             [
              0,
              "#0d0887"
             ],
             [
              0.1111111111111111,
              "#46039f"
             ],
             [
              0.2222222222222222,
              "#7201a8"
             ],
             [
              0.3333333333333333,
              "#9c179e"
             ],
             [
              0.4444444444444444,
              "#bd3786"
             ],
             [
              0.5555555555555556,
              "#d8576b"
             ],
             [
              0.6666666666666666,
              "#ed7953"
             ],
             [
              0.7777777777777778,
              "#fb9f3a"
             ],
             [
              0.8888888888888888,
              "#fdca26"
             ],
             [
              1,
              "#f0f921"
             ]
            ],
            "type": "histogram2dcontour"
           }
          ],
          "mesh3d": [
           {
            "colorbar": {
             "outlinewidth": 0,
             "ticks": ""
            },
            "type": "mesh3d"
           }
          ],
          "parcoords": [
           {
            "line": {
             "colorbar": {
              "outlinewidth": 0,
              "ticks": ""
             }
            },
            "type": "parcoords"
           }
          ],
          "pie": [
           {
            "automargin": true,
            "type": "pie"
           }
          ],
          "scatter": [
           {
            "fillpattern": {
             "fillmode": "overlay",
             "size": 10,
             "solidity": 0.2
            },
            "type": "scatter"
           }
          ],
          "scatter3d": [
           {
            "line": {
             "colorbar": {
              "outlinewidth": 0,
              "ticks": ""
             }
            },
            "marker": {
             "colorbar": {
              "outlinewidth": 0,
              "ticks": ""
             }
            },
            "type": "scatter3d"
           }
          ],
          "scattercarpet": [
           {
            "marker": {
             "colorbar": {
              "outlinewidth": 0,
              "ticks": ""
             }
            },
            "type": "scattercarpet"
           }
          ],
          "scattergeo": [
           {
            "marker": {
             "colorbar": {
              "outlinewidth": 0,
              "ticks": ""
             }
            },
            "type": "scattergeo"
           }
          ],
          "scattergl": [
           {
            "marker": {
             "colorbar": {
              "outlinewidth": 0,
              "ticks": ""
             }
            },
            "type": "scattergl"
           }
          ],
          "scattermapbox": [
           {
            "marker": {
             "colorbar": {
              "outlinewidth": 0,
              "ticks": ""
             }
            },
            "type": "scattermapbox"
           }
          ],
          "scatterpolar": [
           {
            "marker": {
             "colorbar": {
              "outlinewidth": 0,
              "ticks": ""
             }
            },
            "type": "scatterpolar"
           }
          ],
          "scatterpolargl": [
           {
            "marker": {
             "colorbar": {
              "outlinewidth": 0,
              "ticks": ""
             }
            },
            "type": "scatterpolargl"
           }
          ],
          "scatterternary": [
           {
            "marker": {
             "colorbar": {
              "outlinewidth": 0,
              "ticks": ""
             }
            },
            "type": "scatterternary"
           }
          ],
          "surface": [
           {
            "colorbar": {
             "outlinewidth": 0,
             "ticks": ""
            },
            "colorscale": [
             [
              0,
              "#0d0887"
             ],
             [
              0.1111111111111111,
              "#46039f"
             ],
             [
              0.2222222222222222,
              "#7201a8"
             ],
             [
              0.3333333333333333,
              "#9c179e"
             ],
             [
              0.4444444444444444,
              "#bd3786"
             ],
             [
              0.5555555555555556,
              "#d8576b"
             ],
             [
              0.6666666666666666,
              "#ed7953"
             ],
             [
              0.7777777777777778,
              "#fb9f3a"
             ],
             [
              0.8888888888888888,
              "#fdca26"
             ],
             [
              1,
              "#f0f921"
             ]
            ],
            "type": "surface"
           }
          ],
          "table": [
           {
            "cells": {
             "fill": {
              "color": "#EBF0F8"
             },
             "line": {
              "color": "white"
             }
            },
            "header": {
             "fill": {
              "color": "#C8D4E3"
             },
             "line": {
              "color": "white"
             }
            },
            "type": "table"
           }
          ]
         },
         "layout": {
          "annotationdefaults": {
           "arrowcolor": "#2a3f5f",
           "arrowhead": 0,
           "arrowwidth": 1
          },
          "autotypenumbers": "strict",
          "coloraxis": {
           "colorbar": {
            "outlinewidth": 0,
            "ticks": ""
           }
          },
          "colorscale": {
           "diverging": [
            [
             0,
             "#8e0152"
            ],
            [
             0.1,
             "#c51b7d"
            ],
            [
             0.2,
             "#de77ae"
            ],
            [
             0.3,
             "#f1b6da"
            ],
            [
             0.4,
             "#fde0ef"
            ],
            [
             0.5,
             "#f7f7f7"
            ],
            [
             0.6,
             "#e6f5d0"
            ],
            [
             0.7,
             "#b8e186"
            ],
            [
             0.8,
             "#7fbc41"
            ],
            [
             0.9,
             "#4d9221"
            ],
            [
             1,
             "#276419"
            ]
           ],
           "sequential": [
            [
             0,
             "#0d0887"
            ],
            [
             0.1111111111111111,
             "#46039f"
            ],
            [
             0.2222222222222222,
             "#7201a8"
            ],
            [
             0.3333333333333333,
             "#9c179e"
            ],
            [
             0.4444444444444444,
             "#bd3786"
            ],
            [
             0.5555555555555556,
             "#d8576b"
            ],
            [
             0.6666666666666666,
             "#ed7953"
            ],
            [
             0.7777777777777778,
             "#fb9f3a"
            ],
            [
             0.8888888888888888,
             "#fdca26"
            ],
            [
             1,
             "#f0f921"
            ]
           ],
           "sequentialminus": [
            [
             0,
             "#0d0887"
            ],
            [
             0.1111111111111111,
             "#46039f"
            ],
            [
             0.2222222222222222,
             "#7201a8"
            ],
            [
             0.3333333333333333,
             "#9c179e"
            ],
            [
             0.4444444444444444,
             "#bd3786"
            ],
            [
             0.5555555555555556,
             "#d8576b"
            ],
            [
             0.6666666666666666,
             "#ed7953"
            ],
            [
             0.7777777777777778,
             "#fb9f3a"
            ],
            [
             0.8888888888888888,
             "#fdca26"
            ],
            [
             1,
             "#f0f921"
            ]
           ]
          },
          "colorway": [
           "#636efa",
           "#EF553B",
           "#00cc96",
           "#ab63fa",
           "#FFA15A",
           "#19d3f3",
           "#FF6692",
           "#B6E880",
           "#FF97FF",
           "#FECB52"
          ],
          "font": {
           "color": "#2a3f5f"
          },
          "geo": {
           "bgcolor": "white",
           "lakecolor": "white",
           "landcolor": "#E5ECF6",
           "showlakes": true,
           "showland": true,
           "subunitcolor": "white"
          },
          "hoverlabel": {
           "align": "left"
          },
          "hovermode": "closest",
          "mapbox": {
           "style": "light"
          },
          "paper_bgcolor": "white",
          "plot_bgcolor": "#E5ECF6",
          "polar": {
           "angularaxis": {
            "gridcolor": "white",
            "linecolor": "white",
            "ticks": ""
           },
           "bgcolor": "#E5ECF6",
           "radialaxis": {
            "gridcolor": "white",
            "linecolor": "white",
            "ticks": ""
           }
          },
          "scene": {
           "xaxis": {
            "backgroundcolor": "#E5ECF6",
            "gridcolor": "white",
            "gridwidth": 2,
            "linecolor": "white",
            "showbackground": true,
            "ticks": "",
            "zerolinecolor": "white"
           },
           "yaxis": {
            "backgroundcolor": "#E5ECF6",
            "gridcolor": "white",
            "gridwidth": 2,
            "linecolor": "white",
            "showbackground": true,
            "ticks": "",
            "zerolinecolor": "white"
           },
           "zaxis": {
            "backgroundcolor": "#E5ECF6",
            "gridcolor": "white",
            "gridwidth": 2,
            "linecolor": "white",
            "showbackground": true,
            "ticks": "",
            "zerolinecolor": "white"
           }
          },
          "shapedefaults": {
           "line": {
            "color": "#2a3f5f"
           }
          },
          "ternary": {
           "aaxis": {
            "gridcolor": "white",
            "linecolor": "white",
            "ticks": ""
           },
           "baxis": {
            "gridcolor": "white",
            "linecolor": "white",
            "ticks": ""
           },
           "bgcolor": "#E5ECF6",
           "caxis": {
            "gridcolor": "white",
            "linecolor": "white",
            "ticks": ""
           }
          },
          "title": {
           "x": 0.05
          },
          "xaxis": {
           "automargin": true,
           "gridcolor": "white",
           "linecolor": "white",
           "ticks": "",
           "title": {
            "standoff": 15
           },
           "zerolinecolor": "white",
           "zerolinewidth": 2
          },
          "yaxis": {
           "automargin": true,
           "gridcolor": "white",
           "linecolor": "white",
           "ticks": "",
           "title": {
            "standoff": 15
           },
           "zerolinecolor": "white",
           "zerolinewidth": 2
          }
         }
        },
        "title": {
         "text": "Total Sales by Month"
        },
        "xaxis": {
         "anchor": "y",
         "domain": [
          0,
          1
         ],
         "title": {
          "text": "Month"
         }
        },
        "yaxis": {
         "anchor": "x",
         "domain": [
          0,
          1
         ],
         "title": {
          "text": "Total Sales"
         }
        }
       }
      }
     },
     "metadata": {},
     "output_type": "display_data"
    }
   ],
   "source": [
    "#Reset the index and rename the columns for Plotly Express\n",
    "monthly_sales = monthly_sales.reset_index()\n",
    "monthly_sales.columns = ['Month', 'Total Sales']\n",
    "\n",
    "# Create a bar chart of monthly sales using Plotly Express\n",
    "fig = px.bar(monthly_sales, x='Month', y='Total Sales', title='Total Sales by Month')\n",
    "\n",
    "# Show the plot\n",
    "fig.show()"
   ]
  },
  {
   "cell_type": "code",
   "execution_count": 67,
   "id": "7b4c595f",
   "metadata": {},
   "outputs": [
    {
     "data": {
      "text/html": [
       "<div>\n",
       "<style scoped>\n",
       "    .dataframe tbody tr th:only-of-type {\n",
       "        vertical-align: middle;\n",
       "    }\n",
       "\n",
       "    .dataframe tbody tr th {\n",
       "        vertical-align: top;\n",
       "    }\n",
       "\n",
       "    .dataframe thead th {\n",
       "        text-align: right;\n",
       "    }\n",
       "</style>\n",
       "<table border=\"1\" class=\"dataframe\">\n",
       "  <thead>\n",
       "    <tr style=\"text-align: right;\">\n",
       "      <th></th>\n",
       "      <th></th>\n",
       "      <th></th>\n",
       "      <th></th>\n",
       "      <th></th>\n",
       "      <th></th>\n",
       "      <th></th>\n",
       "      <th>total_price</th>\n",
       "    </tr>\n",
       "    <tr>\n",
       "      <th>product_id</th>\n",
       "      <th>product_type</th>\n",
       "      <th>product_name</th>\n",
       "      <th>size</th>\n",
       "      <th>colour</th>\n",
       "      <th>quantity_store</th>\n",
       "      <th>price_per_unit</th>\n",
       "      <th></th>\n",
       "    </tr>\n",
       "  </thead>\n",
       "  <tbody>\n",
       "    <tr>\n",
       "      <th>719</th>\n",
       "      <th>Jacket</th>\n",
       "      <th>Trench Coat</th>\n",
       "      <th>XL</th>\n",
       "      <th>green</th>\n",
       "      <th>53</th>\n",
       "      <th>119</th>\n",
       "      <td>1071</td>\n",
       "    </tr>\n",
       "    <tr>\n",
       "      <th>1084</th>\n",
       "      <th>Trousers</th>\n",
       "      <th>Joggers</th>\n",
       "      <th>XL</th>\n",
       "      <th>violet</th>\n",
       "      <th>40</th>\n",
       "      <th>93</th>\n",
       "      <td>930</td>\n",
       "    </tr>\n",
       "    <tr>\n",
       "      <th>1114</th>\n",
       "      <th>Trousers</th>\n",
       "      <th>Cropped</th>\n",
       "      <th>XL</th>\n",
       "      <th>indigo</th>\n",
       "      <th>58</th>\n",
       "      <th>115</th>\n",
       "      <td>920</td>\n",
       "    </tr>\n",
       "    <tr>\n",
       "      <th>970</th>\n",
       "      <th>Trousers</th>\n",
       "      <th>Slim-Fit</th>\n",
       "      <th>XS</th>\n",
       "      <th>indigo</th>\n",
       "      <th>74</th>\n",
       "      <th>97</th>\n",
       "      <td>776</td>\n",
       "    </tr>\n",
       "    <tr>\n",
       "      <th>90</th>\n",
       "      <th>Shirt</th>\n",
       "      <th>Flannel</th>\n",
       "      <th>XS</th>\n",
       "      <th>blue</th>\n",
       "      <th>62</th>\n",
       "      <th>118</th>\n",
       "      <td>708</td>\n",
       "    </tr>\n",
       "    <tr>\n",
       "      <th>...</th>\n",
       "      <th>...</th>\n",
       "      <th>...</th>\n",
       "      <th>...</th>\n",
       "      <th>...</th>\n",
       "      <th>...</th>\n",
       "      <th>...</th>\n",
       "      <td>...</td>\n",
       "    </tr>\n",
       "    <tr>\n",
       "      <th>689</th>\n",
       "      <th>Jacket</th>\n",
       "      <th>Parka</th>\n",
       "      <th>XL</th>\n",
       "      <th>blue</th>\n",
       "      <th>47</th>\n",
       "      <th>113</th>\n",
       "      <td>339</td>\n",
       "    </tr>\n",
       "    <tr>\n",
       "      <th>688</th>\n",
       "      <th>Jacket</th>\n",
       "      <th>Parka</th>\n",
       "      <th>L</th>\n",
       "      <th>blue</th>\n",
       "      <th>61</th>\n",
       "      <th>113</th>\n",
       "      <td>339</td>\n",
       "    </tr>\n",
       "    <tr>\n",
       "      <th>857</th>\n",
       "      <th>Trousers</th>\n",
       "      <th>Chinos</th>\n",
       "      <th>M</th>\n",
       "      <th>green</th>\n",
       "      <th>49</th>\n",
       "      <th>113</th>\n",
       "      <td>339</td>\n",
       "    </tr>\n",
       "    <tr>\n",
       "      <th>841</th>\n",
       "      <th>Trousers</th>\n",
       "      <th>Chinos</th>\n",
       "      <th>S</th>\n",
       "      <th>red</th>\n",
       "      <th>62</th>\n",
       "      <th>113</th>\n",
       "      <td>339</td>\n",
       "    </tr>\n",
       "    <tr>\n",
       "      <th>666</th>\n",
       "      <th>Jacket</th>\n",
       "      <th>Parka</th>\n",
       "      <th>S</th>\n",
       "      <th>red</th>\n",
       "      <th>66</th>\n",
       "      <th>113</th>\n",
       "      <td>339</td>\n",
       "    </tr>\n",
       "  </tbody>\n",
       "</table>\n",
       "<p>100 rows × 1 columns</p>\n",
       "</div>"
      ],
      "text/plain": [
       "                                                                                total_price\n",
       "product_id product_type product_name size colour quantity_store price_per_unit             \n",
       "719        Jacket       Trench Coat  XL   green  53             119                    1071\n",
       "1084       Trousers     Joggers      XL   violet 40             93                      930\n",
       "1114       Trousers     Cropped      XL   indigo 58             115                     920\n",
       "970        Trousers     Slim-Fit     XS   indigo 74             97                      776\n",
       "90         Shirt        Flannel      XS   blue   62             118                     708\n",
       "...                                                                                     ...\n",
       "689        Jacket       Parka        XL   blue   47             113                     339\n",
       "688        Jacket       Parka        L    blue   61             113                     339\n",
       "857        Trousers     Chinos       M    green  49             113                     339\n",
       "841        Trousers     Chinos       S    red    62             113                     339\n",
       "666        Jacket       Parka        S    red    66             113                     339\n",
       "\n",
       "[100 rows x 1 columns]"
      ]
     },
     "execution_count": 67,
     "metadata": {},
     "output_type": "execute_result"
    }
   ],
   "source": [
    "# Get the month with the highest sales\n",
    "highest_month = monthly_sales.index[1]\n",
    "\n",
    "# Filter sales data to include only the highest month\n",
    "highest_month_sales = df[df['month_order'] == highest_month]\n",
    "\n",
    "# Group sales by product and sum the total_price for each product\n",
    "product_money_sales = highest_month_sales.groupby(['product_id','product_type','product_name','size','colour','quantity_store','price_per_unit'])['total_price'].sum().sort_values(ascending=False).to_frame()\n",
    "\n",
    "# Get the top 10 products\n",
    "top_revenue_products = product_money_sales.head(100)\n",
    "top_revenue_products\n",
    "\n"
   ]
  },
  {
   "cell_type": "code",
   "execution_count": 68,
   "id": "225a4e82",
   "metadata": {},
   "outputs": [
    {
     "data": {
      "text/html": [
       "<div>\n",
       "<style scoped>\n",
       "    .dataframe tbody tr th:only-of-type {\n",
       "        vertical-align: middle;\n",
       "    }\n",
       "\n",
       "    .dataframe tbody tr th {\n",
       "        vertical-align: top;\n",
       "    }\n",
       "\n",
       "    .dataframe thead th {\n",
       "        text-align: right;\n",
       "    }\n",
       "</style>\n",
       "<table border=\"1\" class=\"dataframe\">\n",
       "  <thead>\n",
       "    <tr style=\"text-align: right;\">\n",
       "      <th></th>\n",
       "      <th></th>\n",
       "      <th></th>\n",
       "      <th></th>\n",
       "      <th></th>\n",
       "      <th></th>\n",
       "      <th></th>\n",
       "      <th>sum_sold</th>\n",
       "    </tr>\n",
       "    <tr>\n",
       "      <th>product_id</th>\n",
       "      <th>product_type</th>\n",
       "      <th>product_name</th>\n",
       "      <th>size</th>\n",
       "      <th>colour</th>\n",
       "      <th>quantity_store</th>\n",
       "      <th>price_per_unit</th>\n",
       "      <th></th>\n",
       "    </tr>\n",
       "  </thead>\n",
       "  <tbody>\n",
       "    <tr>\n",
       "      <th>1084</th>\n",
       "      <th>Trousers</th>\n",
       "      <th>Joggers</th>\n",
       "      <th>XL</th>\n",
       "      <th>violet</th>\n",
       "      <th>40</th>\n",
       "      <th>93</th>\n",
       "      <td>10</td>\n",
       "    </tr>\n",
       "    <tr>\n",
       "      <th>719</th>\n",
       "      <th>Jacket</th>\n",
       "      <th>Trench Coat</th>\n",
       "      <th>XL</th>\n",
       "      <th>green</th>\n",
       "      <th>53</th>\n",
       "      <th>119</th>\n",
       "      <td>9</td>\n",
       "    </tr>\n",
       "    <tr>\n",
       "      <th>970</th>\n",
       "      <th>Trousers</th>\n",
       "      <th>Slim-Fit</th>\n",
       "      <th>XS</th>\n",
       "      <th>indigo</th>\n",
       "      <th>74</th>\n",
       "      <th>97</th>\n",
       "      <td>8</td>\n",
       "    </tr>\n",
       "    <tr>\n",
       "      <th>1114</th>\n",
       "      <th>Trousers</th>\n",
       "      <th>Cropped</th>\n",
       "      <th>XL</th>\n",
       "      <th>indigo</th>\n",
       "      <th>58</th>\n",
       "      <th>115</th>\n",
       "      <td>8</td>\n",
       "    </tr>\n",
       "    <tr>\n",
       "      <th>4</th>\n",
       "      <th>Shirt</th>\n",
       "      <th>Oxford Cloth</th>\n",
       "      <th>XL</th>\n",
       "      <th>red</th>\n",
       "      <th>47</th>\n",
       "      <th>96</th>\n",
       "      <td>6</td>\n",
       "    </tr>\n",
       "    <tr>\n",
       "      <th>...</th>\n",
       "      <th>...</th>\n",
       "      <th>...</th>\n",
       "      <th>...</th>\n",
       "      <th>...</th>\n",
       "      <th>...</th>\n",
       "      <th>...</th>\n",
       "      <td>...</td>\n",
       "    </tr>\n",
       "    <tr>\n",
       "      <th>493</th>\n",
       "      <th>Jacket</th>\n",
       "      <th>Windbreaker</th>\n",
       "      <th>L</th>\n",
       "      <th>red</th>\n",
       "      <th>40</th>\n",
       "      <th>102</th>\n",
       "      <td>3</td>\n",
       "    </tr>\n",
       "    <tr>\n",
       "      <th>506</th>\n",
       "      <th>Jacket</th>\n",
       "      <th>Windbreaker</th>\n",
       "      <th>S</th>\n",
       "      <th>green</th>\n",
       "      <th>65</th>\n",
       "      <th>102</th>\n",
       "      <td>3</td>\n",
       "    </tr>\n",
       "    <tr>\n",
       "      <th>513</th>\n",
       "      <th>Jacket</th>\n",
       "      <th>Windbreaker</th>\n",
       "      <th>L</th>\n",
       "      <th>blue</th>\n",
       "      <th>41</th>\n",
       "      <th>102</th>\n",
       "      <td>3</td>\n",
       "    </tr>\n",
       "    <tr>\n",
       "      <th>472</th>\n",
       "      <th>Jacket</th>\n",
       "      <th>Puffer</th>\n",
       "      <th>M</th>\n",
       "      <th>green</th>\n",
       "      <th>72</th>\n",
       "      <th>118</th>\n",
       "      <td>3</td>\n",
       "    </tr>\n",
       "    <tr>\n",
       "      <th>1214</th>\n",
       "      <th>Trousers</th>\n",
       "      <th>Pleated</th>\n",
       "      <th>XL</th>\n",
       "      <th>blue</th>\n",
       "      <th>55</th>\n",
       "      <th>105</th>\n",
       "      <td>3</td>\n",
       "    </tr>\n",
       "  </tbody>\n",
       "</table>\n",
       "<p>100 rows × 1 columns</p>\n",
       "</div>"
      ],
      "text/plain": [
       "                                                                                sum_sold\n",
       "product_id product_type product_name size colour quantity_store price_per_unit          \n",
       "1084       Trousers     Joggers      XL   violet 40             93                    10\n",
       "719        Jacket       Trench Coat  XL   green  53             119                    9\n",
       "970        Trousers     Slim-Fit     XS   indigo 74             97                     8\n",
       "1114       Trousers     Cropped      XL   indigo 58             115                    8\n",
       "4          Shirt        Oxford Cloth XL   red    47             96                     6\n",
       "...                                                                                  ...\n",
       "493        Jacket       Windbreaker  L    red    40             102                    3\n",
       "506        Jacket       Windbreaker  S    green  65             102                    3\n",
       "513        Jacket       Windbreaker  L    blue   41             102                    3\n",
       "472        Jacket       Puffer       M    green  72             118                    3\n",
       "1214       Trousers     Pleated      XL   blue   55             105                    3\n",
       "\n",
       "[100 rows x 1 columns]"
      ]
     },
     "execution_count": 68,
     "metadata": {},
     "output_type": "execute_result"
    }
   ],
   "source": [
    "product_sales_order = highest_month_sales.groupby(['product_id','product_type','product_name','size','colour','quantity_store','price_per_unit'])['sum_sold'].sum().sort_values(ascending=False).to_frame()\n",
    "\n",
    "# Get the top 10 products\n",
    "top_products_num_sold = product_sales_order.head(100)\n",
    "top_products_num_sold"
   ]
  },
  {
   "cell_type": "code",
   "execution_count": 69,
   "id": "9ae5c1d3",
   "metadata": {},
   "outputs": [
    {
     "data": {
      "text/html": [
       "<div>\n",
       "<style scoped>\n",
       "    .dataframe tbody tr th:only-of-type {\n",
       "        vertical-align: middle;\n",
       "    }\n",
       "\n",
       "    .dataframe tbody tr th {\n",
       "        vertical-align: top;\n",
       "    }\n",
       "\n",
       "    .dataframe thead th {\n",
       "        text-align: right;\n",
       "    }\n",
       "</style>\n",
       "<table border=\"1\" class=\"dataframe\">\n",
       "  <thead>\n",
       "    <tr style=\"text-align: right;\">\n",
       "      <th></th>\n",
       "      <th></th>\n",
       "      <th></th>\n",
       "      <th></th>\n",
       "      <th></th>\n",
       "      <th></th>\n",
       "      <th></th>\n",
       "      <th>total_price</th>\n",
       "      <th>sum_sold</th>\n",
       "    </tr>\n",
       "    <tr>\n",
       "      <th>product_id</th>\n",
       "      <th>product_type</th>\n",
       "      <th>product_name</th>\n",
       "      <th>size</th>\n",
       "      <th>colour</th>\n",
       "      <th>quantity_store</th>\n",
       "      <th>price_per_unit</th>\n",
       "      <th></th>\n",
       "      <th></th>\n",
       "    </tr>\n",
       "  </thead>\n",
       "  <tbody>\n",
       "    <tr>\n",
       "      <th>719</th>\n",
       "      <th>Jacket</th>\n",
       "      <th>Trench Coat</th>\n",
       "      <th>XL</th>\n",
       "      <th>green</th>\n",
       "      <th>53</th>\n",
       "      <th>119</th>\n",
       "      <td>1071</td>\n",
       "      <td>9</td>\n",
       "    </tr>\n",
       "    <tr>\n",
       "      <th>1084</th>\n",
       "      <th>Trousers</th>\n",
       "      <th>Joggers</th>\n",
       "      <th>XL</th>\n",
       "      <th>violet</th>\n",
       "      <th>40</th>\n",
       "      <th>93</th>\n",
       "      <td>930</td>\n",
       "      <td>10</td>\n",
       "    </tr>\n",
       "    <tr>\n",
       "      <th>1114</th>\n",
       "      <th>Trousers</th>\n",
       "      <th>Cropped</th>\n",
       "      <th>XL</th>\n",
       "      <th>indigo</th>\n",
       "      <th>58</th>\n",
       "      <th>115</th>\n",
       "      <td>920</td>\n",
       "      <td>8</td>\n",
       "    </tr>\n",
       "    <tr>\n",
       "      <th>970</th>\n",
       "      <th>Trousers</th>\n",
       "      <th>Slim-Fit</th>\n",
       "      <th>XS</th>\n",
       "      <th>indigo</th>\n",
       "      <th>74</th>\n",
       "      <th>97</th>\n",
       "      <td>776</td>\n",
       "      <td>8</td>\n",
       "    </tr>\n",
       "    <tr>\n",
       "      <th>90</th>\n",
       "      <th>Shirt</th>\n",
       "      <th>Flannel</th>\n",
       "      <th>XS</th>\n",
       "      <th>blue</th>\n",
       "      <th>62</th>\n",
       "      <th>118</th>\n",
       "      <td>708</td>\n",
       "      <td>6</td>\n",
       "    </tr>\n",
       "    <tr>\n",
       "      <th>...</th>\n",
       "      <th>...</th>\n",
       "      <th>...</th>\n",
       "      <th>...</th>\n",
       "      <th>...</th>\n",
       "      <th>...</th>\n",
       "      <th>...</th>\n",
       "      <td>...</td>\n",
       "      <td>...</td>\n",
       "    </tr>\n",
       "    <tr>\n",
       "      <th>479</th>\n",
       "      <th>Jacket</th>\n",
       "      <th>Puffer</th>\n",
       "      <th>XL</th>\n",
       "      <th>blue</th>\n",
       "      <th>80</th>\n",
       "      <th>118</th>\n",
       "      <td>354</td>\n",
       "      <td>3</td>\n",
       "    </tr>\n",
       "    <tr>\n",
       "      <th>694</th>\n",
       "      <th>Jacket</th>\n",
       "      <th>Parka</th>\n",
       "      <th>XL</th>\n",
       "      <th>indigo</th>\n",
       "      <th>78</th>\n",
       "      <th>113</th>\n",
       "      <td>339</td>\n",
       "      <td>3</td>\n",
       "    </tr>\n",
       "    <tr>\n",
       "      <th>689</th>\n",
       "      <th>Jacket</th>\n",
       "      <th>Parka</th>\n",
       "      <th>XL</th>\n",
       "      <th>blue</th>\n",
       "      <th>47</th>\n",
       "      <th>113</th>\n",
       "      <td>339</td>\n",
       "      <td>3</td>\n",
       "    </tr>\n",
       "    <tr>\n",
       "      <th>688</th>\n",
       "      <th>Jacket</th>\n",
       "      <th>Parka</th>\n",
       "      <th>L</th>\n",
       "      <th>blue</th>\n",
       "      <th>61</th>\n",
       "      <th>113</th>\n",
       "      <td>339</td>\n",
       "      <td>3</td>\n",
       "    </tr>\n",
       "    <tr>\n",
       "      <th>666</th>\n",
       "      <th>Jacket</th>\n",
       "      <th>Parka</th>\n",
       "      <th>S</th>\n",
       "      <th>red</th>\n",
       "      <th>66</th>\n",
       "      <th>113</th>\n",
       "      <td>339</td>\n",
       "      <td>3</td>\n",
       "    </tr>\n",
       "  </tbody>\n",
       "</table>\n",
       "<p>75 rows × 2 columns</p>\n",
       "</div>"
      ],
      "text/plain": [
       "                                                                                total_price  \\\n",
       "product_id product_type product_name size colour quantity_store price_per_unit                \n",
       "719        Jacket       Trench Coat  XL   green  53             119                    1071   \n",
       "1084       Trousers     Joggers      XL   violet 40             93                      930   \n",
       "1114       Trousers     Cropped      XL   indigo 58             115                     920   \n",
       "970        Trousers     Slim-Fit     XS   indigo 74             97                      776   \n",
       "90         Shirt        Flannel      XS   blue   62             118                     708   \n",
       "...                                                                                     ...   \n",
       "479        Jacket       Puffer       XL   blue   80             118                     354   \n",
       "694        Jacket       Parka        XL   indigo 78             113                     339   \n",
       "689        Jacket       Parka        XL   blue   47             113                     339   \n",
       "688        Jacket       Parka        L    blue   61             113                     339   \n",
       "666        Jacket       Parka        S    red    66             113                     339   \n",
       "\n",
       "                                                                                sum_sold  \n",
       "product_id product_type product_name size colour quantity_store price_per_unit            \n",
       "719        Jacket       Trench Coat  XL   green  53             119                    9  \n",
       "1084       Trousers     Joggers      XL   violet 40             93                    10  \n",
       "1114       Trousers     Cropped      XL   indigo 58             115                    8  \n",
       "970        Trousers     Slim-Fit     XS   indigo 74             97                     8  \n",
       "90         Shirt        Flannel      XS   blue   62             118                    6  \n",
       "...                                                                                  ...  \n",
       "479        Jacket       Puffer       XL   blue   80             118                    3  \n",
       "694        Jacket       Parka        XL   indigo 78             113                    3  \n",
       "689        Jacket       Parka        XL   blue   47             113                    3  \n",
       "688        Jacket       Parka        L    blue   61             113                    3  \n",
       "666        Jacket       Parka        S    red    66             113                    3  \n",
       "\n",
       "[75 rows x 2 columns]"
      ]
     },
     "execution_count": 69,
     "metadata": {},
     "output_type": "execute_result"
    }
   ],
   "source": [
    "n = pd.merge(top_revenue_products ,top_products_num_sold ,on=['product_id','product_type','product_name','size','colour','quantity_store','price_per_unit'] )\n",
    "n"
   ]
  },
  {
   "cell_type": "code",
   "execution_count": 70,
   "id": "088ce9c4",
   "metadata": {},
   "outputs": [
    {
     "data": {
      "text/html": [
       "<div>\n",
       "<style scoped>\n",
       "    .dataframe tbody tr th:only-of-type {\n",
       "        vertical-align: middle;\n",
       "    }\n",
       "\n",
       "    .dataframe tbody tr th {\n",
       "        vertical-align: top;\n",
       "    }\n",
       "\n",
       "    .dataframe thead th {\n",
       "        text-align: right;\n",
       "    }\n",
       "</style>\n",
       "<table border=\"1\" class=\"dataframe\">\n",
       "  <thead>\n",
       "    <tr style=\"text-align: right;\">\n",
       "      <th></th>\n",
       "      <th>total_price</th>\n",
       "    </tr>\n",
       "    <tr>\n",
       "      <th>size</th>\n",
       "      <th></th>\n",
       "    </tr>\n",
       "  </thead>\n",
       "  <tbody>\n",
       "    <tr>\n",
       "      <th>M</th>\n",
       "      <td>211018</td>\n",
       "    </tr>\n",
       "    <tr>\n",
       "      <th>XS</th>\n",
       "      <td>207093</td>\n",
       "    </tr>\n",
       "    <tr>\n",
       "      <th>L</th>\n",
       "      <td>206550</td>\n",
       "    </tr>\n",
       "    <tr>\n",
       "      <th>S</th>\n",
       "      <td>206492</td>\n",
       "    </tr>\n",
       "    <tr>\n",
       "      <th>XL</th>\n",
       "      <td>200647</td>\n",
       "    </tr>\n",
       "  </tbody>\n",
       "</table>\n",
       "</div>"
      ],
      "text/plain": [
       "      total_price\n",
       "size             \n",
       "M          211018\n",
       "XS         207093\n",
       "L          206550\n",
       "S          206492\n",
       "XL         200647"
      ]
     },
     "execution_count": 70,
     "metadata": {},
     "output_type": "execute_result"
    }
   ],
   "source": [
    "top_size = df.groupby(['size'])['total_price'].sum().sort_values(ascending=False).to_frame()\n",
    "top_size\n"
   ]
  },
  {
   "cell_type": "code",
   "execution_count": 71,
   "id": "62db6c58",
   "metadata": {},
   "outputs": [
    {
     "data": {
      "text/html": [
       "<div>\n",
       "<style scoped>\n",
       "    .dataframe tbody tr th:only-of-type {\n",
       "        vertical-align: middle;\n",
       "    }\n",
       "\n",
       "    .dataframe tbody tr th {\n",
       "        vertical-align: top;\n",
       "    }\n",
       "\n",
       "    .dataframe thead th {\n",
       "        text-align: right;\n",
       "    }\n",
       "</style>\n",
       "<table border=\"1\" class=\"dataframe\">\n",
       "  <thead>\n",
       "    <tr style=\"text-align: right;\">\n",
       "      <th></th>\n",
       "      <th>total_price</th>\n",
       "    </tr>\n",
       "    <tr>\n",
       "      <th>colour</th>\n",
       "      <th></th>\n",
       "    </tr>\n",
       "  </thead>\n",
       "  <tbody>\n",
       "    <tr>\n",
       "      <th>blue</th>\n",
       "      <td>158220</td>\n",
       "    </tr>\n",
       "    <tr>\n",
       "      <th>violet</th>\n",
       "      <td>149960</td>\n",
       "    </tr>\n",
       "    <tr>\n",
       "      <th>indigo</th>\n",
       "      <td>149439</td>\n",
       "    </tr>\n",
       "    <tr>\n",
       "      <th>red</th>\n",
       "      <td>145898</td>\n",
       "    </tr>\n",
       "    <tr>\n",
       "      <th>yellow</th>\n",
       "      <td>144168</td>\n",
       "    </tr>\n",
       "    <tr>\n",
       "      <th>green</th>\n",
       "      <td>143358</td>\n",
       "    </tr>\n",
       "    <tr>\n",
       "      <th>orange</th>\n",
       "      <td>140757</td>\n",
       "    </tr>\n",
       "  </tbody>\n",
       "</table>\n",
       "</div>"
      ],
      "text/plain": [
       "        total_price\n",
       "colour             \n",
       "blue         158220\n",
       "violet       149960\n",
       "indigo       149439\n",
       "red          145898\n",
       "yellow       144168\n",
       "green        143358\n",
       "orange       140757"
      ]
     },
     "execution_count": 71,
     "metadata": {},
     "output_type": "execute_result"
    }
   ],
   "source": [
    "top_colour = df.groupby(['colour'])['total_price'].sum().sort_values(ascending=False).to_frame()\n",
    "top_colour\n"
   ]
  },
  {
   "cell_type": "code",
   "execution_count": 77,
   "id": "9b6df328",
   "metadata": {},
   "outputs": [
    {
     "data": {
      "text/html": [
       "<div>\n",
       "<style scoped>\n",
       "    .dataframe tbody tr th:only-of-type {\n",
       "        vertical-align: middle;\n",
       "    }\n",
       "\n",
       "    .dataframe tbody tr th {\n",
       "        vertical-align: top;\n",
       "    }\n",
       "\n",
       "    .dataframe thead th {\n",
       "        text-align: right;\n",
       "    }\n",
       "</style>\n",
       "<table border=\"1\" class=\"dataframe\">\n",
       "  <thead>\n",
       "    <tr style=\"text-align: right;\">\n",
       "      <th></th>\n",
       "      <th>total_price</th>\n",
       "    </tr>\n",
       "    <tr>\n",
       "      <th>city</th>\n",
       "      <th></th>\n",
       "    </tr>\n",
       "  </thead>\n",
       "  <tbody>\n",
       "    <tr>\n",
       "      <th>Port Hannahburgh</th>\n",
       "      <td>7632</td>\n",
       "    </tr>\n",
       "    <tr>\n",
       "      <th>Jordanside</th>\n",
       "      <td>6640</td>\n",
       "    </tr>\n",
       "    <tr>\n",
       "      <th>East Max</th>\n",
       "      <td>6341</td>\n",
       "    </tr>\n",
       "    <tr>\n",
       "      <th>West Finnberg</th>\n",
       "      <td>5657</td>\n",
       "    </tr>\n",
       "    <tr>\n",
       "      <th>South Clairetown</th>\n",
       "      <td>5581</td>\n",
       "    </tr>\n",
       "    <tr>\n",
       "      <th>West Kai</th>\n",
       "      <td>5539</td>\n",
       "    </tr>\n",
       "    <tr>\n",
       "      <th>O'keefeton</th>\n",
       "      <td>5435</td>\n",
       "    </tr>\n",
       "    <tr>\n",
       "      <th>Rubyfort</th>\n",
       "      <td>5119</td>\n",
       "    </tr>\n",
       "    <tr>\n",
       "      <th>Tillmanview</th>\n",
       "      <td>4969</td>\n",
       "    </tr>\n",
       "    <tr>\n",
       "      <th>New Ava</th>\n",
       "      <td>4911</td>\n",
       "    </tr>\n",
       "  </tbody>\n",
       "</table>\n",
       "</div>"
      ],
      "text/plain": [
       "                  total_price\n",
       "city                         \n",
       "Port Hannahburgh         7632\n",
       "Jordanside               6640\n",
       "East Max                 6341\n",
       "West Finnberg            5657\n",
       "South Clairetown         5581\n",
       "West Kai                 5539\n",
       "O'keefeton               5435\n",
       "Rubyfort                 5119\n",
       "Tillmanview              4969\n",
       "New Ava                  4911"
      ]
     },
     "execution_count": 77,
     "metadata": {},
     "output_type": "execute_result"
    }
   ],
   "source": [
    "cities_sales = df.groupby('city')['total_price'].sum().sort_values(ascending=False).to_frame()\n",
    "cities_sales.head(10)"
   ]
  },
  {
   "cell_type": "code",
   "execution_count": 79,
   "id": "8650d44e",
   "metadata": {},
   "outputs": [
    {
     "data": {
      "text/html": [
       "<div>\n",
       "<style scoped>\n",
       "    .dataframe tbody tr th:only-of-type {\n",
       "        vertical-align: middle;\n",
       "    }\n",
       "\n",
       "    .dataframe tbody tr th {\n",
       "        vertical-align: top;\n",
       "    }\n",
       "\n",
       "    .dataframe thead th {\n",
       "        text-align: right;\n",
       "    }\n",
       "</style>\n",
       "<table border=\"1\" class=\"dataframe\">\n",
       "  <thead>\n",
       "    <tr style=\"text-align: right;\">\n",
       "      <th></th>\n",
       "      <th>total_price</th>\n",
       "    </tr>\n",
       "    <tr>\n",
       "      <th>city</th>\n",
       "      <th></th>\n",
       "    </tr>\n",
       "  </thead>\n",
       "  <tbody>\n",
       "    <tr>\n",
       "      <th>Samuelland</th>\n",
       "      <td>236</td>\n",
       "    </tr>\n",
       "    <tr>\n",
       "      <th>Samanthatown</th>\n",
       "      <td>225</td>\n",
       "    </tr>\n",
       "    <tr>\n",
       "      <th>South Tobyton</th>\n",
       "      <td>212</td>\n",
       "    </tr>\n",
       "    <tr>\n",
       "      <th>Kaihaven</th>\n",
       "      <td>205</td>\n",
       "    </tr>\n",
       "    <tr>\n",
       "      <th>Olsonbury</th>\n",
       "      <td>204</td>\n",
       "    </tr>\n",
       "    <tr>\n",
       "      <th>South Zacmouth</th>\n",
       "      <td>200</td>\n",
       "    </tr>\n",
       "    <tr>\n",
       "      <th>West Stella</th>\n",
       "      <td>186</td>\n",
       "    </tr>\n",
       "    <tr>\n",
       "      <th>Lake Nicholasfurt</th>\n",
       "      <td>183</td>\n",
       "    </tr>\n",
       "    <tr>\n",
       "      <th>West Eviebury</th>\n",
       "      <td>112</td>\n",
       "    </tr>\n",
       "    <tr>\n",
       "      <th>Imogenmouth</th>\n",
       "      <td>100</td>\n",
       "    </tr>\n",
       "  </tbody>\n",
       "</table>\n",
       "</div>"
      ],
      "text/plain": [
       "                   total_price\n",
       "city                          \n",
       "Samuelland                 236\n",
       "Samanthatown               225\n",
       "South Tobyton              212\n",
       "Kaihaven                   205\n",
       "Olsonbury                  204\n",
       "South Zacmouth             200\n",
       "West Stella                186\n",
       "Lake Nicholasfurt          183\n",
       "West Eviebury              112\n",
       "Imogenmouth                100"
      ]
     },
     "execution_count": 79,
     "metadata": {},
     "output_type": "execute_result"
    }
   ],
   "source": [
    "cities_sales.tail(10)"
   ]
  },
  {
   "cell_type": "code",
   "execution_count": null,
   "id": "cc3263f2",
   "metadata": {},
   "outputs": [],
   "source": []
  }
 ],
 "metadata": {
  "kernelspec": {
   "display_name": "Python 3 (ipykernel)",
   "language": "python",
   "name": "python3"
  },
  "language_info": {
   "codemirror_mode": {
    "name": "ipython",
    "version": 3
   },
   "file_extension": ".py",
   "mimetype": "text/x-python",
   "name": "python",
   "nbconvert_exporter": "python",
   "pygments_lexer": "ipython3",
   "version": "3.9.17"
  }
 },
 "nbformat": 4,
 "nbformat_minor": 5
}
